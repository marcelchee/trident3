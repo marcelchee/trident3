{
 "cells": [
  {
   "cell_type": "code",
   "execution_count": 1,
   "metadata": {},
   "outputs": [],
   "source": [
    "import datetime as dt\n",
    "import numpy as np\n",
    "import pandas as pd\n",
    "import scipy as sp\n",
    "import statsmodels.api as sm\n",
    "from sklearn.preprocessing import StandardScaler\n",
    "from sklearn.model_selection import GridSearchCV, RandomizedSearchCV, train_test_split\n",
    "from sklearn.feature_selection import mutual_info_classif\n",
    "from sklearn.feature_extraction.text import CountVectorizer\n",
    "from sklearn.linear_model import LogisticRegression\n",
    "from sklearn.ensemble import RandomForestClassifier, GradientBoostingClassifier, AdaBoostClassifier, BaggingClassifier\n",
    "from sklearn.svm import SVC\n",
    "from sklearn.neighbors import KNeighborsClassifier\n",
    "from sklearn.metrics import roc_curve, auc, precision_score, recall_score, f1_score, precision_recall_curve, average_precision_score, accuracy_score, confusion_matrix\n",
    "import matplotlib\n",
    "import matplotlib.pyplot as plt\n",
    "%matplotlib inline\n",
    "import pickle\n",
    "import time\n",
    "import pprint\n",
    "import imblearn\n",
    "from imblearn.over_sampling import SMOTE\n",
    "from imblearn.under_sampling import RandomUnderSampler\n",
    "from imblearn.pipeline import Pipeline\n",
    "from sksurv.preprocessing import OneHotEncoder\n"
   ]
  },
  {
   "cell_type": "code",
   "execution_count": 2,
   "metadata": {},
   "outputs": [],
   "source": [
    "#load data\n",
    "pd.set_option('display.max_columns', None)\n",
    "df = pd.read_csv('imputed_revent.csv')\n",
    "df = df.drop(axis=1, columns=['Unnamed: 0','last_careunit'])"
   ]
  },
  {
   "cell_type": "code",
   "execution_count": 3,
   "metadata": {},
   "outputs": [
    {
     "data": {
      "text/plain": [
       "'df[df==np.inf]=np.nan\\ndf.fillna(df.mean(), inplace=True)'"
      ]
     },
     "execution_count": 3,
     "metadata": {},
     "output_type": "execute_result"
    }
   ],
   "source": [
    "'''df[df==np.inf]=np.nan\n",
    "df.fillna(df.mean(), inplace=True)'''"
   ]
  },
  {
   "cell_type": "markdown",
   "metadata": {},
   "source": [
    "## 1: Post-pre-processing"
   ]
  },
  {
   "cell_type": "markdown",
   "metadata": {},
   "source": [
    "#### 1.1: Variable grouping"
   ]
  },
  {
   "cell_type": "code",
   "execution_count": 19,
   "id": "4abc5d8e",
   "metadata": {},
   "outputs": [
    {
     "name": "stdout",
     "output_type": "stream",
     "text": [
      "['temp_last', 'bg_temp_last', 'hr_last', 'spo2_last', 'rr_last', 'sbp_last', 'dbp_last', 'meanbp_last', 'cardiac_index_last', 'pt_last', 'ptt_last', 'inr_last', 'inr_1_last', 'fibrinogen_last', 'hb_last', 'hematocrit_last', 'wcc_last', 'lymphocytes_last', 'neutrophils_last', 'alp_last', 'ast_last', 'alt_last', 'bilirubin_total_last', 'chloride_last', 'magnesium_last', 'potassium_last', 'creatinine_last', 'free_calcium_last', 'sodium_last', 'bicarb_last', 'bun_last', 'hba1c_last', 'glucose_last', 'lactate_last', 'po2_last', 'pco2_last', 'baseexcess_last', 'ph_last', 'aado2_last', 'fio2_last', 'insulin_last', 'prbc_last', 'tidalvol_last', 'plt_last', 'infection_vent', 'censor']\n",
      "['temp_last', 'bg_temp_last', 'hr_last', 'spo2_last', 'rr_last', 'sbp_last', 'dbp_last', 'meanbp_last', 'cardiac_index_last', 'pt_last', 'ptt_last', 'inr_last', 'inr_1_last', 'fibrinogen_last', 'hb_last', 'hematocrit_last', 'wcc_last', 'lymphocytes_last', 'neutrophils_last', 'alp_last', 'ast_last', 'alt_last', 'bilirubin_total_last', 'chloride_last', 'magnesium_last', 'potassium_last', 'creatinine_last', 'free_calcium_last', 'sodium_last', 'bicarb_last', 'bun_last', 'hba1c_last', 'glucose_last', 'lactate_last', 'po2_last', 'pco2_last', 'baseexcess_last', 'ph_last', 'aado2_last', 'fio2_last', 'insulin_last', 'prbc_last', 'tidalvol_last', 'plt_last', 'infection_vent', 'hadm_id', 'subject_id', 'censor']\n"
     ]
    }
   ],
   "source": [
    "# variables for analysis\n",
    "categorical = ['ethnicity', \n",
    "              'marital_status',\n",
    "              'language',\n",
    "              'admission_location',\n",
    "              'gender',\n",
    "              'insurance',\n",
    "              'first_careunit',\n",
    "              'admission_type']\n",
    "proceduretype=['aortic','mit','tricuspid','pulmonary','cabg']\n",
    "ptParams = ['weight', 'height', 'bmi']\n",
    "boolFields = ['reintubation', 'liver_severe', 'liver_mild', 'rheum', 'cvd', 'aids', 'ckd', 'copd', 'arrhythmia', 'pud', 'smoking', 'pvd', 'paraplegia', \n",
    "              'ccf', 'met_ca', 't2dm', 't1dm', 'malig', 'mi', 'dementia', 'hospital_expire_flag', 'diab_un', 'diab_cc']\n",
    "ptinfo = ['hadm_id', 'subject_id']\n",
    "ptTimes = ['int_time1','ext_time1','int_time2','ext_time2','admittime', 'dischtime', 'deathtime','intime', 'outtime', 'ext_time', 'icustay_seq']\n",
    "tsColumns_first = [i for i in df.columns if '_first' in i]\n",
    "tsColumns_others = [i for i in df.columns if '_max' in i or '_min' in i or '_mean' in i]\n",
    "\n",
    "inputs = [*categorical , *proceduretype , *tsColumns_first , *ptParams , *[i for i in boolFields if i != 'reintubation']]\n",
    "inputs_all = [*categorical , *proceduretype , *tsColumns_first , *tsColumns_others, *ptParams , *[i for i in boolFields if i != 'reintubation'], 'duration1']\n",
    "outcomes = ['reintubation','hospital_expire_flag','los','duration1','duration2','icu_stay_duration']\n",
    "\n",
    "print([i for i in df.columns if i not in categorical + proceduretype + tsColumns_first + tsColumns_others + ptParams + boolFields + ptinfo + ptTimes + outcomes])\n",
    "print([i for i in df.columns if i not in inputs + outcomes + ptTimes + tsColumns_others])\n"
   ]
  },
  {
   "cell_type": "code",
   "execution_count": 20,
   "metadata": {},
   "outputs": [],
   "source": [
    "# change categorical to category type\n",
    "for col in categorical:\n",
    "    df[col] = df[col].astype('category')"
   ]
  },
  {
   "cell_type": "code",
   "execution_count": 21,
   "metadata": {},
   "outputs": [
    {
     "name": "stdout",
     "output_type": "stream",
     "text": [
      "Number censored: 4\n",
      "[2500, 2962, 3106, 8193]\n"
     ]
    }
   ],
   "source": [
    "# create censor column for death before extubation\n",
    "censor = []\n",
    "for i in range(len(df)):\n",
    "    if df['deathtime'][i] is np.NaN or df['deathtime'][i] >= df['ext_time1'][i]:\n",
    "        censor.append(True)\n",
    "    else:\n",
    "        censor.append(False)\n",
    "censored = []\n",
    "for i in range(len(censor)):\n",
    "    if censor[i] == False:\n",
    "        censored.append(i)\n",
    "print('Number censored: '+str(len(censored)))\n",
    "print(censored)\n",
    "\n",
    "df['censor'] = censor"
   ]
  },
  {
   "cell_type": "markdown",
   "metadata": {},
   "source": [
    "#### 1.2: !!X, Xt, y!!"
   ]
  },
  {
   "cell_type": "code",
   "execution_count": 22,
   "metadata": {},
   "outputs": [],
   "source": [
    "# get X, Xt and y\n",
    "X = df[inputs]\n",
    "X = df[inputs_all]\n",
    "Xt = OneHotEncoder().fit_transform(X)\n",
    "\n",
    "y = df['reintubation']"
   ]
  },
  {
   "cell_type": "code",
   "execution_count": 17,
   "metadata": {},
   "outputs": [],
   "source": [
    "# get list of top variables by mutual\n",
    "how_many_select = 40\n",
    "\n",
    "mutual_info_df = pd.DataFrame(mutual_info_classif(Xt, y, random_state=42), index=[*list(Xt.columns)])\n",
    "mutual_info_df = mutual_info_df.sort_values(by=[0])\n",
    "sel_var = list(mutual_info_df.index)[-how_many_select:]"
   ]
  },
  {
   "cell_type": "code",
   "execution_count": 18,
   "metadata": {},
   "outputs": [],
   "source": [
    "x_train, x_test, y_train, y_test = train_test_split(Xt, y, test_size=0.4, random_state=42)\n",
    "\n",
    "over = SMOTE(sampling_strategy=0.2)\n",
    "under = RandomUnderSampler(sampling_strategy=0.4)\n",
    "steps = [('o', over), ('u', under)]\n",
    "pipeline = Pipeline(steps=steps)\n",
    "x_train, y_train = pipeline.fit_resample(x_train, y_train)"
   ]
  },
  {
   "cell_type": "markdown",
   "id": "84a701fa",
   "metadata": {},
   "source": [
    "## 2: ML Classifiers"
   ]
  },
  {
   "cell_type": "code",
   "execution_count": 23,
   "metadata": {},
   "outputs": [],
   "source": [
    "# function for computing scores of a given model\n",
    "score = lambda y_test, y_pred: pd.Series([accuracy_score(y_test, y_pred), \n",
    "                                        accuracy_score(y_test[y_test==0], y_pred[y_test==0]),\n",
    "                                        accuracy_score(y_test[y_test==1], y_pred[y_test==1]),\n",
    "                                        precision_score(y_test, y_pred),\n",
    "                                        f1_score(y_test, y_pred)],\n",
    "                                        index=['Overall accuracy', 'Accuracy on 0 / Specificity', 'Accuracy on 1 / Sensitivity / Recall', 'Precision / PPV', 'F1 score'])"
   ]
  },
  {
   "cell_type": "code",
   "execution_count": 24,
   "metadata": {},
   "outputs": [],
   "source": [
    "# k-nearest neighbors\n",
    "knn = KNeighborsClassifier()\n",
    "knn.fit(x_train, y_train)\n",
    "knn_scores = score(y_test, knn.predict(x_test))\n",
    "\n",
    "# random forest\n",
    "rf = RandomForestClassifier(random_state = 42)\n",
    "rf.fit(x_train, y_train)\n",
    "rf_scores = score(y_test, rf.predict(x_test))\n",
    "\n",
    "# ada boosting\n",
    "ada = AdaBoostClassifier(random_state = 42)\n",
    "ada.fit(x_train, y_train)\n",
    "ada_scores = score(y_test, ada.predict(x_test))\n",
    "\n",
    "# gradient boosting\n",
    "gb = GradientBoostingClassifier(random_state = 42)\n",
    "gb.fit(x_train, y_train)\n",
    "gb_scores = score(y_test, gb.predict(x_test))\n",
    "\n",
    "# support vector machine\n",
    "svm = SVC()\n",
    "svm.fit(x_train, y_train)\n",
    "svm_scores = score(y_test, svm.predict(x_test))\n",
    "\n",
    "# bagging\n",
    "bag = BaggingClassifier()\n",
    "bag.fit(x_train, y_train)\n",
    "bag_scores = score(y_test, bag.predict(x_test))"
   ]
  },
  {
   "cell_type": "code",
   "execution_count": 25,
   "metadata": {},
   "outputs": [
    {
     "data": {
      "text/html": [
       "<div>\n",
       "<style scoped>\n",
       "    .dataframe tbody tr th:only-of-type {\n",
       "        vertical-align: middle;\n",
       "    }\n",
       "\n",
       "    .dataframe tbody tr th {\n",
       "        vertical-align: top;\n",
       "    }\n",
       "\n",
       "    .dataframe thead th {\n",
       "        text-align: right;\n",
       "    }\n",
       "</style>\n",
       "<table border=\"1\" class=\"dataframe\">\n",
       "  <thead>\n",
       "    <tr style=\"text-align: right;\">\n",
       "      <th></th>\n",
       "      <th>KNN</th>\n",
       "      <th>RF</th>\n",
       "      <th>ADA</th>\n",
       "      <th>GB</th>\n",
       "      <th>SVM</th>\n",
       "      <th>BAG</th>\n",
       "    </tr>\n",
       "  </thead>\n",
       "  <tbody>\n",
       "    <tr>\n",
       "      <th>Overall accuracy</th>\n",
       "      <td>0.788127</td>\n",
       "      <td>0.925858</td>\n",
       "      <td>0.894723</td>\n",
       "      <td>0.925594</td>\n",
       "      <td>0.931135</td>\n",
       "      <td>0.914512</td>\n",
       "    </tr>\n",
       "    <tr>\n",
       "      <th>Accuracy on 0 / Specificity</th>\n",
       "      <td>0.821651</td>\n",
       "      <td>0.975692</td>\n",
       "      <td>0.933013</td>\n",
       "      <td>0.972866</td>\n",
       "      <td>0.989825</td>\n",
       "      <td>0.961843</td>\n",
       "    </tr>\n",
       "    <tr>\n",
       "      <th>Accuracy on 1 / Sensitivity / Recall</th>\n",
       "      <td>0.317460</td>\n",
       "      <td>0.226190</td>\n",
       "      <td>0.357143</td>\n",
       "      <td>0.261905</td>\n",
       "      <td>0.107143</td>\n",
       "      <td>0.250000</td>\n",
       "    </tr>\n",
       "    <tr>\n",
       "      <th>Precision / PPV</th>\n",
       "      <td>0.112518</td>\n",
       "      <td>0.398601</td>\n",
       "      <td>0.275229</td>\n",
       "      <td>0.407407</td>\n",
       "      <td>0.428571</td>\n",
       "      <td>0.318182</td>\n",
       "    </tr>\n",
       "    <tr>\n",
       "      <th>F1 score</th>\n",
       "      <td>0.166147</td>\n",
       "      <td>0.288608</td>\n",
       "      <td>0.310881</td>\n",
       "      <td>0.318841</td>\n",
       "      <td>0.171429</td>\n",
       "      <td>0.280000</td>\n",
       "    </tr>\n",
       "  </tbody>\n",
       "</table>\n",
       "</div>"
      ],
      "text/plain": [
       "                                           KNN        RF       ADA        GB  \\\n",
       "Overall accuracy                      0.788127  0.925858  0.894723  0.925594   \n",
       "Accuracy on 0 / Specificity           0.821651  0.975692  0.933013  0.972866   \n",
       "Accuracy on 1 / Sensitivity / Recall  0.317460  0.226190  0.357143  0.261905   \n",
       "Precision / PPV                       0.112518  0.398601  0.275229  0.407407   \n",
       "F1 score                              0.166147  0.288608  0.310881  0.318841   \n",
       "\n",
       "                                           SVM       BAG  \n",
       "Overall accuracy                      0.931135  0.914512  \n",
       "Accuracy on 0 / Specificity           0.989825  0.961843  \n",
       "Accuracy on 1 / Sensitivity / Recall  0.107143  0.250000  \n",
       "Precision / PPV                       0.428571  0.318182  \n",
       "F1 score                              0.171429  0.280000  "
      ]
     },
     "execution_count": 25,
     "metadata": {},
     "output_type": "execute_result"
    }
   ],
   "source": [
    "# present scores in a dataframe\n",
    "score_df = pd.DataFrame({'KNN': knn_scores, \n",
    "                         'RF': rf_scores, \n",
    "                         'ADA': ada_scores, \n",
    "                         'GB': gb_scores, \n",
    "                         'SVM': svm_scores,\n",
    "                         'BAG': bag_scores})\n",
    "score_df = score_df[['KNN', 'RF', 'ADA', 'GB', 'SVM', 'BAG']]\n",
    "score_df"
   ]
  },
  {
   "cell_type": "code",
   "execution_count": 26,
   "metadata": {},
   "outputs": [
    {
     "data": {
      "image/png": "[encoded data removed]",
      "text/plain": [
       "<Figure size 720x432 with 1 Axes>"
      ]
     },
     "metadata": {
      "needs_background": "light"
     },
     "output_type": "display_data"
    }
   ],
   "source": [
    "fpr = dict()\n",
    "tpr = dict()\n",
    "auroc = dict()\n",
    "\n",
    "# k-nearest neighbors\n",
    "knn_probas = knn.predict_proba(x_test)\n",
    "fpr[\"KNN\"], tpr[\"KNN\"], _ = roc_curve(y_test, knn_probas[:, 1])\n",
    "auroc[\"KNN\"] = auc(fpr[\"KNN\"], tpr[\"KNN\"])\n",
    "\n",
    "# random forest\n",
    "rf_probas = rf.predict_proba(x_test)\n",
    "fpr[\"RF\"], tpr[\"RF\"], _ = roc_curve(y_test, rf_probas[:, 1])\n",
    "auroc[\"RF\"] = auc(fpr[\"RF\"], tpr[\"RF\"])\n",
    "\n",
    "# ada boosting\n",
    "ada_probas = ada.decision_function(x_test)\n",
    "fpr[\"ADA\"], tpr[\"ADA\"], _ = roc_curve(y_test, ada_probas)\n",
    "auroc[\"ADA\"] = auc(fpr[\"ADA\"], tpr[\"ADA\"])\n",
    "\n",
    "# gradient boosting\n",
    "gb_probas = gb.decision_function(x_test)\n",
    "fpr[\"GB\"], tpr[\"GB\"], _ = roc_curve(y_test, gb_probas)\n",
    "auroc[\"GB\"] = auc(fpr[\"GB\"], tpr[\"GB\"])\n",
    "\n",
    "# support vector machine\n",
    "svm_probas = svm.decision_function(x_test)\n",
    "fpr[\"SVM\"], tpr[\"SVM\"], _ = roc_curve(y_test, svm_probas)\n",
    "auroc[\"SVM\"] = auc(fpr[\"SVM\"], tpr[\"SVM\"])\n",
    "\n",
    "'''# bagging classifier\n",
    "bag_probas = bag.decision_function(x_test)\n",
    "fpr[\"BAG\"], tpr[\"BAG\"], _ = roc_curve(y_test, bag_probas)\n",
    "auroc[\"BAG\"] = auc(fpr[\"BAG\"], tpr[\"BAG\"])'''\n",
    "\n",
    "# plot\n",
    "plt.figure(figsize=(10,6))\n",
    "plt.plot(fpr[\"KNN\"], tpr[\"KNN\"], color='royalblue', lw=2, label='KNN (AUC = %0.2f)' % auroc[\"KNN\"])\n",
    "plt.plot(fpr[\"RF\"], tpr[\"RF\"], color='darkviolet', lw=2, label='RF (AUC = %0.2f)' % auroc[\"RF\"])\n",
    "plt.plot(fpr[\"ADA\"], tpr[\"ADA\"], color='green', lw=2, label='ADA (AUC = %0.2f)' % auroc[\"ADA\"])\n",
    "plt.plot(fpr[\"GB\"], tpr[\"GB\"], color='red', lw=2, label='GB (AUC = %0.2f)' % auroc[\"GB\"])\n",
    "plt.plot(fpr[\"SVM\"], tpr[\"SVM\"], color='darkorange', lw=2, label='SVM (AUC = %0.2f)' % auroc[\"SVM\"])\n",
    "#plt.plot(fpr[\"BAG\"], tpr[\"BAG\"], color='yellow', lw=2, label='BAG (AUC = %0.2f)' % auroc[\"BAG\"])\n",
    "plt.plot([0, 1], [0, 1], color='navy', lw=2, linestyle='--')\n",
    "plt.xlabel('False Positive Rate')\n",
    "plt.ylabel('True Positive Rate')\n",
    "plt.title('PMV ROC Curves')\n",
    "plt.legend(loc=\"lower right\")\n",
    "plt.show()"
   ]
  },
  {
   "cell_type": "code",
   "execution_count": 27,
   "metadata": {},
   "outputs": [
    {
     "data": {
      "text/plain": [
       "'bag_probas = bagc.decision_function(x_test)\\nfpr[\"SVM\"], tpr[\"SVM\"], _ = roc_curve(y_test, bag_probas)\\nauroc[\"SVM\"] = auc(fpr[\"SVM\"], tpr[\"SVM\"])'"
      ]
     },
     "execution_count": 27,
     "metadata": {},
     "output_type": "execute_result"
    }
   ],
   "source": [
    "'''bag_probas = bagc.decision_function(x_test)\n",
    "fpr[\"SVM\"], tpr[\"SVM\"], _ = roc_curve(y_test, bag_probas)\n",
    "auroc[\"SVM\"] = auc(fpr[\"SVM\"], tpr[\"SVM\"])'''"
   ]
  },
  {
   "cell_type": "code",
   "execution_count": 28,
   "metadata": {},
   "outputs": [
    {
     "data": {
      "image/png": "[encoded data removed]",
      "text/plain": [
       "<Figure size 720x432 with 1 Axes>"
      ]
     },
     "metadata": {
      "needs_background": "light"
     },
     "output_type": "display_data"
    }
   ],
   "source": [
    "precision = dict()\n",
    "recall = dict()\n",
    "auprc = dict()\n",
    "\n",
    "# k-nearest neighbors\n",
    "precision[\"KNN\"], recall[\"KNN\"], _ = precision_recall_curve(y_test, knn_probas[:, 1])\n",
    "precision[\"KNN\"].sort()\n",
    "auprc[\"KNN\"] = auc(precision[\"KNN\"], recall[\"KNN\"])\n",
    "\n",
    "# random forest\n",
    "precision[\"RF\"], recall[\"RF\"], _ = precision_recall_curve(y_test, rf_probas[:, 1])\n",
    "precision[\"RF\"].sort()\n",
    "auprc[\"RF\"] = auc(precision[\"RF\"], recall[\"RF\"])\n",
    "\n",
    "# ada boosting\n",
    "precision[\"ADA\"], recall[\"ADA\"], _ = precision_recall_curve(y_test, ada_probas)\n",
    "precision[\"ADA\"].sort()\n",
    "auprc[\"ADA\"] = auc(precision[\"ADA\"], recall[\"ADA\"])\n",
    "\n",
    "# gradient boosting\n",
    "precision[\"GB\"], recall[\"GB\"], _ = precision_recall_curve(y_test, gb_probas)\n",
    "precision[\"GB\"].sort()\n",
    "auprc[\"GB\"] = auc(precision[\"GB\"], recall[\"GB\"])\n",
    "\n",
    "# support vector machine\n",
    "precision[\"SVM\"], recall[\"SVM\"], _ = precision_recall_curve(y_test, svm_probas)\n",
    "precision[\"SVM\"].sort()\n",
    "auprc[\"SVM\"] = auc(precision[\"SVM\"], recall[\"SVM\"])\n",
    "\n",
    "# plot\n",
    "plt.figure(figsize=(10,6))\n",
    "plt.plot(recall[\"KNN\"], precision[\"KNN\"], color='royalblue', lw=2, label='KNN (AUC = %0.2f)' % (auprc[\"KNN\"]))\n",
    "plt.plot(recall[\"RF\"], precision[\"RF\"], color='darkviolet', lw=2, label='RF (AUC = %0.2f)' % (auprc[\"RF\"]))\n",
    "plt.plot(recall[\"ADA\"], precision[\"ADA\"], color='green', lw=2, label='ADA (AUC = %0.2f)' % (auprc[\"ADA\"]))\n",
    "plt.plot(recall[\"GB\"], precision[\"GB\"], color='red', lw=2, label='GB (AUC = %0.2f)' % (auprc[\"GB\"]))\n",
    "plt.plot(recall[\"SVM\"], precision[\"SVM\"], color='darkorange', lw=2, label='SVM (AUC = %0.2f)' % (auprc[\"SVM\"]))\n",
    "plt.xlabel('Recall')\n",
    "plt.ylabel('Precision')\n",
    "plt.title('Precision-Recall Curves')\n",
    "plt.legend(loc=\"upper right\")\n",
    "plt.show()"
   ]
  },
  {
   "cell_type": "markdown",
   "id": "d0e98102",
   "metadata": {},
   "source": [
    "### 2.1: Cox models"
   ]
  },
  {
   "cell_type": "markdown",
   "metadata": {},
   "source": [
    "#### 2.1.1: CoxPH"
   ]
  },
  {
   "cell_type": "code",
   "execution_count": null,
   "metadata": {},
   "outputs": [],
   "source": [
    "Xt = OneHotEncoder().fit_transform(X)\n",
    "cph = CoxPHSurvivalAnalysis()\n",
    "cph.fit(Xt, y)\n",
    "\n",
    "# get c-index of trained estimator\n",
    "pred = cph.predict(Xt)\n",
    "result = concordance_index_censored(y['Censor'], y[\"Survival\"], pred)\n",
    "print('C-index of Cox model: '+str(result[0]))"
   ]
  },
  {
   "cell_type": "code",
   "execution_count": null,
   "metadata": {},
   "outputs": [],
   "source": [
    "alphas = 10. ** np.linspace(-4,4,10)\n",
    "coefficients = {}\n",
    "\n",
    "cph = CoxPHSurvivalAnalysis()\n",
    "for alpha in alphas:\n",
    "    cph.set_params(alpha=alpha)\n",
    "    cph.fit(Xt, y)\n",
    "    key = round(alpha, 5)\n",
    "    coefficients[key] = cph.coef_\n",
    "\n",
    "coefficients = (pd.DataFrame\n",
    "    .from_dict(coefficients)\n",
    "    .rename_axis(index=\"feature\", columns=\"alpha\")\n",
    "    .set_index(Xt.columns))"
   ]
  },
  {
   "cell_type": "code",
   "execution_count": null,
   "metadata": {},
   "outputs": [],
   "source": [
    "def plot_coefficients(coefs, n_highlight):\n",
    "    _, ax = plt.subplots(figsize=(9, 6))\n",
    "    n_features = coefs.shape[0]\n",
    "    alphas = coefs.columns\n",
    "    for row in coefs.itertuples():\n",
    "        ax.semilogx(alphas, row[1:], \".-\", label=row.Index)\n",
    "\n",
    "    alpha_min = alphas.min()\n",
    "    top_coefs = coefs.loc[:, alpha_min].map(abs).sort_values().tail(n_highlight)\n",
    "    for name in top_coefs.index:\n",
    "        coef = coefs.loc[name, alpha_min]\n",
    "        plt.text(\n",
    "            alpha_min, coef, name + \"   \",\n",
    "            horizontalalignment=\"right\",\n",
    "            verticalalignment=\"center\"\n",
    "        )\n",
    "\n",
    "    ax.yaxis.set_label_position(\"right\")\n",
    "    ax.yaxis.tick_right()\n",
    "    ax.grid(True)\n",
    "    ax.set_xlabel(\"alpha\")\n",
    "    ax.set_ylabel(\"coefficient\")\n",
    "plot_coefficients(coefficients, n_highlight=10)"
   ]
  },
  {
   "cell_type": "markdown",
   "metadata": {},
   "source": [
    "#### 2.1.2: Cox Elastic Net"
   ]
  },
  {
   "cell_type": "code",
   "execution_count": null,
   "metadata": {},
   "outputs": [],
   "source": [
    "coxnet_pipe = make_pipeline(\n",
    "    StandardScaler(),\n",
    "    CoxnetSurvivalAnalysis(l1_ratio=0.9, alpha_min_ratio=0.001, max_iter=100)\n",
    ")\n",
    "warnings.simplefilter(\"ignore\", ConvergenceWarning)\n",
    "coxnet_pipe.fit(Xt, y)"
   ]
  },
  {
   "cell_type": "code",
   "execution_count": null,
   "metadata": {},
   "outputs": [],
   "source": [
    "estimated_alphas = coxnet_pipe.named_steps[\"coxnetsurvivalanalysis\"].alphas_\n",
    "cv = KFold(n_splits=5, shuffle=True, random_state=0)\n",
    "gcv = GridSearchCV(\n",
    "    make_pipeline(StandardScaler(), CoxnetSurvivalAnalysis(l1_ratio=0.9)),\n",
    "    param_grid={\"coxnetsurvivalanalysis__alphas\": [[v] for v in estimated_alphas]},\n",
    "    cv=cv,\n",
    "    error_score=0.5,\n",
    "    n_jobs=4).fit(Xt, y)\n",
    "\n",
    "cv_results = pd.DataFrame(gcv.cv_results_)"
   ]
  },
  {
   "cell_type": "code",
   "execution_count": null,
   "metadata": {},
   "outputs": [],
   "source": [
    "alphas = cv_results.param_coxnetsurvivalanalysis__alphas.map(lambda x: x[0])\n",
    "mean = cv_results.mean_test_score\n",
    "std = cv_results.std_test_score\n",
    "\n",
    "fig, ax = plt.subplots(figsize=(9, 6))\n",
    "ax.plot(alphas, mean)\n",
    "ax.fill_between(alphas, mean - std, mean + std, alpha=.15)\n",
    "ax.set_xscale(\"log\")\n",
    "ax.set_ylabel(\"concordance index\")\n",
    "ax.set_xlabel(\"alpha\")\n",
    "ax.axvline(gcv.best_params_[\"coxnetsurvivalanalysis__alphas\"][0], c=\"C1\")\n",
    "ax.axhline(0.5, color=\"grey\", linestyle=\"--\")\n",
    "ax.grid(True)"
   ]
  },
  {
   "cell_type": "code",
   "execution_count": null,
   "metadata": {},
   "outputs": [],
   "source": [
    "best_model = gcv.best_estimator_.named_steps[\"coxnetsurvivalanalysis\"]\n",
    "best_coefs = pd.DataFrame(\n",
    "    best_model.coef_,\n",
    "    index=Xt.columns,\n",
    "    columns=[\"coefficient\"]\n",
    ")\n",
    "\n",
    "non_zero = np.sum(best_coefs.iloc[:, 0] != 0)\n",
    "print(\"Number of non-zero coefficients: {}\".format(non_zero))\n",
    "\n",
    "non_zero_coefs = best_coefs.query(\"coefficient != 0\")\n",
    "coef_order = non_zero_coefs.abs().sort_values(\"coefficient\").index\n",
    "\n",
    "_, ax = plt.subplots(figsize=(6, 8))\n",
    "non_zero_coefs.loc[coef_order[-20:]].plot.barh(ax=ax, legend=False)\n",
    "ax.set_xlabel(\"coefficient\")\n",
    "ax.grid(True)"
   ]
  },
  {
   "cell_type": "markdown",
   "metadata": {},
   "source": [
    "### 2.2: Random Survival Forest"
   ]
  },
  {
   "cell_type": "code",
   "execution_count": null,
   "metadata": {},
   "outputs": [],
   "source": [
    "# get X, Xt and y\n",
    "X = df[inputs]\n",
    "#X = df[inputs_all]\n",
    "Xt = OneHotEncoder().fit_transform(X)\n",
    "\n",
    "y = np.zeros(len(df), dtype={'names':('Censor', 'Survival'),\n",
    "                          'formats':('?', '<f8')})\n",
    "\n",
    "y['Censor'] = df['censor']\n",
    "y['Survival'] =df['duration1']\n",
    "y"
   ]
  },
  {
   "cell_type": "code",
   "execution_count": null,
   "metadata": {},
   "outputs": [],
   "source": [
    "random_state = 24\n",
    "\n",
    "X_train, X_test, y_train, y_test = train_test_split(\n",
    "    Xt, y, test_size=0.20, random_state=random_state)"
   ]
  },
  {
   "cell_type": "code",
   "execution_count": null,
   "metadata": {},
   "outputs": [],
   "source": [
    "rsf = RandomSurvivalForest(n_estimators=100,\n",
    "                            min_samples_split=50,\n",
    "                            min_samples_leaf=4,\n",
    "                            max_features=\"sqrt\",\n",
    "                            n_jobs=-1,\n",
    "                            random_state=random_state)\n",
    "rsf.fit(X_train, y_train)\n",
    "rsf.score(X_test, y_test)"
   ]
  },
  {
   "cell_type": "code",
   "execution_count": null,
   "metadata": {},
   "outputs": [],
   "source": [
    "rsf = RandomSurvivalForest()\n",
    "parameters = {'n_estimators': [int(x) for x in np.linspace(start = 100, stop = 200, num = 2)],\n",
    "              'max_features': ['auto', 'sqrt'],\n",
    "              'max_depth': [int(x) for x in np.linspace(10, 100, num = 3)],\n",
    "              'min_samples_split': [2, 5],\n",
    "              'min_samples_leaf': [1, 2, 4],\n",
    "              'bootstrap': [True, False]}\n",
    "rsf_tuned = RandomizedSearchCV(rsf, parameters, n_iter = 10, cv=3, n_jobs=-1, scoring='f1')\n",
    "rsf_tuned.fit(X_train, y_train)\n",
    "print ('Best parameters for RSF: {}'.format(rsf_tuned.best_params_))\n",
    "print ('Cross-validation F1 score: {}'.format(rsf_tuned.best_score_))\n",
    "print ('Test F1 score: {}'.format(f1_score(y_test, rsf_tuned.predict(X_test))))"
   ]
  },
  {
   "cell_type": "code",
   "execution_count": null,
   "metadata": {},
   "outputs": [],
   "source": [
    "rsf = RandomSurvivalForest(n_estimators=200,\n",
    "                            min_samples_split=50,\n",
    "                            min_samples_leaf=3,\n",
    "                            max_features=\"sqrt\",\n",
    "                            n_jobs=-1,\n",
    "                            random_state=random_state)\n",
    "parameters = {'n_estimators': [100, 200],\n",
    "              'max_features': ['auto'],\n",
    "              'max_depth': [50, 100],\n",
    "              'min_samples_split': [5,10],\n",
    "              'min_samples_leaf': [2,10],\n",
    "              'bootstrap': [True, False]}\n",
    "rsf_tuned = GridSearchCV(rsf, parameters, cv=5, n_jobs=-1, scoring='f1')\n",
    "rsf_tuned.fit(X_train, y_train)\n",
    "print ('Best parameters for RF: {}'.format(rf_tuned.best_params_))\n",
    "print ('Cross-validation F1 score: {}'.format(rf_tuned.best_score_))\n",
    "print ('Test F1 score: {}'.format(f1_score(y_test, rf_tuned.predict(x_test))))"
   ]
  },
  {
   "cell_type": "code",
   "execution_count": null,
   "metadata": {},
   "outputs": [],
   "source": [
    "perm = PermutationImportance(rsf, n_iter=3, random_state=random_state)\n",
    "perm.fit(X_test, y_test)\n",
    "eli5.show_weights(perm, feature_names=feature_names)"
   ]
  },
  {
   "cell_type": "markdown",
   "metadata": {},
   "source": [
    "### 2.3: GBM Survival"
   ]
  },
  {
   "cell_type": "code",
   "execution_count": null,
   "metadata": {},
   "outputs": [],
   "source": [
    "# get X, Xt and y\n",
    "X = df[inputs]\n",
    "#X = df[inputs_all]\n",
    "Xt = OneHotEncoder().fit_transform(X)\n",
    "\n",
    "y = np.zeros(len(df), dtype={'names':('Censor', 'Survival'),\n",
    "                          'formats':('?', '<f8')})\n",
    "\n",
    "y['Censor'] = df['censor']\n",
    "y['Survival'] =df['duration1']\n",
    "y\n",
    "\n",
    "# get X_train, X_test, y_train, y_test\n",
    "random_state = 20\n",
    "\n",
    "X_train, X_test, y_train, y_test = train_test_split(\n",
    "    Xt, y, test_size=0.25, random_state=random_state)"
   ]
  },
  {
   "cell_type": "code",
   "execution_count": null,
   "metadata": {},
   "outputs": [],
   "source": [
    "est_cph_tree = GradientBoostingSurvivalAnalysis(\n",
    "    n_estimators=100, learning_rate=1.0, max_depth=1, random_state=0\n",
    ")\n",
    "est_cph_tree.fit(X_train, y_train)\n",
    "cindex = est_cph_tree.score(X_test, y_test)\n",
    "print(round(cindex, 3))"
   ]
  },
  {
   "cell_type": "code",
   "execution_count": null,
   "metadata": {},
   "outputs": [],
   "source": [
    "scores_cph_tree = {}\n",
    "\n",
    "est_cph_tree = GradientBoostingSurvivalAnalysis(\n",
    "    learning_rate=1.0, max_depth=1, random_state=0\n",
    ")\n",
    "for i in range(10, 31,5):\n",
    "    n_estimators = i * 5\n",
    "    est_cph_tree.set_params(n_estimators=n_estimators)\n",
    "    est_cph_tree.fit(X_train, y_train)\n",
    "    scores_cph_tree[n_estimators] = est_cph_tree.score(X_test, y_test)"
   ]
  },
  {
   "cell_type": "code",
   "execution_count": null,
   "metadata": {},
   "outputs": [],
   "source": [
    "x, y = zip(*scores_cph_tree.items())\n",
    "plt.plot(x, y)\n",
    "plt.xlabel(\"n_estimator\")\n",
    "plt.ylabel(\"concordance index\")\n",
    "plt.grid(True)"
   ]
  },
  {
   "cell_type": "code",
   "execution_count": null,
   "metadata": {},
   "outputs": [],
   "source": [
    "scores_cph_ls = {}\n",
    "\n",
    "est_cph_ls = ComponentwiseGradientBoostingSurvivalAnalysis(\n",
    "    learning_rate=1.0, random_state=0\n",
    ")\n",
    "for i in range(1, 31):\n",
    "    n_estimators = i * 10\n",
    "    est_cph_ls.set_params(n_estimators=n_estimators)\n",
    "    est_cph_ls.fit(X_train, y_train)\n",
    "    scores_cph_ls[n_estimators] = est_cph_ls.score(X_test, y_test)"
   ]
  },
  {
   "cell_type": "code",
   "execution_count": null,
   "metadata": {},
   "outputs": [],
   "source": [
    "x, y = zip(*scores_cph_ls.items())\n",
    "plt.plot(x, y)\n",
    "plt.xlabel(\"n_estimator\")\n",
    "plt.ylabel(\"concordance index\")\n",
    "plt.grid(True)"
   ]
  },
  {
   "cell_type": "code",
   "execution_count": null,
   "metadata": {},
   "outputs": [],
   "source": [
    "coef = pd.Series(est_cph_ls.coef_, [\"Intercept\"] + Xt.columns.tolist())\n",
    "\n",
    "print(\"Number of non-zero coefficients:\", (coef != 0).sum())\n",
    "coef_nz = coef[coef != 0]\n",
    "coef_order = coef_nz.abs().sort_values(ascending=False).index\n",
    "coef_nz.loc[coef_order]"
   ]
  },
  {
   "cell_type": "markdown",
   "id": "fd547661",
   "metadata": {},
   "source": [
    "## 3: Exploring language and ventilation duration "
   ]
  },
  {
   "cell_type": "code",
   "execution_count": null,
   "id": "2c083716",
   "metadata": {},
   "outputs": [],
   "source": [
    "from sklearn.linear_model import LogisticRegression\n",
    "from sklearn.linear_model import LinearRegression\n",
    "from sklearn.metrics import roc_curve, auc, roc_auc_score\n",
    "\n",
    "dfImputed_onehot = dfImputed.copy()\n",
    "dfImputed1 = pd.get_dummies(dfImputed_onehot, columns = ['ethnicity', 'language'], prefix = ['eth', 'lang'])\n",
    "onehot_cols = [i for i in list(dfImputed1.columns) if i not in ['ethnicity', 'marital_status', 'language', 'admission_location']]\n",
    "dfImputed1['duration1'] = df['duration1']\n",
    "dfImputed1 = dfImputed1.dropna(axis=0, how='any')"
   ]
  },
  {
   "cell_type": "code",
   "execution_count": null,
   "id": "dd50d2c3",
   "metadata": {},
   "outputs": [],
   "source": [
    "dfImputed1"
   ]
  },
  {
   "cell_type": "code",
   "execution_count": null,
   "id": "060a3f72",
   "metadata": {},
   "outputs": [],
   "source": [
    "from matplotlib import pyplot\n",
    "from scipy.stats import kstest, norm, pearsonr, ttest_ind\n",
    "\n",
    "x = dfImputed1['lang_ENGL']\n",
    "y = df['duration1'].dropna(axis=0,how='any')\n",
    "\n",
    "#testing for normalcy\n",
    "mu, std = norm.fit(x)\n",
    "n = norm(loc=mu, scale=std)\n",
    "normalcy_p = kstest(x, n.cdf)[1]\n",
    "print('p-val: '+ str(normalcy_p))\n",
    "\n",
    "pyplot.scatter(x,y)\n",
    "covariance = np.cov(x,y)\n",
    "print('Covariance matrix: ')\n",
    "print(covariance)\n",
    "\n",
    "#find pearson R\n",
    "corr, _ = pearsonr(x,y)\n",
    "print('Pearsons R: %.3f' %corr)"
   ]
  },
  {
   "cell_type": "code",
   "execution_count": null,
   "id": "5f9eb5df",
   "metadata": {},
   "outputs": [],
   "source": [
    "import statsmodels.api as sm\n",
    "\n",
    "univariable = pd.DataFrame(index = ['eth_white','lang_ENGL'], columns = ['OR (95% CI)','p-value'])\n",
    "\n",
    "p_value = []\n",
    "OR = []\n",
    "time = []\n",
    "for column in ['lang_ENGL']:\n",
    "    for int_timelimit in range(0,48,1):\n",
    "        X = dfImputed1[column].values\n",
    "        X = sm.add_constant(X)\n",
    "        y = pd.cut(df['duration1'].dropna(how='any'),bins=[-0.1,int_timelimit,4000],labels=[0,1])\n",
    "        logit = sm.Logit(y, X)\n",
    "        model = logit.fit(method='bfgs',disp = False)\n",
    "        model_odds = pd.DataFrame(np.exp(model.params), columns=['OR'])\n",
    "        model_odds['p-value'] = model.pvalues\n",
    "        model_odds[['2.5%','97.5%']]= np.exp(model.conf_int())\n",
    "        model_odds.rename(index={'x1': column}, inplace = True)\n",
    "        # insert it into the dataframe 'univariable'\n",
    "        univariable.at[column,'OR (95% CI)'] = '{OR:.3f} ({lower:.3f} to {upper:.3f})'.format(OR = model_odds.at[column, 'OR'], \n",
    "                                                                                            lower = model_odds.at[column, '2.5%'], \n",
    "                                                                                            upper = model_odds.at[column, '97.5%'])\n",
    "        univariable.at[column,'p-value'] = '{0:.3f}'.format(model_odds.at[column, 'p-value'])\n",
    "        p_value.append(model_odds.at[column, 'p-value'])\n",
    "        OR.append(model_odds.at[column, 'OR'])\n",
    "        time.append(int_timelimit)\n",
    "\n",
    "univariable"
   ]
  },
  {
   "cell_type": "code",
   "execution_count": null,
   "id": "3bd2fc0e",
   "metadata": {},
   "outputs": [],
   "source": [
    "import matplotlib.pyplot as plt\n",
    "\n",
    "fig, ax = plt.subplots()\n",
    "ax.plot(time, OR, label='OR',color='blue')\n",
    "ax.set_xlabel(\"ventilation time\")\n",
    "ax.set_ylabel(\"OR\")\n",
    "\n",
    "ax2=ax.twinx()\n",
    "ax2.plot(time, p_value, label='p-val',color='orange')\n",
    "ax2.set_ylabel(\"p-val\")\n"
   ]
  },
  {
   "cell_type": "code",
   "execution_count": null,
   "id": "8052c04a",
   "metadata": {},
   "outputs": [],
   "source": [
    "x1 = dfImputed1['duration1'][dfImputed1['lang_ENGL']==1].dropna(axis=0,how='any')\n",
    "x2 = dfImputed1['duration1'][dfImputed1['lang_ENGL']==0].dropna(axis=0,how='any')\n",
    "plt.hist(x1,bins=[-0.1,2,4,6,10,13,16,20,25,30,40,50,60],range=(0,60))\n",
    "plt.hist(x2,bins=[-0.1,2,4,6,10,13,16,20,25,30,40,50,60],range=(0,60),color='orange')\n",
    "print('mean English: '+str(np.mean(x1)))\n",
    "print('mean non-English: '+str(np.mean(x2)))\n",
    "print('t_test p-val;: '+str(ttest_ind(x1, x2)[1]))"
   ]
  },
  {
   "cell_type": "code",
   "execution_count": null,
   "id": "07cd6b9a",
   "metadata": {},
   "outputs": [],
   "source": []
  }
 ],
 "metadata": {
  "interpreter": {
   "hash": "0652ecffa332becfb8e0a3b24d51fbf4b8e2da78993fa6a399295ab431c37288"
  },
  "kernelspec": {
   "display_name": "Python 3.9.7 64-bit ('tridentenv': conda)",
   "language": "python",
   "name": "python3"
  },
  "language_info": {
   "codemirror_mode": {
    "name": "ipython",
    "version": 3
   },
   "file_extension": ".py",
   "mimetype": "text/x-python",
   "name": "python",
   "nbconvert_exporter": "python",
   "pygments_lexer": "ipython3",
   "version": "3.9.7"
  },
  "orig_nbformat": 4
 },
 "nbformat": 4,
 "nbformat_minor": 2
}
