{
 "cells": [
  {
   "cell_type": "markdown",
   "id": "1f8cf02a",
   "metadata": {},
   "source": [
    "# DL Survival - Ventilation Outcomes\n",
    "#### Updated 17/11/21"
   ]
  },
  {
   "cell_type": "code",
   "execution_count": 16,
   "id": "02e76b5c",
   "metadata": {},
   "outputs": [],
   "source": [
    "import pandas as pd\n",
    "import numpy as np\n",
    "import math\n",
    "import datetime"
   ]
  },
  {
   "cell_type": "markdown",
   "id": "e1ad0b5f",
   "metadata": {},
   "source": [
    "## 1. Data cleaning\n",
    "\n",
    "- Import MIMIC III data\n",
    "- Assign correct data types\n",
    "- Impute missing values\n"
   ]
  },
  {
   "cell_type": "code",
   "execution_count": 8,
   "id": "d05152bc",
   "metadata": {},
   "outputs": [],
   "source": [
    "data = pd.read_csv('mimic_combined.csv')"
   ]
  },
  {
   "cell_type": "code",
   "execution_count": 9,
   "id": "136662c7",
   "metadata": {},
   "outputs": [
    {
     "name": "stdout",
     "output_type": "stream",
     "text": [
      "Index(['Unnamed: 0', 'liver_severe', 'temp', 'po2', 'rheum', 'first_careunit',\n",
      "       'ffp', 'cvd', 'bilirubin_indirect', 'mit', 'inr_1', 'aids', 'chloride',\n",
      "       'admission_location', 'hb', 'ckd', 'magnesium', 'bilirubin_total',\n",
      "       'ventrate', 'plts', 'pco2', 'ext_time', 'baseexcess', 'copd',\n",
      "       'lymphocytes', 'marital_status', 'dischtime', 'dbp', 'admittime', 'crp',\n",
      "       'bleed_time', 'albumin', 'hospital_expire_flag', 'arrhythmia',\n",
      "       'potassium', 'icustay_seq', 'ethnicity', 'tidalvol', 'weight', 'pt',\n",
      "       'cardiac_index', 'bilirubin_direct', 'plt', 'aortic', 'alp', 'pud',\n",
      "       'fibrinogen', 'creatinine', 'outtime', 'bg_temp'],\n",
      "      dtype='object')\n",
      "Index(['hadm_id', 'tricuspid', 'smoking', 'aado2', 'pvd', 'vent_array',\n",
      "       'free_calcium', 'ph', 'meanbp', 'insulin', 'paraplegia', 'alt', 'los',\n",
      "       'reint_time', 'ccf', 'insurance', 'admission_type', 'intime',\n",
      "       'reintubation', 'diab_un', 'language', 'dtoutput', 'rr', 'sodium',\n",
      "       'liver_mild', 'specimen', 'met_ca', 'ggt', 'bicarb', 'ptt', 'cabg',\n",
      "       'height', 't2dm', 'wcc', 'hematocrit', 'malig', 'bun', 'deathtime',\n",
      "       'mi', 'pulmonary', 'sbp', 'hba1c', 'last_careunit', 'inr', 'fio2',\n",
      "       't1dm', 'dod', 'lactate', 'ast', 'gender'],\n",
      "      dtype='object')\n",
      "Index(['hr', 'glucose', 'cryo', 'prbc', 'subject_id', 'infection', 'dementia',\n",
      "       'spo2', 'diab_cc', 'neutrophils'],\n",
      "      dtype='object')\n"
     ]
    }
   ],
   "source": [
    "#view columns\n",
    "print(data.columns[0:50])\n",
    "print(data.columns[50:100])\n",
    "print(data.columns[100:])"
   ]
  },
  {
   "cell_type": "code",
   "execution_count": 10,
   "id": "b39eb42a",
   "metadata": {},
   "outputs": [],
   "source": [
    "# set column types as datetime\n",
    "time_cols = ['admittime','dischtime','intime','outtime','reint_time','ext_time','deathtime']\n",
    "for col in time_cols:\n",
    "    data[col] = pd.to_datetime(data[col], format='%Y-%m-%d %H:%M:%S')"
   ]
  },
  {
   "cell_type": "code",
   "execution_count": 19,
   "id": "8b0849a3",
   "metadata": {},
   "outputs": [],
   "source": [
    "# define function for getting ventilation duration (1st ventilation)\n",
    "def get_vent_duration(row):\n",
    "    time_s = (row['ext_time']-row['intime']).total_seconds()\n",
    "    if math.isnan(time_s):\n",
    "        time_s = (row['deathtime']-row['intime']).total_seconds()\n",
    "    time_min = time_s / 60\n",
    "    time_h = time_min / 60\n",
    "    return time_h"
   ]
  },
  {
   "cell_type": "code",
   "execution_count": 26,
   "id": "63c95127",
   "metadata": {},
   "outputs": [
    {
     "data": {
      "text/html": [
       "<div>\n",
       "<style scoped>\n",
       "    .dataframe tbody tr th:only-of-type {\n",
       "        vertical-align: middle;\n",
       "    }\n",
       "\n",
       "    .dataframe tbody tr th {\n",
       "        vertical-align: top;\n",
       "    }\n",
       "\n",
       "    .dataframe thead th {\n",
       "        text-align: right;\n",
       "    }\n",
       "</style>\n",
       "<table border=\"1\" class=\"dataframe\">\n",
       "  <thead>\n",
       "    <tr style=\"text-align: right;\">\n",
       "      <th></th>\n",
       "      <th>ext_time</th>\n",
       "      <th>vent_duration</th>\n",
       "      <th>admittime</th>\n",
       "      <th>dischtime</th>\n",
       "      <th>intime</th>\n",
       "      <th>outtime</th>\n",
       "      <th>reint_time</th>\n",
       "      <th>deathtime</th>\n",
       "    </tr>\n",
       "  </thead>\n",
       "  <tbody>\n",
       "    <tr>\n",
       "      <th>0</th>\n",
       "      <td>2172-01-06 20:00:00</td>\n",
       "      <td>8.255556</td>\n",
       "      <td>2172-01-03 20:49:00</td>\n",
       "      <td>2172-01-11 13:14:00</td>\n",
       "      <td>2172-01-06 11:44:40</td>\n",
       "      <td>2172-01-07 11:08:40</td>\n",
       "      <td>NaT</td>\n",
       "      <td>NaT</td>\n",
       "    </tr>\n",
       "    <tr>\n",
       "      <th>1</th>\n",
       "      <td>2175-11-24 06:15:00</td>\n",
       "      <td>18.209167</td>\n",
       "      <td>2175-11-22 17:01:00</td>\n",
       "      <td>2175-11-30 14:55:00</td>\n",
       "      <td>2175-11-23 12:02:27</td>\n",
       "      <td>2175-11-27 17:02:16</td>\n",
       "      <td>NaT</td>\n",
       "      <td>NaT</td>\n",
       "    </tr>\n",
       "    <tr>\n",
       "      <th>2</th>\n",
       "      <td>2169-11-17 15:00:00</td>\n",
       "      <td>5.370278</td>\n",
       "      <td>2169-11-16 13:00:00</td>\n",
       "      <td>2169-11-21 14:10:00</td>\n",
       "      <td>2169-11-17 09:37:47</td>\n",
       "      <td>2169-11-18 16:21:23</td>\n",
       "      <td>NaT</td>\n",
       "      <td>NaT</td>\n",
       "    </tr>\n",
       "    <tr>\n",
       "      <th>3</th>\n",
       "      <td>2181-06-11 19:30:00</td>\n",
       "      <td>4.516944</td>\n",
       "      <td>2181-06-11 12:30:00</td>\n",
       "      <td>2181-06-15 11:00:00</td>\n",
       "      <td>2181-06-11 14:58:59</td>\n",
       "      <td>2181-06-12 09:39:24</td>\n",
       "      <td>NaT</td>\n",
       "      <td>NaT</td>\n",
       "    </tr>\n",
       "    <tr>\n",
       "      <th>4</th>\n",
       "      <td>2152-07-05 15:30:00</td>\n",
       "      <td>6.056667</td>\n",
       "      <td>2152-07-03 18:10:00</td>\n",
       "      <td>2152-07-13 11:35:00</td>\n",
       "      <td>2152-07-05 09:26:36</td>\n",
       "      <td>2152-07-10 14:10:28</td>\n",
       "      <td>NaT</td>\n",
       "      <td>NaT</td>\n",
       "    </tr>\n",
       "    <tr>\n",
       "      <th>...</th>\n",
       "      <td>...</td>\n",
       "      <td>...</td>\n",
       "      <td>...</td>\n",
       "      <td>...</td>\n",
       "      <td>...</td>\n",
       "      <td>...</td>\n",
       "      <td>...</td>\n",
       "      <td>...</td>\n",
       "    </tr>\n",
       "    <tr>\n",
       "      <th>12327</th>\n",
       "      <td>2182-08-18 18:00:00</td>\n",
       "      <td>7.654444</td>\n",
       "      <td>2182-08-17 14:54:00</td>\n",
       "      <td>2182-08-25 19:49:00</td>\n",
       "      <td>2182-08-18 10:20:44</td>\n",
       "      <td>2182-08-20 17:42:26</td>\n",
       "      <td>NaT</td>\n",
       "      <td>NaT</td>\n",
       "    </tr>\n",
       "    <tr>\n",
       "      <th>12328</th>\n",
       "      <td>NaT</td>\n",
       "      <td>NaN</td>\n",
       "      <td>2183-07-10 11:45:00</td>\n",
       "      <td>2183-07-14 15:06:00</td>\n",
       "      <td>2183-07-10 12:27:45</td>\n",
       "      <td>2183-07-11 15:02:27</td>\n",
       "      <td>NaT</td>\n",
       "      <td>NaT</td>\n",
       "    </tr>\n",
       "    <tr>\n",
       "      <th>12329</th>\n",
       "      <td>NaT</td>\n",
       "      <td>NaN</td>\n",
       "      <td>2114-01-28 00:00:00</td>\n",
       "      <td>2114-02-02 17:52:00</td>\n",
       "      <td>2114-01-29 08:49:30</td>\n",
       "      <td>2114-01-30 18:24:30</td>\n",
       "      <td>NaT</td>\n",
       "      <td>NaT</td>\n",
       "    </tr>\n",
       "    <tr>\n",
       "      <th>12330</th>\n",
       "      <td>NaT</td>\n",
       "      <td>NaN</td>\n",
       "      <td>2137-07-09 18:08:00</td>\n",
       "      <td>2137-07-20 13:00:00</td>\n",
       "      <td>2137-07-09 18:57:18</td>\n",
       "      <td>2137-07-10 15:40:30</td>\n",
       "      <td>NaT</td>\n",
       "      <td>NaT</td>\n",
       "    </tr>\n",
       "    <tr>\n",
       "      <th>12331</th>\n",
       "      <td>2200-07-31 06:17:00</td>\n",
       "      <td>13.565000</td>\n",
       "      <td>2200-07-23 19:33:00</td>\n",
       "      <td>2200-08-03 21:01:00</td>\n",
       "      <td>2200-07-30 16:43:06</td>\n",
       "      <td>2200-07-31 20:47:38</td>\n",
       "      <td>NaT</td>\n",
       "      <td>NaT</td>\n",
       "    </tr>\n",
       "  </tbody>\n",
       "</table>\n",
       "<p>12332 rows × 8 columns</p>\n",
       "</div>"
      ],
      "text/plain": [
       "                 ext_time  vent_duration           admittime  \\\n",
       "0     2172-01-06 20:00:00       8.255556 2172-01-03 20:49:00   \n",
       "1     2175-11-24 06:15:00      18.209167 2175-11-22 17:01:00   \n",
       "2     2169-11-17 15:00:00       5.370278 2169-11-16 13:00:00   \n",
       "3     2181-06-11 19:30:00       4.516944 2181-06-11 12:30:00   \n",
       "4     2152-07-05 15:30:00       6.056667 2152-07-03 18:10:00   \n",
       "...                   ...            ...                 ...   \n",
       "12327 2182-08-18 18:00:00       7.654444 2182-08-17 14:54:00   \n",
       "12328                 NaT            NaN 2183-07-10 11:45:00   \n",
       "12329                 NaT            NaN 2114-01-28 00:00:00   \n",
       "12330                 NaT            NaN 2137-07-09 18:08:00   \n",
       "12331 2200-07-31 06:17:00      13.565000 2200-07-23 19:33:00   \n",
       "\n",
       "                dischtime              intime             outtime reint_time  \\\n",
       "0     2172-01-11 13:14:00 2172-01-06 11:44:40 2172-01-07 11:08:40        NaT   \n",
       "1     2175-11-30 14:55:00 2175-11-23 12:02:27 2175-11-27 17:02:16        NaT   \n",
       "2     2169-11-21 14:10:00 2169-11-17 09:37:47 2169-11-18 16:21:23        NaT   \n",
       "3     2181-06-15 11:00:00 2181-06-11 14:58:59 2181-06-12 09:39:24        NaT   \n",
       "4     2152-07-13 11:35:00 2152-07-05 09:26:36 2152-07-10 14:10:28        NaT   \n",
       "...                   ...                 ...                 ...        ...   \n",
       "12327 2182-08-25 19:49:00 2182-08-18 10:20:44 2182-08-20 17:42:26        NaT   \n",
       "12328 2183-07-14 15:06:00 2183-07-10 12:27:45 2183-07-11 15:02:27        NaT   \n",
       "12329 2114-02-02 17:52:00 2114-01-29 08:49:30 2114-01-30 18:24:30        NaT   \n",
       "12330 2137-07-20 13:00:00 2137-07-09 18:57:18 2137-07-10 15:40:30        NaT   \n",
       "12331 2200-08-03 21:01:00 2200-07-30 16:43:06 2200-07-31 20:47:38        NaT   \n",
       "\n",
       "      deathtime  \n",
       "0           NaT  \n",
       "1           NaT  \n",
       "2           NaT  \n",
       "3           NaT  \n",
       "4           NaT  \n",
       "...         ...  \n",
       "12327       NaT  \n",
       "12328       NaT  \n",
       "12329       NaT  \n",
       "12330       NaT  \n",
       "12331       NaT  \n",
       "\n",
       "[12332 rows x 8 columns]"
      ]
     },
     "execution_count": 26,
     "metadata": {},
     "output_type": "execute_result"
    }
   ],
   "source": [
    "# create new column for vent_duration\n",
    "data['vent_duration'] = data.apply(get_vent_duration, axis=1)\n",
    "data[['ext_time','vent_duration','admittime','dischtime','intime','outtime','reint_time','deathtime']]"
   ]
  },
  {
   "cell_type": "code",
   "execution_count": null,
   "id": "2150d852",
   "metadata": {},
   "outputs": [],
   "source": [
    "## CHECK FOR ROWS WHERE DEATHTIME < INTIME OR ADMITTIME"
   ]
  },
  {
   "cell_type": "code",
   "execution_count": 29,
   "id": "aa5ff695",
   "metadata": {},
   "outputs": [
    {
     "data": {
      "text/plain": [
       "ext_time                         NaT\n",
       "vent_duration               -10.9125\n",
       "admittime        2136-03-19 22:54:00\n",
       "dischtime        2136-03-19 12:00:00\n",
       "intime           2136-03-19 22:54:45\n",
       "outtime          2136-03-20 05:55:41\n",
       "reint_time                       NaT\n",
       "deathtime        2136-03-19 12:00:00\n",
       "Name: 1449, dtype: object"
      ]
     },
     "execution_count": 29,
     "metadata": {},
     "output_type": "execute_result"
    }
   ],
   "source": [
    "data.loc[1449,['ext_time','vent_duration','admittime','dischtime','intime','outtime','reint_time','deathtime']]"
   ]
  },
  {
   "cell_type": "code",
   "execution_count": 24,
   "id": "ad6e50ec",
   "metadata": {},
   "outputs": [
    {
     "data": {
      "text/plain": [
       "admittime     datetime64[ns]\n",
       "dischtime     datetime64[ns]\n",
       "intime        datetime64[ns]\n",
       "outtime       datetime64[ns]\n",
       "reint_time    datetime64[ns]\n",
       "ext_time      datetime64[ns]\n",
       "deathtime     datetime64[ns]\n",
       "dtype: object"
      ]
     },
     "execution_count": 24,
     "metadata": {},
     "output_type": "execute_result"
    }
   ],
   "source": [
    "data[time_cols].dtypes"
   ]
  },
  {
   "cell_type": "code",
   "execution_count": null,
   "id": "d83a6869",
   "metadata": {},
   "outputs": [],
   "source": [
    "data[['vent_array','hr','sbp','reintubation','reint_time','ext_time','intime']]"
   ]
  },
  {
   "cell_type": "code",
   "execution_count": null,
   "id": "f970e084",
   "metadata": {},
   "outputs": [],
   "source": []
  }
 ],
 "metadata": {
  "kernelspec": {
   "display_name": "Python 3 (ipykernel)",
   "language": "python",
   "name": "python3"
  },
  "language_info": {
   "codemirror_mode": {
    "name": "ipython",
    "version": 3
   },
   "file_extension": ".py",
   "mimetype": "text/x-python",
   "name": "python",
   "nbconvert_exporter": "python",
   "pygments_lexer": "ipython3",
   "version": "3.7.3"
  }
 },
 "nbformat": 4,
 "nbformat_minor": 5
}
