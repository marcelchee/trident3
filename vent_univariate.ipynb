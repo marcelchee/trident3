{
 "cells": [
  {
   "cell_type": "code",
   "execution_count": 25,
   "metadata": {},
   "outputs": [],
   "source": [
    "import pandas as pd\n",
    "import numpy as np\n",
    "import math\n",
    "import statistics\n",
    "from sksurv.preprocessing import OneHotEncoder\n",
    "from sklearn.feature_selection import mutual_info_classif"
   ]
  },
  {
   "cell_type": "code",
   "execution_count": 2,
   "metadata": {},
   "outputs": [],
   "source": [
    "#load data\n",
    "pd.set_option('display.max_columns', None)\n",
    "df = pd.read_csv('imputed_revent.csv')\n",
    "df = df.drop(axis=1, columns=['Unnamed: 0','last_careunit'])"
   ]
  },
  {
   "cell_type": "markdown",
   "metadata": {},
   "source": [
    "## 1: Post-pre-processing"
   ]
  },
  {
   "cell_type": "markdown",
   "metadata": {},
   "source": [
    "#### 1.1: Variable grouping"
   ]
  },
  {
   "cell_type": "code",
   "execution_count": 10,
   "metadata": {},
   "outputs": [],
   "source": [
    "for col in ['ext_time1','int_time2','dischtime']:\n",
    "    df[col] = pd.to_datetime(df[col])\n",
    "\n",
    "# get time to reintubation\n",
    "def get_reventTime(ext_time1=None, int_time2=None, dischtime=None):\n",
    "    time_to_reint = 0\n",
    "    if int_time2 == np.NaN or pd.isna(int_time2):\n",
    "        time_to_reint = np.NaN\n",
    "        return time_to_reint\n",
    "    else:\n",
    "        time_to_reint = int_time2 - ext_time1\n",
    "        return time_to_reint.total_seconds()/3600\n",
    "\n",
    "time_to_revent = []\n",
    "for i in list(range(len(df))):\n",
    "    y = get_reventTime(ext_time1=df['ext_time1'][i],int_time2=df['int_time2'][i],dischtime=df['dischtime'][i])\n",
    "    time_to_revent.append(y)\n",
    "\n",
    "df['time_to_revent'] = time_to_revent\n"
   ]
  },
  {
   "cell_type": "code",
   "execution_count": 11,
   "id": "4abc5d8e",
   "metadata": {},
   "outputs": [
    {
     "name": "stdout",
     "output_type": "stream",
     "text": [
      "['censor']\n",
      "['temp_mean', 'temp_max', 'temp_min', 'bg_temp_mean', 'bg_temp_max', 'bg_temp_min', 'hr_mean', 'hr_max', 'hr_min', 'spo2_mean', 'spo2_max', 'spo2_min', 'rr_mean', 'rr_max', 'rr_min', 'sbp_mean', 'sbp_max', 'sbp_min', 'dbp_mean', 'dbp_max', 'dbp_min', 'meanbp_mean', 'meanbp_max', 'meanbp_min', 'cardiac_index_mean', 'cardiac_index_max', 'cardiac_index_min', 'pt_mean', 'pt_max', 'pt_min', 'ptt_mean', 'ptt_max', 'ptt_min', 'inr_mean', 'inr_max', 'inr_min', 'inr_1_mean', 'inr_1_max', 'inr_1_min', 'fibrinogen_mean', 'fibrinogen_max', 'fibrinogen_min', 'hb_mean', 'hb_max', 'hb_min', 'hematocrit_mean', 'hematocrit_max', 'hematocrit_min', 'wcc_mean', 'wcc_max', 'wcc_min', 'lymphocytes_mean', 'lymphocytes_max', 'lymphocytes_min', 'neutrophils_mean', 'neutrophils_max', 'neutrophils_min', 'alp_mean', 'alp_max', 'alp_min', 'ast_mean', 'ast_max', 'ast_min', 'alt_mean', 'alt_max', 'alt_min', 'bilirubin_total_mean', 'bilirubin_total_max', 'bilirubin_total_min', 'chloride_mean', 'chloride_max', 'chloride_min', 'magnesium_mean', 'magnesium_max', 'magnesium_min', 'potassium_mean', 'potassium_max', 'potassium_min', 'creatinine_mean', 'creatinine_max', 'creatinine_min', 'free_calcium_mean', 'free_calcium_max', 'free_calcium_min', 'sodium_mean', 'sodium_max', 'sodium_min', 'bicarb_mean', 'bicarb_max', 'bicarb_min', 'bun_mean', 'bun_max', 'bun_min', 'hba1c_mean', 'hba1c_max', 'hba1c_min', 'glucose_mean', 'glucose_max', 'glucose_min', 'lactate_mean', 'lactate_max', 'lactate_min', 'po2_mean', 'po2_max', 'po2_min', 'pco2_mean', 'pco2_max', 'pco2_min', 'baseexcess_mean', 'baseexcess_max', 'baseexcess_min', 'ph_mean', 'ph_max', 'ph_min', 'aado2_mean', 'aado2_max', 'aado2_min', 'fio2_mean', 'fio2_max', 'fio2_min', 'insulin_mean', 'insulin_max', 'insulin_min', 'prbc_mean', 'prbc_max', 'prbc_min', 'tidalvol_mean', 'tidalvol_max', 'tidalvol_min', 'plt_mean', 'plt_max', 'plt_min', 'hadm_id', 'subject_id', 'censor']\n"
     ]
    }
   ],
   "source": [
    "# variables for analysis\n",
    "categorical = ['ethnicity', \n",
    "              'marital_status',\n",
    "              'language',\n",
    "              'admission_location',\n",
    "              'gender',\n",
    "              'insurance',\n",
    "              'first_careunit',\n",
    "              'admission_type']\n",
    "proceduretype=['aortic','mit','tricuspid','pulmonary','cabg']\n",
    "ptParams = ['weight', 'height', 'bmi','duration1']\n",
    "boolFields = ['reintubation', 'liver_severe', 'liver_mild', 'rheum', 'cvd', 'aids', 'ckd', 'copd', 'arrhythmia', 'pud', 'smoking', 'pvd', 'paraplegia', \n",
    "              'ccf', 'met_ca', 't2dm', 't1dm', 'malig', 'mi', 'dementia', 'hospital_expire_flag', 'diab_un', 'diab_cc','infection_vent']\n",
    "ptinfo = ['hadm_id', 'subject_id']\n",
    "ptTimes = ['int_time1','ext_time1','int_time2','ext_time2','admittime', 'dischtime', 'deathtime','intime', 'outtime', 'ext_time', 'icustay_seq']\n",
    "tsColumns_last = [i for i in df.columns if '_last' in i]\n",
    "tsColumns_first = [i for i in df.columns if '_first' in i]\n",
    "tsColumns_notFirst = [i for i in df.columns if '_max' in i or '_min' in i or '_mean' in i or '_last' in i]\n",
    "\n",
    "inputs = [*categorical , *proceduretype , *tsColumns_last, *ptParams , *[i for i in boolFields if i != 'reintubation']]\n",
    "inputs_all = [*categorical , *proceduretype , *tsColumns_first , *tsColumns_notFirst, *ptParams , *[i for i in boolFields if i != 'reintubation']]\n",
    "outcomes = ['reintubation','hospital_expire_flag','los','duration2','icu_stay_duration','time_to_revent']\n",
    "\n",
    "print([i for i in df.columns if i not in categorical + proceduretype + tsColumns_first + tsColumns_notFirst + ptParams + boolFields + ptinfo + ptTimes + outcomes])\n",
    "print([i for i in df.columns if i not in inputs + outcomes + ptTimes + tsColumns_first])"
   ]
  },
  {
   "cell_type": "code",
   "execution_count": 12,
   "metadata": {},
   "outputs": [],
   "source": [
    "# change categorical to category type\n",
    "for col in categorical:\n",
    "    df[col] = df[col].astype('category')"
   ]
  },
  {
   "cell_type": "code",
   "execution_count": 13,
   "metadata": {},
   "outputs": [],
   "source": [
    "# change dt to dt type\n",
    "for col in [i for i in ptTimes if i != 'icustay_seq']:\n",
    "    df[col] = pd.to_datetime(df[col])"
   ]
  },
  {
   "cell_type": "code",
   "execution_count": 14,
   "metadata": {},
   "outputs": [
    {
     "name": "stdout",
     "output_type": "stream",
     "text": [
      "Number censored: 0\n",
      "[]\n"
     ]
    }
   ],
   "source": [
    "# create censor column for death before extubation\n",
    "censor = []\n",
    "for i in range(len(df)):\n",
    "    int_time2=df['int_time2'][i]\n",
    "    if int_time2 == np.NaN or pd.isna(int_time2):\n",
    "        #censor.append(False)\n",
    "        censor.append(True)\n",
    "    elif pd.isnull(df['deathtime'][i]) or df['deathtime'][i] >= df['ext_time1'][i]:\n",
    "        censor.append(True)\n",
    "    else:\n",
    "        censor.append(False)\n",
    "censored = []\n",
    "for i in range(len(censor)):\n",
    "    if censor[i] == False:\n",
    "        censored.append(i)\n",
    "print('Number censored: '+str(len(censored)))\n",
    "print(censored)\n",
    "\n",
    "df['censor'] = censor"
   ]
  },
  {
   "cell_type": "markdown",
   "metadata": {},
   "source": [
    "#### 1.2: !!X, Xt, y!!"
   ]
  },
  {
   "cell_type": "code",
   "execution_count": 23,
   "metadata": {},
   "outputs": [],
   "source": [
    "# get X, Xt and y\n",
    "outcome = 'duration1'\n",
    "\n",
    "X = df[inputs]\n",
    "#X = df[inputs_all]\n",
    "Xt = OneHotEncoder().fit_transform(X)\n",
    "\n",
    "y = np.zeros(len(df), dtype={'names':('Censor', 'Survival'),\n",
    "                          'formats':('?', '<f8')})\n",
    "\n",
    "y['Censor'] = df['censor']\n",
    "y['Survival'] = df['time_to_revent']\n",
    "y = df['reintubation']"
   ]
  },
  {
   "cell_type": "markdown",
   "metadata": {},
   "source": [
    "## 2: Univariate analysis"
   ]
  },
  {
   "cell_type": "code",
   "execution_count": 28,
   "metadata": {},
   "outputs": [],
   "source": [
    "# get list of top variables by mutual\n",
    "how_many_select = 40\n",
    "\n",
    "mutual_info_df = pd.DataFrame(mutual_info_classif(Xt, y, random_state=42), index=[*list(Xt.columns)])\n",
    "mutual_info_df = mutual_info_df.sort_values(by=[0])\n",
    "sel_var = list(mutual_info_df.index)[-how_many_select:]"
   ]
  },
  {
   "cell_type": "code",
   "execution_count": 32,
   "metadata": {},
   "outputs": [
    {
     "data": {
      "text/plain": [
       "['admission_location=PHYSICIAN REFERRAL',\n",
       " 'arrhythmia',\n",
       " 'hospital_expire_flag',\n",
       " 'bicarb_last',\n",
       " 'baseexcess_last',\n",
       " 'creatinine_last',\n",
       " 'chloride_last',\n",
       " 'ccf',\n",
       " 'bun_last',\n",
       " 'duration1']"
      ]
     },
     "execution_count": 32,
     "metadata": {},
     "output_type": "execute_result"
    }
   ],
   "source": []
  },
  {
   "cell_type": "code",
   "execution_count": null,
   "metadata": {},
   "outputs": [],
   "source": []
  }
 ],
 "metadata": {
  "interpreter": {
   "hash": "0652ecffa332becfb8e0a3b24d51fbf4b8e2da78993fa6a399295ab431c37288"
  },
  "kernelspec": {
   "display_name": "Python 3.9.7 64-bit ('tridentenv': conda)",
   "language": "python",
   "name": "python3"
  },
  "language_info": {
   "codemirror_mode": {
    "name": "ipython",
    "version": 3
   },
   "file_extension": ".py",
   "mimetype": "text/x-python",
   "name": "python",
   "nbconvert_exporter": "python",
   "pygments_lexer": "ipython3",
   "version": "3.9.7"
  },
  "orig_nbformat": 4
 },
 "nbformat": 4,
 "nbformat_minor": 2
}
