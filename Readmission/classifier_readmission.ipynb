{
 "cells": [
  {
   "cell_type": "code",
   "execution_count": 11,
   "metadata": {},
   "outputs": [],
   "source": [
    "import pandas as pd\n",
    "import numpy as np\n",
    "import math\n",
    "import statistics\n",
    "import datetime as dt\n",
    "from matplotlib import pyplot as plt\n",
    "\n",
    "from sksurv.nonparametric import kaplan_meier_estimator\n",
    "from sksurv.linear_model import CoxPHSurvivalAnalysis, CoxnetSurvivalAnalysis\n",
    "from sksurv.preprocessing import OneHotEncoder\n",
    "from sksurv.metrics import concordance_index_censored\n",
    "from sklearn.model_selection import train_test_split\n",
    "\n",
    "from sksurv.datasets import load_breast_cancer\n",
    "from sklearn.model_selection import GridSearchCV, KFold\n",
    "from sklearn.pipeline import make_pipeline\n",
    "from sklearn.preprocessing import StandardScaler\n",
    "from sklearn.linear_model import LogisticRegression\n",
    "from imblearn.over_sampling import SMOTE\n",
    "from imblearn.under_sampling import RandomUnderSampler\n",
    "from imblearn.pipeline import Pipeline\n",
    "from sklearn.metrics import roc_curve\n",
    "from sklearn.metrics import roc_auc_score\n",
    "\n",
    "from collections import Counter\n",
    "\n",
    "import imblearn\n",
    "\n",
    "pd.set_option('display.max_columns', None)"
   ]
  },
  {
   "cell_type": "code",
   "execution_count": 2,
   "metadata": {},
   "outputs": [],
   "source": [
    "df = pd.read_csv('imputedReadmission.csv')\n",
    "df = df.drop(axis=1, columns=['Unnamed: 0'], inplace=False)\n",
    "\n",
    "#cleaning\n",
    "\n",
    "colCats = {\n",
    "    'admInfo': ['subject_id', 'hadm_id', 'stay_id'],\n",
    "    'ptInfoCont': ['age', 'height', 'weight'],\n",
    "    'demographics': ['gender','ethnicity','marital_status','insurance','language'],\n",
    "    'admCat': ['first_careunit','last_careunit','admission_location','admission_type', 'dbsource'],\n",
    "    'admTime': ['admittime', 'dischtime', 'intime', 'outtime', 'reint_time', 'ext_time', 'postop_intime', 'deathtime', 'dod'],\n",
    "    'admNum': ['los','icustay_seq'],\n",
    "    'markersTs': ['aki', 'ph', 'bicarb', 'baseexcess', 'chloride', 'free_calcium', 'glucose', 'potassium', 'sodium', 'lactate', \n",
    "                  'hematocrit', 'hb', 'pco2', 'po2', 'bg_temp', 'fio2', 'ventrate', 'tidalvol', 'aado2', 'specimen', 'neutrophils', \n",
    "                  'lymphocytes', 'wcc', 'plt', 'crp', 'albumin', 'creatinine', 'bun', 'magnesium', 'alt', 'alp', 'ast', 'ggt', \n",
    "                  'bilirubin_total', 'bilirubin_direct', 'bilirubin_indirect', 'inr', 'fibrinogen', 'bleed_time', 'ptt', 'pt', 'hba1c', 'prbc', 'plts', 'ffp', 'cryo'],\n",
    "    'procedureType': ['aortic','mitral','tricuspid','pulmonary','cabg'],\n",
    "    'comorbids': ['liver_severe','liver_mild','rheum','cvd','aids','ckd','copd','arrhythmia','pud','smoking','pvd',\n",
    "                      'paraplegia','ccf','met_ca','t2dm','t1dm','malig','mi','dementia'],\n",
    "    'diabUnits': ['diab_un', 'diab_cc'],\n",
    "    'otherTs': ['dtoutput', 'echo', 'fluid', 'infection', 'intropes', 'insulin', 'pasp', 'padp', 'mpap', 'vent_array'],\n",
    "    'vitalsTs': ['hr', 'sbp', 'dbp', 'meanbp', 'rr', 'temp', 'spo2', 'cardiac_index'],\n",
    "    'misc': ['sofa', 'reintubation'],\n",
    "    'readmitInfo': ['readmit_times', 'readmissions', 'first_readmission'],\n",
    "    'ventTimes': ['int_time1', 'ext_time1', 'duration1', 'int_time2', 'ext_time2', 'duration2'],\n",
    "    'icuStayInfo': ['icu_stay_hrs']\n",
    "}\n",
    "colCatsSquashed = [j for k in [colCats[i] for i in colCats] for j in k]"
   ]
  },
  {
   "cell_type": "code",
   "execution_count": 3,
   "metadata": {},
   "outputs": [
    {
     "name": "stdout",
     "output_type": "stream",
     "text": [
      "['ph_mean', 'bicarb_mean', 'baseexcess_mean', 'chloride_mean', 'free_calcium_mean', 'glucose_mean', 'potassium_mean', 'sodium_mean', 'lactate_mean', 'hematocrit_mean', 'hb_mean', 'pco2_mean', 'po2_mean', 'wcc_mean', 'plt_mean', 'creatinine_mean', 'bun_mean', 'magnesium_mean', 'inr_mean', 'ptt_mean', 'hba1c_mean', 'prbc_mean', 'hr_mean', 'sbp_mean', 'dbp_mean', 'meanbp_mean', 'rr_mean', 'temp_mean', 'spo2_mean', 'cardiac_index_mean', 'dtoutput_mean', 'pasp_mean', 'padp_mean', 'mpap_mean', 'abx_no', 'abx_bool', 'aki_stage_creat_mean', 'aki_stage_uo_mean', 'age', 'gender', 'ethnicity', 'height', 'weight', 'admission_type', 'admission_location', 'insurance', 'marital_status', 'language', 'first_careunit', 'last_careunit', 'dbsource', 'sofa', 'cabg', 'aortic', 'mitral', 'tricuspid', 'pulmonary', 'mi', 'arrhythmia', 'ccf', 'pvd', 'cvd', 'dementia', 'copd', 'rheum', 'pud', 'liver_mild', 'paraplegia', 'ckd', 'malig', 'liver_severe', 'met_ca', 'aids', 'smoking', 'reintubation', 'icu_stay_hrs']\n"
     ]
    },
    {
     "name": "stderr",
     "output_type": "stream",
     "text": [
      "C:\\Users\\zhepu\\AppData\\Local\\Temp/ipykernel_49560/2554848101.py:8: SettingWithCopyWarning: \n",
      "A value is trying to be set on a copy of a slice from a DataFrame.\n",
      "Try using .loc[row_indexer,col_indexer] = value instead\n",
      "\n",
      "See the caveats in the documentation: https://pandas.pydata.org/pandas-docs/stable/user_guide/indexing.html#returning-a-view-versus-a-copy\n",
      "  data_x[i] = data_x[i].astype('category')\n"
     ]
    }
   ],
   "source": [
    "data_x = df[[i for i in df.columns if i not in [*colCats['readmitInfo'], *colCats['admTime'], *colCats['admInfo'], \n",
    "                                                'int_time1', 'ext_time1', 'int_time2', 'ext_time2', 'duration1', 'duration2', 'icustay_seq',\n",
    "                                                't1dm', 't2dm', 'los'] and '_min' not in i and '_max' not in i]]\n",
    "print(data_x.columns.to_list())\n",
    "\n",
    "for i in data_x.columns:\n",
    "    if data_x[i].dtype == 'object':\n",
    "        data_x[i] = data_x[i].astype('category')\n",
    "\n",
    "data_y = (~pd.isnull(df['first_readmission'])).astype(int)\n",
    "data_y = np.array(data_y, dtype=np.int32)\n",
    "\n",
    "data_x_numeric = OneHotEncoder().fit_transform(data_x)"
   ]
  },
  {
   "cell_type": "code",
   "execution_count": 51,
   "metadata": {},
   "outputs": [
    {
     "name": "stdout",
     "output_type": "stream",
     "text": [
      "Counter({0: 4156, 1: 2494})\n",
      "Counter({0: 1255, 1: 57})\n",
      "Score 0.885670731707317\n",
      "Sensitivity TPR 0.5263157894736842\n",
      "Specificity TNR 0.7920318725099602\n",
      "PPV 0.10309278350515463\n",
      "NPV 0.9735553379040157\n",
      "Total positive 0.22179878048780488\n"
     ]
    },
    {
     "name": "stderr",
     "output_type": "stream",
     "text": [
      "c:\\users\\zhepu\\desktop\\trident\\jahan\\tridentenv\\lib\\site-packages\\sklearn\\linear_model\\_logistic.py:763: ConvergenceWarning: lbfgs failed to converge (status=1):\n",
      "STOP: TOTAL NO. of ITERATIONS REACHED LIMIT.\n",
      "\n",
      "Increase the number of iterations (max_iter) or scale the data as shown in:\n",
      "    https://scikit-learn.org/stable/modules/preprocessing.html\n",
      "Please also refer to the documentation for alternative solver options:\n",
      "    https://scikit-learn.org/stable/modules/linear_model.html#logistic-regression\n",
      "  n_iter_i = _check_optimize_result(\n"
     ]
    }
   ],
   "source": [
    "x_train, x_test, y_train, y_test = train_test_split(data_x_numeric, data_y, test_size=0.2, random_state=20)\n",
    "\n",
    "oversample = SMOTE(sampling_strategy=0.5)\n",
    "undersample = RandomUnderSampler(sampling_strategy=0.6)\n",
    "steps = [('o', oversample), ('u', undersample)]\n",
    "pipeline = Pipeline(steps=steps)\n",
    "x_smote, y_smote = pipeline.fit_resample(x_train, y_train)\n",
    "\n",
    "counter = Counter(y_smote)\n",
    "print(counter)\n",
    "print(Counter(y_test))\n",
    "\n",
    "clf = LogisticRegression(random_state=0, max_iter=1000).fit(x_smote, y_smote)\n",
    "print('Score', clf.score(x_test, y_test))\n",
    "\n",
    "z = clf.predict_proba(x_test)[:,0]<0.7\n",
    "\n",
    "a = sum((z == y_test)[y_test==1]) #tp\n",
    "b = sum((z != y_test)[y_test==1]) #fn\n",
    "c = sum((z == y_test)[y_test==0]) #tn\n",
    "d = sum((z != y_test)[y_test==0]) #fp\n",
    "\n",
    "print('Sensitivity TPR', a/(a+b))\n",
    "print('Specificity TNR', c/(c+d))\n",
    "print('PPV', a/(a+d))\n",
    "print('NPV', c/(c+b))\n",
    "print('Total positive', (a+d)/(a+b+c+d))"
   ]
  },
  {
   "cell_type": "code",
   "execution_count": 18,
   "metadata": {},
   "outputs": [
    {
     "name": "stdout",
     "output_type": "stream",
     "text": [
      "Logistic: ROC AUC=0.717\n"
     ]
    },
    {
     "data": {
      "image/png": "[encoded data removed]",
      "text/plain": [
       "<Figure size 432x288 with 1 Axes>"
      ]
     },
     "metadata": {
      "needs_background": "light"
     },
     "output_type": "display_data"
    }
   ],
   "source": [
    "lr_probs = clf.predict_proba(x_test)[:,1]\n",
    "lr_auc = roc_auc_score(y_test, lr_probs)\n",
    "print('Logistic: ROC AUC=%.3f' % (lr_auc))\n",
    "lr_fpr, lr_tpr, _ = roc_curve(y_test, lr_probs)\n",
    "plt.plot(lr_fpr, lr_tpr, marker='.', label='Logistic')\n",
    "\n",
    "plt.show()"
   ]
  }
 ],
 "metadata": {
  "kernelspec": {
   "display_name": "tridentenv",
   "language": "python",
   "name": "tridentenv"
  },
  "language_info": {
   "codemirror_mode": {
    "name": "ipython",
    "version": 3
   },
   "file_extension": ".py",
   "mimetype": "text/x-python",
   "name": "python",
   "nbconvert_exporter": "python",
   "pygments_lexer": "ipython3",
   "version": "3.9.5"
  }
 },
 "nbformat": 4,
 "nbformat_minor": 4
}
