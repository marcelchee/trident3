{
 "cells": [
  {
   "cell_type": "code",
   "execution_count": 1,
   "metadata": {},
   "outputs": [],
   "source": [
    "import pandas as pd\n",
    "import numpy as np\n",
    "import math\n",
    "import statistics\n",
    "import datetime as dt\n",
    "import warnings\n",
    "import time\n",
    "from matplotlib import pyplot as plt\n",
    "\n",
    "from sksurv.nonparametric import kaplan_meier_estimator\n",
    "from sksurv.linear_model import CoxPHSurvivalAnalysis, CoxnetSurvivalAnalysis\n",
    "from sksurv.preprocessing import OneHotEncoder\n",
    "from sksurv.metrics import concordance_index_censored, as_concordance_index_ipcw_scorer, as_cumulative_dynamic_auc_scorer, as_integrated_brier_score_scorer\n",
    "\n",
    "from sksurv.ensemble import RandomSurvivalForest, ComponentwiseGradientBoostingSurvivalAnalysis, GradientBoostingSurvivalAnalysis\n",
    "from sklearn.exceptions import ConvergenceWarning\n",
    "from sklearn.model_selection import GridSearchCV, KFold, train_test_split, RandomizedSearchCV\n",
    "from sklearn.pipeline import make_pipeline\n",
    "from sklearn.preprocessing import StandardScaler, OrdinalEncoder\n",
    "from sklearn.metrics import roc_curve, auc, precision_score, recall_score, f1_score, precision_recall_curve, average_precision_score, accuracy_score, confusion_matrix\n",
    "\n",
    "import eli5\n",
    "from eli5.sklearn import PermutationImportance\n"
   ]
  },
  {
   "cell_type": "code",
   "execution_count": 56,
   "metadata": {},
   "outputs": [],
   "source": [
    "#load data\n",
    "pd.set_option('display.max_columns', None)\n",
    "df = pd.read_csv('imputed_revent.csv')\n",
    "df = df.drop(axis=1, columns=['Unnamed: 0','last_careunit'])\n",
    "df=df.reset_index()"
   ]
  },
  {
   "cell_type": "markdown",
   "metadata": {},
   "source": [
    "## 1: Post-pre-processing"
   ]
  },
  {
   "cell_type": "markdown",
   "metadata": {},
   "source": [
    "#### 1.1: Variable grouping"
   ]
  },
  {
   "cell_type": "code",
   "execution_count": 74,
   "metadata": {},
   "outputs": [],
   "source": [
    "for col in ['ext_time1','int_time2','dischtime']:\n",
    "    df[col] = pd.to_datetime(df[col])\n",
    "\n",
    "# get time to reintubation\n",
    "def get_reventTime(ext_time1=None, int_time2=None, dischtime=None):\n",
    "    time_to_reint = 0\n",
    "    if int_time2 == np.NaN or pd.isna(int_time2):\n",
    "        time_to_reint = 10000000\n",
    "        return time_to_reint\n",
    "    else:\n",
    "        time_to_reint = int_time2 - ext_time1\n",
    "        return time_to_reint.total_seconds()/3600\n",
    "\n",
    "time_to_revent = []\n",
    "for i in list(range(len(df))):\n",
    "    y = get_reventTime(ext_time1=df['ext_time1'][i],int_time2=df['int_time2'][i],dischtime=df['dischtime'][i])\n",
    "    time_to_revent.append(y)\n",
    "\n",
    "df['time_to_revent'] = time_to_revent\n"
   ]
  },
  {
   "cell_type": "code",
   "execution_count": 75,
   "id": "4abc5d8e",
   "metadata": {},
   "outputs": [
    {
     "name": "stdout",
     "output_type": "stream",
     "text": [
      "['index', 'censor']\n",
      "['index', 'temp_mean', 'temp_max', 'temp_min', 'bg_temp_mean', 'bg_temp_max', 'bg_temp_min', 'hr_mean', 'hr_max', 'hr_min', 'spo2_mean', 'spo2_max', 'spo2_min', 'rr_mean', 'rr_max', 'rr_min', 'sbp_mean', 'sbp_max', 'sbp_min', 'dbp_mean', 'dbp_max', 'dbp_min', 'meanbp_mean', 'meanbp_max', 'meanbp_min', 'cardiac_index_mean', 'cardiac_index_max', 'cardiac_index_min', 'pt_mean', 'pt_max', 'pt_min', 'ptt_mean', 'ptt_max', 'ptt_min', 'inr_mean', 'inr_max', 'inr_min', 'inr_1_mean', 'inr_1_max', 'inr_1_min', 'fibrinogen_mean', 'fibrinogen_max', 'fibrinogen_min', 'hb_mean', 'hb_max', 'hb_min', 'hematocrit_mean', 'hematocrit_max', 'hematocrit_min', 'wcc_mean', 'wcc_max', 'wcc_min', 'lymphocytes_mean', 'lymphocytes_max', 'lymphocytes_min', 'neutrophils_mean', 'neutrophils_max', 'neutrophils_min', 'alp_mean', 'alp_max', 'alp_min', 'ast_mean', 'ast_max', 'ast_min', 'alt_mean', 'alt_max', 'alt_min', 'bilirubin_total_mean', 'bilirubin_total_max', 'bilirubin_total_min', 'chloride_mean', 'chloride_max', 'chloride_min', 'magnesium_mean', 'magnesium_max', 'magnesium_min', 'potassium_mean', 'potassium_max', 'potassium_min', 'creatinine_mean', 'creatinine_max', 'creatinine_min', 'free_calcium_mean', 'free_calcium_max', 'free_calcium_min', 'sodium_mean', 'sodium_max', 'sodium_min', 'bicarb_mean', 'bicarb_max', 'bicarb_min', 'bun_mean', 'bun_max', 'bun_min', 'hba1c_mean', 'hba1c_max', 'hba1c_min', 'glucose_mean', 'glucose_max', 'glucose_min', 'lactate_mean', 'lactate_max', 'lactate_min', 'po2_mean', 'po2_max', 'po2_min', 'pco2_mean', 'pco2_max', 'pco2_min', 'baseexcess_mean', 'baseexcess_max', 'baseexcess_min', 'ph_mean', 'ph_max', 'ph_min', 'aado2_mean', 'aado2_max', 'aado2_min', 'fio2_mean', 'fio2_max', 'fio2_min', 'insulin_mean', 'insulin_max', 'insulin_min', 'prbc_mean', 'prbc_max', 'prbc_min', 'tidalvol_mean', 'tidalvol_max', 'tidalvol_min', 'plt_mean', 'plt_max', 'plt_min', 'hadm_id', 'subject_id', 'censor']\n"
     ]
    }
   ],
   "source": [
    "# variables for analysis\n",
    "categorical = ['ethnicity', \n",
    "              'marital_status',\n",
    "              'language',\n",
    "              'admission_location',\n",
    "              'gender',\n",
    "              'insurance',\n",
    "              'first_careunit',\n",
    "              'admission_type']\n",
    "proceduretype=['aortic','mit','tricuspid','pulmonary','cabg']\n",
    "ptParams = ['weight', 'height', 'bmi','duration1']\n",
    "boolFields = ['reintubation', 'liver_severe', 'liver_mild', 'rheum', 'cvd', 'aids', 'ckd', 'copd', 'arrhythmia', 'pud', 'smoking', 'pvd', 'paraplegia', \n",
    "              'ccf', 'met_ca', 't2dm', 't1dm', 'malig', 'mi', 'dementia', 'hospital_expire_flag', 'diab_un', 'diab_cc','infection_vent']\n",
    "ptinfo = ['hadm_id', 'subject_id']\n",
    "ptTimes = ['int_time1','ext_time1','int_time2','ext_time2','admittime', 'dischtime', 'deathtime','intime', 'outtime', 'ext_time', 'icustay_seq']\n",
    "tsColumns_last = [i for i in df.columns if '_last' in i]\n",
    "tsColumns_first = [i for i in df.columns if '_first' in i]\n",
    "tsColumns_notFirst = [i for i in df.columns if '_max' in i or '_min' in i or '_mean' in i or '_last' in i]\n",
    "\n",
    "inputs = [*categorical , *proceduretype , *tsColumns_last, *ptParams , *[i for i in boolFields if i != 'reintubation']]\n",
    "inputs_all = [*categorical , *proceduretype , *tsColumns_first , *tsColumns_notFirst, *ptParams , *[i for i in boolFields if i != 'reintubation']]\n",
    "outcomes = ['reintubation','hospital_expire_flag','los','duration2','icu_stay_duration','time_to_revent']\n",
    "\n",
    "print([i for i in df.columns if i not in categorical + proceduretype + tsColumns_first + tsColumns_notFirst + ptParams + boolFields + ptinfo + ptTimes + outcomes])\n",
    "print([i for i in df.columns if i not in inputs + outcomes + ptTimes + tsColumns_first])"
   ]
  },
  {
   "cell_type": "code",
   "execution_count": 76,
   "metadata": {},
   "outputs": [],
   "source": [
    "# change categorical to category type\n",
    "for col in categorical:\n",
    "    df[col] = df[col].astype('category')"
   ]
  },
  {
   "cell_type": "code",
   "execution_count": 77,
   "metadata": {},
   "outputs": [],
   "source": [
    "# change dt to dt type\n",
    "for col in [i for i in ptTimes if i != 'icustay_seq']:\n",
    "    df[col] = pd.to_datetime(df[col])"
   ]
  },
  {
   "cell_type": "code",
   "execution_count": 79,
   "metadata": {},
   "outputs": [
    {
     "name": "stdout",
     "output_type": "stream",
     "text": [
      "Number censored: 0\n",
      "[]\n"
     ]
    }
   ],
   "source": [
    "# create censor column for death before extubation\n",
    "censor = []\n",
    "for i in range(len(df)):\n",
    "    int_time2=df['int_time2'][i]\n",
    "    if int_time2 == np.NaN or pd.isna(int_time2):\n",
    "        #censor.append(False)\n",
    "        censor.append(True)\n",
    "    elif pd.isnull(df['deathtime'][i]) or df['deathtime'][i] >= df['ext_time1'][i]:\n",
    "        censor.append(True)\n",
    "    else:\n",
    "        censor.append(False)\n",
    "censored = []\n",
    "for i in range(len(censor)):\n",
    "    if censor[i] == False:\n",
    "        censored.append(i)\n",
    "print('Number censored: '+str(len(censored)))\n",
    "print(censored)\n",
    "\n",
    "df['censor'] = censor"
   ]
  },
  {
   "cell_type": "markdown",
   "metadata": {},
   "source": [
    "#### 1.2: !!X, Xt, y!!"
   ]
  },
  {
   "cell_type": "code",
   "execution_count": 80,
   "metadata": {},
   "outputs": [
    {
     "data": {
      "text/plain": [
       "array([( True, 10000000.), ( True, 10000000.), ( True, 10000000.), ...,\n",
       "       ( True, 10000000.), ( True, 10000000.), ( True, 10000000.)],\n",
       "      dtype=[('Censor', '?'), ('Survival', '<f8')])"
      ]
     },
     "execution_count": 80,
     "metadata": {},
     "output_type": "execute_result"
    }
   ],
   "source": [
    "# get X, Xt and y\n",
    "X = df[inputs]\n",
    "#X = df[inputs_all]\n",
    "Xt = OneHotEncoder().fit_transform(X)\n",
    "\n",
    "y = np.zeros(len(df), dtype={'names':('Censor', 'Survival'),\n",
    "                          'formats':('?', '<f8')})\n",
    "\n",
    "y['Censor'] = df['censor']\n",
    "y['Survival'] = df['time_to_revent']\n",
    "y"
   ]
  },
  {
   "cell_type": "markdown",
   "metadata": {},
   "source": [
    "#### 1.3: Plotting y"
   ]
  },
  {
   "cell_type": "code",
   "execution_count": 81,
   "metadata": {},
   "outputs": [
    {
     "data": {
      "text/plain": [
       "Text(0.5, 0, 'time $t$')"
      ]
     },
     "execution_count": 81,
     "metadata": {},
     "output_type": "execute_result"
    },
    {
     "data": {
      "image/png": "[encoded data removed]",
      "text/plain": [
       "<Figure size 432x288 with 1 Axes>"
      ]
     },
     "metadata": {
      "needs_background": "light"
     },
     "output_type": "display_data"
    }
   ],
   "source": [
    "# view the data\n",
    "time, survival_prob = kaplan_meier_estimator(y[\"Censor\"], y[\"Survival\"])\n",
    "plt.step(time, survival_prob, where=\"post\")\n",
    "plt.ylabel(\"est. probability of reventilation $\\hat{S}(t)$\")\n",
    "plt.xlabel(\"time $t$\")"
   ]
  },
  {
   "cell_type": "code",
   "execution_count": 82,
   "metadata": {},
   "outputs": [
    {
     "data": {
      "text/plain": [
       "(array([42., 32., 38., 43., 30., 74., 58., 48., 23., 26., 27., 18., 15.,\n",
       "        14., 11.,  5., 10.,  4.,  4., 12., 10.]),\n",
       " array([ 0,  3,  6,  9, 12, 15, 20, 25, 30, 35, 40, 45, 50, 55, 60, 65, 70,\n",
       "        75, 80, 85, 90, 95]),\n",
       " <BarContainer object of 21 artists>)"
      ]
     },
     "execution_count": 82,
     "metadata": {},
     "output_type": "execute_result"
    },
    {
     "data": {
      "image/png": "[encoded data removed]",
      "text/plain": [
       "<Figure size 432x288 with 1 Axes>"
      ]
     },
     "metadata": {
      "needs_background": "light"
     },
     "output_type": "display_data"
    }
   ],
   "source": [
    "plt.hist(y[\"Survival\"],bins=[0,3,6,9,12,15,20,25,30,*list(range(35,100,5))],range=(0,100))"
   ]
  },
  {
   "cell_type": "markdown",
   "id": "84a701fa",
   "metadata": {},
   "source": [
    "## 2: DL Survival Analysis"
   ]
  },
  {
   "cell_type": "markdown",
   "id": "d0e98102",
   "metadata": {},
   "source": [
    "### 2.1: Cox models"
   ]
  },
  {
   "cell_type": "markdown",
   "metadata": {},
   "source": [
    "#### 2.1.1: CoxPH"
   ]
  },
  {
   "cell_type": "code",
   "execution_count": 83,
   "metadata": {},
   "outputs": [
    {
     "name": "stderr",
     "output_type": "stream",
     "text": [
      "C:\\Users\\marcel\\anaconda3\\envs\\tridentenv\\lib\\site-packages\\sksurv\\linear_model\\coxph.py:426: LinAlgWarning: Ill-conditioned matrix (rcond=6.16195e-18): result may not be accurate.\n",
      "  delta = solve(optimizer.hessian, optimizer.gradient,\n"
     ]
    },
    {
     "name": "stdout",
     "output_type": "stream",
     "text": [
      "C-index of Cox model: 0.8110287338133269\n"
     ]
    }
   ],
   "source": [
    "Xt = OneHotEncoder().fit_transform(X)\n",
    "cph = CoxPHSurvivalAnalysis()\n",
    "cph.fit(Xt, y)\n",
    "\n",
    "# get c-index of trained estimator\n",
    "pred = cph.predict(Xt)\n",
    "result = concordance_index_censored(y['Censor'], y[\"Survival\"], pred)\n",
    "print('C-index of Cox model: '+str(result[0]))"
   ]
  },
  {
   "cell_type": "code",
   "execution_count": 84,
   "metadata": {},
   "outputs": [],
   "source": [
    "alphas = 10. ** np.linspace(-4,4,10)\n",
    "coefficients = {}\n",
    "\n",
    "cph = CoxPHSurvivalAnalysis()\n",
    "for alpha in alphas:\n",
    "    cph.set_params(alpha=alpha)\n",
    "    cph.fit(Xt, y)\n",
    "    key = round(alpha, 5)\n",
    "    coefficients[key] = cph.coef_\n",
    "\n",
    "coefficients = (pd.DataFrame\n",
    "    .from_dict(coefficients)\n",
    "    .rename_axis(index=\"feature\", columns=\"alpha\")\n",
    "    .set_index(Xt.columns))"
   ]
  },
  {
   "cell_type": "code",
   "execution_count": 85,
   "metadata": {},
   "outputs": [
    {
     "data": {
      "image/png": "[encoded data removed]",
      "text/plain": [
       "<Figure size 648x432 with 1 Axes>"
      ]
     },
     "metadata": {
      "needs_background": "light"
     },
     "output_type": "display_data"
    }
   ],
   "source": [
    "def plot_coefficients(coefs, n_highlight):\n",
    "    _, ax = plt.subplots(figsize=(9, 6))\n",
    "    n_features = coefs.shape[0]\n",
    "    alphas = coefs.columns\n",
    "    for row in coefs.itertuples():\n",
    "        ax.semilogx(alphas, row[1:], \".-\", label=row.Index)\n",
    "\n",
    "    alpha_min = alphas.min()\n",
    "    top_coefs = coefs.loc[:, alpha_min].map(abs).sort_values().tail(n_highlight)\n",
    "    for name in top_coefs.index:\n",
    "        coef = coefs.loc[name, alpha_min]\n",
    "        plt.text(\n",
    "            alpha_min, coef, name + \"   \",\n",
    "            horizontalalignment=\"right\",\n",
    "            verticalalignment=\"center\"\n",
    "        )\n",
    "\n",
    "    ax.yaxis.set_label_position(\"right\")\n",
    "    ax.yaxis.tick_right()\n",
    "    ax.grid(True)\n",
    "    ax.set_xlabel(\"alpha\")\n",
    "    ax.set_ylabel(\"coefficient\")\n",
    "plot_coefficients(coefficients, n_highlight=10)"
   ]
  },
  {
   "cell_type": "markdown",
   "metadata": {},
   "source": [
    "#### 2.1.2: Cox Elastic Net"
   ]
  },
  {
   "cell_type": "code",
   "execution_count": null,
   "metadata": {},
   "outputs": [],
   "source": [
    "coxnet_pipe = make_pipeline(\n",
    "    StandardScaler(),\n",
    "    CoxnetSurvivalAnalysis(l1_ratio=0.9, alpha_min_ratio=0.001, max_iter=100)\n",
    ")\n",
    "warnings.simplefilter(\"ignore\", ConvergenceWarning)\n",
    "coxnet_pipe.fit(Xt, y)"
   ]
  },
  {
   "cell_type": "code",
   "execution_count": null,
   "metadata": {},
   "outputs": [],
   "source": [
    "estimated_alphas = coxnet_pipe.named_steps[\"coxnetsurvivalanalysis\"].alphas_\n",
    "cv = KFold(n_splits=5, shuffle=True, random_state=0)\n",
    "gcv = GridSearchCV(\n",
    "    make_pipeline(StandardScaler(), CoxnetSurvivalAnalysis(l1_ratio=0.9)),\n",
    "    param_grid={\"coxnetsurvivalanalysis__alphas\": [[v] for v in estimated_alphas]},\n",
    "    cv=cv,\n",
    "    error_score=0.5,\n",
    "    n_jobs=4).fit(Xt, y)\n",
    "\n",
    "cv_results = pd.DataFrame(gcv.cv_results_)"
   ]
  },
  {
   "cell_type": "code",
   "execution_count": null,
   "metadata": {},
   "outputs": [],
   "source": [
    "alphas = cv_results.param_coxnetsurvivalanalysis__alphas.map(lambda x: x[0])\n",
    "mean = cv_results.mean_test_score\n",
    "std = cv_results.std_test_score\n",
    "\n",
    "fig, ax = plt.subplots(figsize=(9, 6))\n",
    "ax.plot(alphas, mean)\n",
    "ax.fill_between(alphas, mean - std, mean + std, alpha=.15)\n",
    "ax.set_xscale(\"log\")\n",
    "ax.set_ylabel(\"concordance index\")\n",
    "ax.set_xlabel(\"alpha\")\n",
    "ax.axvline(gcv.best_params_[\"coxnetsurvivalanalysis__alphas\"][0], c=\"C1\")\n",
    "ax.axhline(0.5, color=\"grey\", linestyle=\"--\")\n",
    "ax.grid(True)"
   ]
  },
  {
   "cell_type": "code",
   "execution_count": null,
   "metadata": {},
   "outputs": [],
   "source": [
    "best_model = gcv.best_estimator_.named_steps[\"coxnetsurvivalanalysis\"]\n",
    "best_coefs = pd.DataFrame(\n",
    "    best_model.coef_,\n",
    "    index=Xt.columns,\n",
    "    columns=[\"coefficient\"]\n",
    ")\n",
    "\n",
    "non_zero = np.sum(best_coefs.iloc[:, 0] != 0)\n",
    "print(\"Number of non-zero coefficients: {}\".format(non_zero))\n",
    "\n",
    "non_zero_coefs = best_coefs.query(\"coefficient != 0\")\n",
    "coef_order = non_zero_coefs.abs().sort_values(\"coefficient\").index\n",
    "\n",
    "_, ax = plt.subplots(figsize=(6, 8))\n",
    "non_zero_coefs.loc[coef_order[-20:]].plot.barh(ax=ax, legend=False)\n",
    "ax.set_xlabel(\"coefficient\")\n",
    "ax.grid(True)"
   ]
  },
  {
   "cell_type": "markdown",
   "metadata": {},
   "source": [
    "### 2.2: Random Survival Forest"
   ]
  },
  {
   "cell_type": "code",
   "execution_count": 86,
   "metadata": {},
   "outputs": [
    {
     "data": {
      "text/plain": [
       "array([( True, 10000000.), ( True, 10000000.), ( True, 10000000.), ...,\n",
       "       ( True, 10000000.), ( True, 10000000.), ( True, 10000000.)],\n",
       "      dtype=[('Censor', '?'), ('Survival', '<f8')])"
      ]
     },
     "execution_count": 86,
     "metadata": {},
     "output_type": "execute_result"
    }
   ],
   "source": [
    "# get X, Xt and y\n",
    "X = df[inputs]\n",
    "#X = df[inputs_all]\n",
    "Xt = OneHotEncoder().fit_transform(X)\n",
    "\n",
    "y = np.zeros(len(df), dtype={'names':('Censor', 'Survival'),\n",
    "                          'formats':('?', '<f8')})\n",
    "\n",
    "y['Censor'] = df['censor']\n",
    "y['Survival'] =df['time_to_revent']\n",
    "y"
   ]
  },
  {
   "cell_type": "code",
   "execution_count": 87,
   "metadata": {},
   "outputs": [],
   "source": [
    "random_state = 42\n",
    "\n",
    "X_train, X_test, y_train, y_test = train_test_split(\n",
    "    Xt, y, test_size=0.20, random_state=random_state)"
   ]
  },
  {
   "cell_type": "code",
   "execution_count": 89,
   "metadata": {},
   "outputs": [
    {
     "data": {
      "text/plain": [
       "0.8223055713243046"
      ]
     },
     "execution_count": 89,
     "metadata": {},
     "output_type": "execute_result"
    }
   ],
   "source": [
    "rsf = RandomSurvivalForest(n_estimators=100,\n",
    "                            min_samples_split=5,\n",
    "                            max_depth=10,\n",
    "                            min_samples_leaf=1,\n",
    "                            max_features=\"auto\",\n",
    "                            n_jobs=-1,\n",
    "                            random_state=random_state)\n",
    "rsf.fit(X_train, y_train)\n",
    "rsf.score(X_test, y_test)"
   ]
  },
  {
   "cell_type": "code",
   "execution_count": 91,
   "metadata": {},
   "outputs": [],
   "source": [
    "lower, upper = np.percentile(y_train[\"Survival\"], [10, 90])\n",
    "rsf_times = np.arange(lower, upper + 1)"
   ]
  },
  {
   "cell_type": "code",
   "execution_count": 92,
   "metadata": {},
   "outputs": [
    {
     "data": {
      "text/plain": [
       "dict_keys(['bootstrap', 'max_depth', 'max_features', 'max_leaf_nodes', 'max_samples', 'min_samples_leaf', 'min_samples_split', 'min_weight_fraction_leaf', 'n_estimators', 'n_jobs', 'oob_score', 'random_state', 'verbose', 'warm_start'])"
      ]
     },
     "execution_count": 92,
     "metadata": {},
     "output_type": "execute_result"
    }
   ],
   "source": [
    "estimator = rsf\n",
    "estimator.get_params().keys()"
   ]
  },
  {
   "cell_type": "code",
   "execution_count": 94,
   "metadata": {},
   "outputs": [
    {
     "name": "stderr",
     "output_type": "stream",
     "text": [
      "C:\\Users\\marcel\\anaconda3\\envs\\tridentenv\\lib\\site-packages\\sklearn\\model_selection\\_search.py:922: UserWarning: One or more of the test scores are non-finite: [nan nan nan nan nan nan nan nan nan nan nan nan nan nan nan nan nan nan\n",
      " nan nan nan nan nan nan nan nan nan nan nan nan nan nan nan nan nan nan\n",
      " nan nan nan nan nan nan nan nan nan nan nan nan nan nan nan nan nan nan\n",
      " nan nan nan nan nan nan nan nan nan nan nan nan nan nan nan nan nan nan\n",
      " nan nan nan nan nan nan nan nan nan nan nan nan nan nan nan nan nan nan\n",
      " nan nan nan nan nan nan nan nan nan nan nan nan nan nan nan nan nan nan\n",
      " nan nan nan nan nan nan nan nan nan nan nan nan nan nan nan nan nan nan\n",
      " nan nan nan nan nan nan nan nan nan nan nan nan nan nan nan nan nan nan]\n",
      "  warnings.warn(\n"
     ]
    }
   ],
   "source": [
    "rsf = RandomSurvivalForest()\n",
    "\n",
    "cv = KFold(n_splits=3, shuffle=True, random_state=1)\n",
    "\n",
    "cv_param_grid = {'estimator__n_estimators': [int(x) for x in np.linspace(start = 100, stop = 200, num = 2)],\n",
    "              'estimator__max_features': ['auto', 'sqrt'],\n",
    "              'estimator__max_depth': [int(x) for x in np.linspace(10, 100, num = 3)],\n",
    "              'estimator__min_samples_split': [2, 5],\n",
    "              'estimator__min_samples_leaf': [1, 2, 4],\n",
    "              'estimator__bootstrap': [True, False]}\n",
    "gcv = GridSearchCV(\n",
    "    as_integrated_brier_score_scorer(rsf, times=rsf_times),\n",
    "    param_grid=cv_param_grid,\n",
    "    cv=cv,\n",
    "    n_jobs=-1,\n",
    ").fit(X_train, y_train)\n"
   ]
  },
  {
   "cell_type": "code",
   "execution_count": 63,
   "metadata": {},
   "outputs": [
    {
     "name": "stdout",
     "output_type": "stream",
     "text": [
      "Best parameters for RSF: {'n_estimators': 200, 'min_samples_split': 5, 'min_samples_leaf': 1, 'max_features': 'auto', 'max_depth': 10, 'bootstrap': True}\n",
      "Cross-validation F1 score: nan\n"
     ]
    },
    {
     "ename": "ValueError",
     "evalue": "Classification metrics can't handle a mix of multiclass and continuous targets",
     "output_type": "error",
     "traceback": [
      "\u001b[1;31m---------------------------------------------------------------------------\u001b[0m",
      "\u001b[1;31mValueError\u001b[0m                                Traceback (most recent call last)",
      "\u001b[1;32m~\\AppData\\Local\\Temp/ipykernel_7976/3204545190.py\u001b[0m in \u001b[0;36m<module>\u001b[1;34m\u001b[0m\n\u001b[0;32m      1\u001b[0m \u001b[0mprint\u001b[0m \u001b[1;33m(\u001b[0m\u001b[1;34m'Best parameters for RSF: {}'\u001b[0m\u001b[1;33m.\u001b[0m\u001b[0mformat\u001b[0m\u001b[1;33m(\u001b[0m\u001b[0mrsf_tuned\u001b[0m\u001b[1;33m.\u001b[0m\u001b[0mbest_params_\u001b[0m\u001b[1;33m)\u001b[0m\u001b[1;33m)\u001b[0m\u001b[1;33m\u001b[0m\u001b[1;33m\u001b[0m\u001b[0m\n\u001b[0;32m      2\u001b[0m \u001b[0mprint\u001b[0m \u001b[1;33m(\u001b[0m\u001b[1;34m'Cross-validation F1 score: {}'\u001b[0m\u001b[1;33m.\u001b[0m\u001b[0mformat\u001b[0m\u001b[1;33m(\u001b[0m\u001b[0mrsf_tuned\u001b[0m\u001b[1;33m.\u001b[0m\u001b[0mbest_score_\u001b[0m\u001b[1;33m)\u001b[0m\u001b[1;33m)\u001b[0m\u001b[1;33m\u001b[0m\u001b[1;33m\u001b[0m\u001b[0m\n\u001b[1;32m----> 3\u001b[1;33m \u001b[0mprint\u001b[0m \u001b[1;33m(\u001b[0m\u001b[1;34m'Test F1 score: {}'\u001b[0m\u001b[1;33m.\u001b[0m\u001b[0mformat\u001b[0m\u001b[1;33m(\u001b[0m\u001b[0mf1_score\u001b[0m\u001b[1;33m(\u001b[0m\u001b[0my_test\u001b[0m\u001b[1;33m,\u001b[0m \u001b[0mrsf_tuned\u001b[0m\u001b[1;33m.\u001b[0m\u001b[0mpredict\u001b[0m\u001b[1;33m(\u001b[0m\u001b[0mX_test\u001b[0m\u001b[1;33m)\u001b[0m\u001b[1;33m)\u001b[0m\u001b[1;33m)\u001b[0m\u001b[1;33m)\u001b[0m\u001b[1;33m\u001b[0m\u001b[1;33m\u001b[0m\u001b[0m\n\u001b[0m",
      "\u001b[1;32m~\\anaconda3\\envs\\tridentenv\\lib\\site-packages\\sklearn\\utils\\validation.py\u001b[0m in \u001b[0;36minner_f\u001b[1;34m(*args, **kwargs)\u001b[0m\n\u001b[0;32m     61\u001b[0m             \u001b[0mextra_args\u001b[0m \u001b[1;33m=\u001b[0m \u001b[0mlen\u001b[0m\u001b[1;33m(\u001b[0m\u001b[0margs\u001b[0m\u001b[1;33m)\u001b[0m \u001b[1;33m-\u001b[0m \u001b[0mlen\u001b[0m\u001b[1;33m(\u001b[0m\u001b[0mall_args\u001b[0m\u001b[1;33m)\u001b[0m\u001b[1;33m\u001b[0m\u001b[1;33m\u001b[0m\u001b[0m\n\u001b[0;32m     62\u001b[0m             \u001b[1;32mif\u001b[0m \u001b[0mextra_args\u001b[0m \u001b[1;33m<=\u001b[0m \u001b[1;36m0\u001b[0m\u001b[1;33m:\u001b[0m\u001b[1;33m\u001b[0m\u001b[1;33m\u001b[0m\u001b[0m\n\u001b[1;32m---> 63\u001b[1;33m                 \u001b[1;32mreturn\u001b[0m \u001b[0mf\u001b[0m\u001b[1;33m(\u001b[0m\u001b[1;33m*\u001b[0m\u001b[0margs\u001b[0m\u001b[1;33m,\u001b[0m \u001b[1;33m**\u001b[0m\u001b[0mkwargs\u001b[0m\u001b[1;33m)\u001b[0m\u001b[1;33m\u001b[0m\u001b[1;33m\u001b[0m\u001b[0m\n\u001b[0m\u001b[0;32m     64\u001b[0m \u001b[1;33m\u001b[0m\u001b[0m\n\u001b[0;32m     65\u001b[0m             \u001b[1;31m# extra_args > 0\u001b[0m\u001b[1;33m\u001b[0m\u001b[1;33m\u001b[0m\u001b[0m\n",
      "\u001b[1;32m~\\anaconda3\\envs\\tridentenv\\lib\\site-packages\\sklearn\\metrics\\_classification.py\u001b[0m in \u001b[0;36mf1_score\u001b[1;34m(y_true, y_pred, labels, pos_label, average, sample_weight, zero_division)\u001b[0m\n\u001b[0;32m   1069\u001b[0m     \u001b[0mmodified\u001b[0m \u001b[1;32mwith\u001b[0m\u001b[0;31m \u001b[0m\u001b[0;31m`\u001b[0m\u001b[0;31m`\u001b[0m\u001b[0mzero_division\u001b[0m\u001b[0;31m`\u001b[0m\u001b[0;31m`\u001b[0m\u001b[1;33m.\u001b[0m\u001b[1;33m\u001b[0m\u001b[1;33m\u001b[0m\u001b[0m\n\u001b[0;32m   1070\u001b[0m     \"\"\"\n\u001b[1;32m-> 1071\u001b[1;33m     return fbeta_score(y_true, y_pred, beta=1, labels=labels,\n\u001b[0m\u001b[0;32m   1072\u001b[0m                        \u001b[0mpos_label\u001b[0m\u001b[1;33m=\u001b[0m\u001b[0mpos_label\u001b[0m\u001b[1;33m,\u001b[0m \u001b[0maverage\u001b[0m\u001b[1;33m=\u001b[0m\u001b[0maverage\u001b[0m\u001b[1;33m,\u001b[0m\u001b[1;33m\u001b[0m\u001b[1;33m\u001b[0m\u001b[0m\n\u001b[0;32m   1073\u001b[0m                        \u001b[0msample_weight\u001b[0m\u001b[1;33m=\u001b[0m\u001b[0msample_weight\u001b[0m\u001b[1;33m,\u001b[0m\u001b[1;33m\u001b[0m\u001b[1;33m\u001b[0m\u001b[0m\n",
      "\u001b[1;32m~\\anaconda3\\envs\\tridentenv\\lib\\site-packages\\sklearn\\utils\\validation.py\u001b[0m in \u001b[0;36minner_f\u001b[1;34m(*args, **kwargs)\u001b[0m\n\u001b[0;32m     61\u001b[0m             \u001b[0mextra_args\u001b[0m \u001b[1;33m=\u001b[0m \u001b[0mlen\u001b[0m\u001b[1;33m(\u001b[0m\u001b[0margs\u001b[0m\u001b[1;33m)\u001b[0m \u001b[1;33m-\u001b[0m \u001b[0mlen\u001b[0m\u001b[1;33m(\u001b[0m\u001b[0mall_args\u001b[0m\u001b[1;33m)\u001b[0m\u001b[1;33m\u001b[0m\u001b[1;33m\u001b[0m\u001b[0m\n\u001b[0;32m     62\u001b[0m             \u001b[1;32mif\u001b[0m \u001b[0mextra_args\u001b[0m \u001b[1;33m<=\u001b[0m \u001b[1;36m0\u001b[0m\u001b[1;33m:\u001b[0m\u001b[1;33m\u001b[0m\u001b[1;33m\u001b[0m\u001b[0m\n\u001b[1;32m---> 63\u001b[1;33m                 \u001b[1;32mreturn\u001b[0m \u001b[0mf\u001b[0m\u001b[1;33m(\u001b[0m\u001b[1;33m*\u001b[0m\u001b[0margs\u001b[0m\u001b[1;33m,\u001b[0m \u001b[1;33m**\u001b[0m\u001b[0mkwargs\u001b[0m\u001b[1;33m)\u001b[0m\u001b[1;33m\u001b[0m\u001b[1;33m\u001b[0m\u001b[0m\n\u001b[0m\u001b[0;32m     64\u001b[0m \u001b[1;33m\u001b[0m\u001b[0m\n\u001b[0;32m     65\u001b[0m             \u001b[1;31m# extra_args > 0\u001b[0m\u001b[1;33m\u001b[0m\u001b[1;33m\u001b[0m\u001b[0m\n",
      "\u001b[1;32m~\\anaconda3\\envs\\tridentenv\\lib\\site-packages\\sklearn\\metrics\\_classification.py\u001b[0m in \u001b[0;36mfbeta_score\u001b[1;34m(y_true, y_pred, beta, labels, pos_label, average, sample_weight, zero_division)\u001b[0m\n\u001b[0;32m   1193\u001b[0m     \"\"\"\n\u001b[0;32m   1194\u001b[0m \u001b[1;33m\u001b[0m\u001b[0m\n\u001b[1;32m-> 1195\u001b[1;33m     _, _, f, _ = precision_recall_fscore_support(y_true, y_pred,\n\u001b[0m\u001b[0;32m   1196\u001b[0m                                                  \u001b[0mbeta\u001b[0m\u001b[1;33m=\u001b[0m\u001b[0mbeta\u001b[0m\u001b[1;33m,\u001b[0m\u001b[1;33m\u001b[0m\u001b[1;33m\u001b[0m\u001b[0m\n\u001b[0;32m   1197\u001b[0m                                                  \u001b[0mlabels\u001b[0m\u001b[1;33m=\u001b[0m\u001b[0mlabels\u001b[0m\u001b[1;33m,\u001b[0m\u001b[1;33m\u001b[0m\u001b[1;33m\u001b[0m\u001b[0m\n",
      "\u001b[1;32m~\\anaconda3\\envs\\tridentenv\\lib\\site-packages\\sklearn\\utils\\validation.py\u001b[0m in \u001b[0;36minner_f\u001b[1;34m(*args, **kwargs)\u001b[0m\n\u001b[0;32m     61\u001b[0m             \u001b[0mextra_args\u001b[0m \u001b[1;33m=\u001b[0m \u001b[0mlen\u001b[0m\u001b[1;33m(\u001b[0m\u001b[0margs\u001b[0m\u001b[1;33m)\u001b[0m \u001b[1;33m-\u001b[0m \u001b[0mlen\u001b[0m\u001b[1;33m(\u001b[0m\u001b[0mall_args\u001b[0m\u001b[1;33m)\u001b[0m\u001b[1;33m\u001b[0m\u001b[1;33m\u001b[0m\u001b[0m\n\u001b[0;32m     62\u001b[0m             \u001b[1;32mif\u001b[0m \u001b[0mextra_args\u001b[0m \u001b[1;33m<=\u001b[0m \u001b[1;36m0\u001b[0m\u001b[1;33m:\u001b[0m\u001b[1;33m\u001b[0m\u001b[1;33m\u001b[0m\u001b[0m\n\u001b[1;32m---> 63\u001b[1;33m                 \u001b[1;32mreturn\u001b[0m \u001b[0mf\u001b[0m\u001b[1;33m(\u001b[0m\u001b[1;33m*\u001b[0m\u001b[0margs\u001b[0m\u001b[1;33m,\u001b[0m \u001b[1;33m**\u001b[0m\u001b[0mkwargs\u001b[0m\u001b[1;33m)\u001b[0m\u001b[1;33m\u001b[0m\u001b[1;33m\u001b[0m\u001b[0m\n\u001b[0m\u001b[0;32m     64\u001b[0m \u001b[1;33m\u001b[0m\u001b[0m\n\u001b[0;32m     65\u001b[0m             \u001b[1;31m# extra_args > 0\u001b[0m\u001b[1;33m\u001b[0m\u001b[1;33m\u001b[0m\u001b[0m\n",
      "\u001b[1;32m~\\anaconda3\\envs\\tridentenv\\lib\\site-packages\\sklearn\\metrics\\_classification.py\u001b[0m in \u001b[0;36mprecision_recall_fscore_support\u001b[1;34m(y_true, y_pred, beta, labels, pos_label, average, warn_for, sample_weight, zero_division)\u001b[0m\n\u001b[0;32m   1462\u001b[0m     \u001b[1;32mif\u001b[0m \u001b[0mbeta\u001b[0m \u001b[1;33m<\u001b[0m \u001b[1;36m0\u001b[0m\u001b[1;33m:\u001b[0m\u001b[1;33m\u001b[0m\u001b[1;33m\u001b[0m\u001b[0m\n\u001b[0;32m   1463\u001b[0m         \u001b[1;32mraise\u001b[0m \u001b[0mValueError\u001b[0m\u001b[1;33m(\u001b[0m\u001b[1;34m\"beta should be >=0 in the F-beta score\"\u001b[0m\u001b[1;33m)\u001b[0m\u001b[1;33m\u001b[0m\u001b[1;33m\u001b[0m\u001b[0m\n\u001b[1;32m-> 1464\u001b[1;33m     labels = _check_set_wise_labels(y_true, y_pred, average, labels,\n\u001b[0m\u001b[0;32m   1465\u001b[0m                                     pos_label)\n\u001b[0;32m   1466\u001b[0m \u001b[1;33m\u001b[0m\u001b[0m\n",
      "\u001b[1;32m~\\anaconda3\\envs\\tridentenv\\lib\\site-packages\\sklearn\\metrics\\_classification.py\u001b[0m in \u001b[0;36m_check_set_wise_labels\u001b[1;34m(y_true, y_pred, average, labels, pos_label)\u001b[0m\n\u001b[0;32m   1275\u001b[0m                          str(average_options))\n\u001b[0;32m   1276\u001b[0m \u001b[1;33m\u001b[0m\u001b[0m\n\u001b[1;32m-> 1277\u001b[1;33m     \u001b[0my_type\u001b[0m\u001b[1;33m,\u001b[0m \u001b[0my_true\u001b[0m\u001b[1;33m,\u001b[0m \u001b[0my_pred\u001b[0m \u001b[1;33m=\u001b[0m \u001b[0m_check_targets\u001b[0m\u001b[1;33m(\u001b[0m\u001b[0my_true\u001b[0m\u001b[1;33m,\u001b[0m \u001b[0my_pred\u001b[0m\u001b[1;33m)\u001b[0m\u001b[1;33m\u001b[0m\u001b[1;33m\u001b[0m\u001b[0m\n\u001b[0m\u001b[0;32m   1278\u001b[0m     \u001b[1;31m# Convert to Python primitive type to avoid NumPy type / Python str\u001b[0m\u001b[1;33m\u001b[0m\u001b[1;33m\u001b[0m\u001b[0m\n\u001b[0;32m   1279\u001b[0m     \u001b[1;31m# comparison. See https://github.com/numpy/numpy/issues/6784\u001b[0m\u001b[1;33m\u001b[0m\u001b[1;33m\u001b[0m\u001b[0m\n",
      "\u001b[1;32m~\\anaconda3\\envs\\tridentenv\\lib\\site-packages\\sklearn\\metrics\\_classification.py\u001b[0m in \u001b[0;36m_check_targets\u001b[1;34m(y_true, y_pred)\u001b[0m\n\u001b[0;32m     90\u001b[0m \u001b[1;33m\u001b[0m\u001b[0m\n\u001b[0;32m     91\u001b[0m     \u001b[1;32mif\u001b[0m \u001b[0mlen\u001b[0m\u001b[1;33m(\u001b[0m\u001b[0my_type\u001b[0m\u001b[1;33m)\u001b[0m \u001b[1;33m>\u001b[0m \u001b[1;36m1\u001b[0m\u001b[1;33m:\u001b[0m\u001b[1;33m\u001b[0m\u001b[1;33m\u001b[0m\u001b[0m\n\u001b[1;32m---> 92\u001b[1;33m         raise ValueError(\"Classification metrics can't handle a mix of {0} \"\n\u001b[0m\u001b[0;32m     93\u001b[0m                          \"and {1} targets\".format(type_true, type_pred))\n\u001b[0;32m     94\u001b[0m \u001b[1;33m\u001b[0m\u001b[0m\n",
      "\u001b[1;31mValueError\u001b[0m: Classification metrics can't handle a mix of multiclass and continuous targets"
     ]
    }
   ],
   "source": [
    "print ('Best parameters for RSF: {}'.format(rsf_tuned.best_params_))\n",
    "print ('Cross-validation F1 score: {}'.format(rsf_tuned.best_score_))\n",
    "print ('Test F1 score: {}'.format(f1_score(y_test, rsf_tuned.predict(X_test))))"
   ]
  },
  {
   "cell_type": "code",
   "execution_count": null,
   "metadata": {},
   "outputs": [],
   "source": [
    "rsf = RandomSurvivalForest(n_estimators=200,\n",
    "                            min_samples_split=50,\n",
    "                            min_samples_leaf=3,\n",
    "                            max_features=\"sqrt\",\n",
    "                            n_jobs=-1,\n",
    "                            random_state=random_state)\n",
    "parameters = {'n_estimators': [100, 200],\n",
    "              'max_features': ['auto'],\n",
    "              'max_depth': [50, 100],\n",
    "              'min_samples_split': [5,10],\n",
    "              'min_samples_leaf': [2,10],\n",
    "              'bootstrap': [True, False]}\n",
    "rsf_tuned = GridSearchCV(rsf, parameters, cv=5, n_jobs=-1, scoring='f1')\n",
    "rsf_tuned.fit(X_train, y_train)\n",
    "print ('Best parameters for RF: {}'.format(rf_tuned.best_params_))\n",
    "print ('Cross-validation F1 score: {}'.format(rf_tuned.best_score_))\n",
    "print ('Test F1 score: {}'.format(f1_score(y_test, rf_tuned.predict(x_test))))"
   ]
  },
  {
   "cell_type": "code",
   "execution_count": null,
   "metadata": {},
   "outputs": [],
   "source": [
    "perm = PermutationImportance(rsf, n_iter=3, random_state=random_state)\n",
    "perm.fit(X_test, y_test)\n",
    "eli5.show_weights(perm, feature_names=feature_names)"
   ]
  },
  {
   "cell_type": "markdown",
   "metadata": {},
   "source": [
    "### 2.3: GBM Survival"
   ]
  },
  {
   "cell_type": "code",
   "execution_count": 23,
   "metadata": {},
   "outputs": [],
   "source": [
    "# get X, Xt and y\n",
    "X = df[inputs]\n",
    "#X = df[inputs_all]\n",
    "Xt = OneHotEncoder().fit_transform(X)\n",
    "\n",
    "y = np.zeros(len(df), dtype={'names':('Censor', 'Survival'),\n",
    "                          'formats':('?', '<f8')})\n",
    "\n",
    "y['Censor'] = df['censor']\n",
    "y['Survival'] =df['time_to_revent']\n",
    "y\n",
    "\n",
    "# get X_train, X_test, y_train, y_test\n",
    "random_state = 20\n",
    "\n",
    "X_train, X_test, y_train, y_test = train_test_split(\n",
    "    Xt, y, test_size=0.25, random_state=random_state)"
   ]
  },
  {
   "cell_type": "code",
   "execution_count": 24,
   "metadata": {},
   "outputs": [
    {
     "name": "stdout",
     "output_type": "stream",
     "text": [
      "0.788\n"
     ]
    }
   ],
   "source": [
    "est_cph_tree = GradientBoostingSurvivalAnalysis(\n",
    "    n_estimators=100, learning_rate=1.0, max_depth=1, random_state=0\n",
    ")\n",
    "est_cph_tree.fit(X_train, y_train)\n",
    "cindex = est_cph_tree.score(X_test, y_test)\n",
    "print(round(cindex, 3))"
   ]
  },
  {
   "cell_type": "code",
   "execution_count": null,
   "metadata": {},
   "outputs": [],
   "source": [
    "scores_cph_tree = {}\n",
    "\n",
    "est_cph_tree = GradientBoostingSurvivalAnalysis(\n",
    "    learning_rate=1.0, max_depth=1, random_state=0\n",
    ")\n",
    "for i in range(10, 31,5):\n",
    "    n_estimators = i * 5\n",
    "    est_cph_tree.set_params(n_estimators=n_estimators)\n",
    "    est_cph_tree.fit(X_train, y_train)\n",
    "    scores_cph_tree[n_estimators] = est_cph_tree.score(X_test, y_test)"
   ]
  },
  {
   "cell_type": "code",
   "execution_count": null,
   "metadata": {},
   "outputs": [],
   "source": [
    "x, y = zip(*scores_cph_tree.items())\n",
    "plt.plot(x, y)\n",
    "plt.xlabel(\"n_estimator\")\n",
    "plt.ylabel(\"concordance index\")\n",
    "plt.grid(True)"
   ]
  },
  {
   "cell_type": "code",
   "execution_count": null,
   "metadata": {},
   "outputs": [],
   "source": [
    "scores_cph_ls = {}\n",
    "\n",
    "est_cph_ls = ComponentwiseGradientBoostingSurvivalAnalysis(\n",
    "    learning_rate=1.0, random_state=0\n",
    ")\n",
    "for i in range(1, 31):\n",
    "    n_estimators = i * 10\n",
    "    est_cph_ls.set_params(n_estimators=n_estimators)\n",
    "    est_cph_ls.fit(X_train, y_train)\n",
    "    scores_cph_ls[n_estimators] = est_cph_ls.score(X_test, y_test)"
   ]
  },
  {
   "cell_type": "code",
   "execution_count": null,
   "metadata": {},
   "outputs": [],
   "source": [
    "x, y = zip(*scores_cph_ls.items())\n",
    "plt.plot(x, y)\n",
    "plt.xlabel(\"n_estimator\")\n",
    "plt.ylabel(\"concordance index\")\n",
    "plt.grid(True)"
   ]
  },
  {
   "cell_type": "code",
   "execution_count": null,
   "metadata": {},
   "outputs": [],
   "source": [
    "coef = pd.Series(est_cph_ls.coef_, [\"Intercept\"] + Xt.columns.tolist())\n",
    "\n",
    "print(\"Number of non-zero coefficients:\", (coef != 0).sum())\n",
    "coef_nz = coef[coef != 0]\n",
    "coef_order = coef_nz.abs().sort_values(ascending=False).index\n",
    "coef_nz.loc[coef_order]"
   ]
  },
  {
   "cell_type": "markdown",
   "id": "fd547661",
   "metadata": {},
   "source": [
    "## 3: Exploring language and ventilation duration "
   ]
  },
  {
   "cell_type": "code",
   "execution_count": null,
   "id": "2c083716",
   "metadata": {},
   "outputs": [],
   "source": [
    "from sklearn.linear_model import LogisticRegression\n",
    "from sklearn.linear_model import LinearRegression\n",
    "from sklearn.metrics import roc_curve, auc, roc_auc_score\n",
    "\n",
    "dfImputed_onehot = dfImputed.copy()\n",
    "dfImputed1 = pd.get_dummies(dfImputed_onehot, columns = ['ethnicity', 'language'], prefix = ['eth', 'lang'])\n",
    "onehot_cols = [i for i in list(dfImputed1.columns) if i not in ['ethnicity', 'marital_status', 'language', 'admission_location']]\n",
    "dfImputed1['duration1'] = df['duration1']\n",
    "dfImputed1 = dfImputed1.dropna(axis=0, how='any')"
   ]
  },
  {
   "cell_type": "code",
   "execution_count": null,
   "id": "dd50d2c3",
   "metadata": {},
   "outputs": [],
   "source": [
    "dfImputed1"
   ]
  },
  {
   "cell_type": "code",
   "execution_count": null,
   "id": "060a3f72",
   "metadata": {},
   "outputs": [],
   "source": [
    "from matplotlib import pyplot\n",
    "from scipy.stats import kstest, norm, pearsonr, ttest_ind\n",
    "\n",
    "x = dfImputed1['lang_ENGL']\n",
    "y = df['duration1'].dropna(axis=0,how='any')\n",
    "\n",
    "#testing for normalcy\n",
    "mu, std = norm.fit(x)\n",
    "n = norm(loc=mu, scale=std)\n",
    "normalcy_p = kstest(x, n.cdf)[1]\n",
    "print('p-val: '+ str(normalcy_p))\n",
    "\n",
    "pyplot.scatter(x,y)\n",
    "covariance = np.cov(x,y)\n",
    "print('Covariance matrix: ')\n",
    "print(covariance)\n",
    "\n",
    "#find pearson R\n",
    "corr, _ = pearsonr(x,y)\n",
    "print('Pearsons R: %.3f' %corr)"
   ]
  },
  {
   "cell_type": "code",
   "execution_count": null,
   "id": "5f9eb5df",
   "metadata": {},
   "outputs": [],
   "source": [
    "import statsmodels.api as sm\n",
    "\n",
    "univariable = pd.DataFrame(index = ['eth_white','lang_ENGL'], columns = ['OR (95% CI)','p-value'])\n",
    "\n",
    "p_value = []\n",
    "OR = []\n",
    "time = []\n",
    "for column in ['lang_ENGL']:\n",
    "    for int_timelimit in range(0,48,1):\n",
    "        X = dfImputed1[column].values\n",
    "        X = sm.add_constant(X)\n",
    "        y = pd.cut(df['duration1'].dropna(how='any'),bins=[-0.1,int_timelimit,4000],labels=[0,1])\n",
    "        logit = sm.Logit(y, X)\n",
    "        model = logit.fit(method='bfgs',disp = False)\n",
    "        model_odds = pd.DataFrame(np.exp(model.params), columns=['OR'])\n",
    "        model_odds['p-value'] = model.pvalues\n",
    "        model_odds[['2.5%','97.5%']]= np.exp(model.conf_int())\n",
    "        model_odds.rename(index={'x1': column}, inplace = True)\n",
    "        # insert it into the dataframe 'univariable'\n",
    "        univariable.at[column,'OR (95% CI)'] = '{OR:.3f} ({lower:.3f} to {upper:.3f})'.format(OR = model_odds.at[column, 'OR'], \n",
    "                                                                                            lower = model_odds.at[column, '2.5%'], \n",
    "                                                                                            upper = model_odds.at[column, '97.5%'])\n",
    "        univariable.at[column,'p-value'] = '{0:.3f}'.format(model_odds.at[column, 'p-value'])\n",
    "        p_value.append(model_odds.at[column, 'p-value'])\n",
    "        OR.append(model_odds.at[column, 'OR'])\n",
    "        time.append(int_timelimit)\n",
    "\n",
    "univariable"
   ]
  },
  {
   "cell_type": "code",
   "execution_count": null,
   "id": "3bd2fc0e",
   "metadata": {},
   "outputs": [],
   "source": [
    "import matplotlib.pyplot as plt\n",
    "\n",
    "fig, ax = plt.subplots()\n",
    "ax.plot(time, OR, label='OR',color='blue')\n",
    "ax.set_xlabel(\"ventilation time\")\n",
    "ax.set_ylabel(\"OR\")\n",
    "\n",
    "ax2=ax.twinx()\n",
    "ax2.plot(time, p_value, label='p-val',color='orange')\n",
    "ax2.set_ylabel(\"p-val\")\n"
   ]
  },
  {
   "cell_type": "code",
   "execution_count": null,
   "id": "8052c04a",
   "metadata": {},
   "outputs": [],
   "source": [
    "x1 = dfImputed1['duration1'][dfImputed1['lang_ENGL']==1].dropna(axis=0,how='any')\n",
    "x2 = dfImputed1['duration1'][dfImputed1['lang_ENGL']==0].dropna(axis=0,how='any')\n",
    "plt.hist(x1,bins=[-0.1,2,4,6,10,13,16,20,25,30,40,50,60],range=(0,60))\n",
    "plt.hist(x2,bins=[-0.1,2,4,6,10,13,16,20,25,30,40,50,60],range=(0,60),color='orange')\n",
    "print('mean English: '+str(np.mean(x1)))\n",
    "print('mean non-English: '+str(np.mean(x2)))\n",
    "print('t_test p-val;: '+str(ttest_ind(x1, x2)[1]))"
   ]
  },
  {
   "cell_type": "code",
   "execution_count": null,
   "id": "07cd6b9a",
   "metadata": {},
   "outputs": [],
   "source": []
  }
 ],
 "metadata": {
  "interpreter": {
   "hash": "0652ecffa332becfb8e0a3b24d51fbf4b8e2da78993fa6a399295ab431c37288"
  },
  "kernelspec": {
   "display_name": "Python 3.9.7 64-bit ('tridentenv': conda)",
   "language": "python",
   "name": "python3"
  },
  "language_info": {
   "codemirror_mode": {
    "name": "ipython",
    "version": 3
   },
   "file_extension": ".py",
   "mimetype": "text/x-python",
   "name": "python",
   "nbconvert_exporter": "python",
   "pygments_lexer": "ipython3",
   "version": "3.9.7"
  },
  "orig_nbformat": 4
 },
 "nbformat": 4,
 "nbformat_minor": 2
}
