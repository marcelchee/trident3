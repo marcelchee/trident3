{
 "cells": [
  {
   "cell_type": "code",
   "execution_count": 44,
   "metadata": {},
   "outputs": [],
   "source": [
    "import datetime as dt\n",
    "import numpy as np\n",
    "import pandas as pd\n",
    "import scipy as sp\n",
    "import statsmodels.api as sm\n",
    "from sklearn.preprocessing import StandardScaler\n",
    "from sklearn.model_selection import GridSearchCV, RandomizedSearchCV, train_test_split, StratifiedKFold, cross_validate, RepeatedKFold\n",
    "from sklearn.feature_selection import mutual_info_classif\n",
    "from sklearn.feature_extraction.text import CountVectorizer\n",
    "from sklearn.linear_model import LogisticRegression\n",
    "from sklearn.ensemble import RandomForestClassifier, GradientBoostingClassifier, AdaBoostClassifier, BaggingClassifier\n",
    "from sklearn.svm import SVC\n",
    "from sklearn.neighbors import KNeighborsClassifier\n",
    "from sklearn.metrics import roc_curve, auc, precision_score, recall_score, f1_score, make_scorer, precision_recall_curve, average_precision_score, accuracy_score, confusion_matrix\n",
    "                            \n",
    "\n",
    "\n",
    "import matplotlib.pyplot as plt\n",
    "%matplotlib inline\n",
    "import pickle\n",
    "import time\n",
    "import pprint\n",
    "import imblearn\n",
    "from imblearn.over_sampling import SMOTE, RandomOverSampler\n",
    "from imblearn.under_sampling import RandomUnderSampler\n",
    "from imblearn.pipeline import Pipeline\n",
    "from sksurv.preprocessing import OneHotEncoder\n"
   ]
  },
  {
   "cell_type": "code",
   "execution_count": 3,
   "metadata": {},
   "outputs": [],
   "source": [
    "#load data\n",
    "pd.set_option('display.max_columns', None)\n",
    "df = pd.read_csv('imputed_revent.csv')\n",
    "df = df.drop(axis=1, columns=['Unnamed: 0','last_careunit'])"
   ]
  },
  {
   "cell_type": "code",
   "execution_count": 4,
   "metadata": {},
   "outputs": [
    {
     "data": {
      "text/plain": [
       "'df[df==np.inf]=np.nan\\ndf.fillna(df.mean(), inplace=True)'"
      ]
     },
     "execution_count": 4,
     "metadata": {},
     "output_type": "execute_result"
    }
   ],
   "source": [
    "'''df[df==np.inf]=np.nan\n",
    "df.fillna(df.mean(), inplace=True)'''"
   ]
  },
  {
   "cell_type": "markdown",
   "metadata": {},
   "source": [
    "## 1: Post-pre-processing"
   ]
  },
  {
   "cell_type": "markdown",
   "metadata": {},
   "source": [
    "#### 1.1: Variable grouping"
   ]
  },
  {
   "cell_type": "code",
   "execution_count": 5,
   "id": "4abc5d8e",
   "metadata": {},
   "outputs": [
    {
     "name": "stdout",
     "output_type": "stream",
     "text": [
      "['temp_last', 'bg_temp_last', 'hr_last', 'spo2_last', 'rr_last', 'sbp_last', 'dbp_last', 'meanbp_last', 'cardiac_index_last', 'pt_last', 'ptt_last', 'inr_last', 'inr_1_last', 'fibrinogen_last', 'hb_last', 'hematocrit_last', 'wcc_last', 'lymphocytes_last', 'neutrophils_last', 'alp_last', 'ast_last', 'alt_last', 'bilirubin_total_last', 'chloride_last', 'magnesium_last', 'potassium_last', 'creatinine_last', 'free_calcium_last', 'sodium_last', 'bicarb_last', 'bun_last', 'hba1c_last', 'glucose_last', 'lactate_last', 'po2_last', 'pco2_last', 'baseexcess_last', 'ph_last', 'aado2_last', 'fio2_last', 'insulin_last', 'prbc_last', 'tidalvol_last', 'plt_last', 'infection_vent']\n",
      "['temp_last', 'bg_temp_last', 'hr_last', 'spo2_last', 'rr_last', 'sbp_last', 'dbp_last', 'meanbp_last', 'cardiac_index_last', 'pt_last', 'ptt_last', 'inr_last', 'inr_1_last', 'fibrinogen_last', 'hb_last', 'hematocrit_last', 'wcc_last', 'lymphocytes_last', 'neutrophils_last', 'alp_last', 'ast_last', 'alt_last', 'bilirubin_total_last', 'chloride_last', 'magnesium_last', 'potassium_last', 'creatinine_last', 'free_calcium_last', 'sodium_last', 'bicarb_last', 'bun_last', 'hba1c_last', 'glucose_last', 'lactate_last', 'po2_last', 'pco2_last', 'baseexcess_last', 'ph_last', 'aado2_last', 'fio2_last', 'insulin_last', 'prbc_last', 'tidalvol_last', 'plt_last', 'infection_vent', 'hadm_id', 'subject_id']\n"
     ]
    }
   ],
   "source": [
    "# variables for analysis\n",
    "categorical = ['ethnicity', \n",
    "              'marital_status',\n",
    "              'language',\n",
    "              'admission_location',\n",
    "              'gender',\n",
    "              'insurance',\n",
    "              'first_careunit',\n",
    "              'admission_type']\n",
    "proceduretype=['aortic','mit','tricuspid','pulmonary','cabg']\n",
    "ptParams = ['weight', 'height', 'bmi']\n",
    "boolFields = ['reintubation', 'liver_severe', 'liver_mild', 'rheum', 'cvd', 'aids', 'ckd', 'copd', 'arrhythmia', 'pud', 'smoking', 'pvd', 'paraplegia', \n",
    "              'ccf', 'met_ca', 't2dm', 't1dm', 'malig', 'mi', 'dementia', 'hospital_expire_flag', 'diab_un', 'diab_cc']\n",
    "ptinfo = ['hadm_id', 'subject_id']\n",
    "ptTimes = ['int_time1','ext_time1','int_time2','ext_time2','admittime', 'dischtime', 'deathtime','intime', 'outtime', 'ext_time', 'icustay_seq']\n",
    "tsColumns_first = [i for i in df.columns if '_first' in i]\n",
    "tsColumns_others = [i for i in df.columns if '_max' in i or '_min' in i or '_mean' in i]\n",
    "\n",
    "inputs = [*categorical , *proceduretype , *tsColumns_first , *ptParams , *[i for i in boolFields if i != 'reintubation']]\n",
    "inputs_all = [*categorical , *proceduretype , *tsColumns_first , *tsColumns_others, *ptParams , *[i for i in boolFields if i != 'reintubation']]\n",
    "outcomes = ['reintubation','hospital_expire_flag','los','duration1','duration2','icu_stay_duration']\n",
    "\n",
    "print([i for i in df.columns if i not in categorical + proceduretype + tsColumns_first + tsColumns_others + ptParams + boolFields + ptinfo + ptTimes + outcomes])\n",
    "print([i for i in df.columns if i not in inputs + outcomes + ptTimes + tsColumns_others])\n"
   ]
  },
  {
   "cell_type": "code",
   "execution_count": 6,
   "metadata": {},
   "outputs": [],
   "source": [
    "# change categorical to category type\n",
    "for col in categorical:\n",
    "    df[col] = df[col].astype('category')"
   ]
  },
  {
   "cell_type": "code",
   "execution_count": 7,
   "metadata": {},
   "outputs": [
    {
     "name": "stdout",
     "output_type": "stream",
     "text": [
      "Number censored: 4\n",
      "[2500, 2962, 3106, 8193]\n"
     ]
    }
   ],
   "source": [
    "# create censor column for death before extubation\n",
    "censor = []\n",
    "for i in range(len(df)):\n",
    "    if df['deathtime'][i] is np.NaN or df['deathtime'][i] >= df['ext_time1'][i]:\n",
    "        censor.append(True)\n",
    "    else:\n",
    "        censor.append(False)\n",
    "censored = []\n",
    "for i in range(len(censor)):\n",
    "    if censor[i] == False:\n",
    "        censored.append(i)\n",
    "print('Number censored: '+str(len(censored)))\n",
    "print(censored)\n",
    "\n",
    "df['censor'] = censor"
   ]
  },
  {
   "cell_type": "markdown",
   "metadata": {},
   "source": [
    "#### 1.2: !!X, Xt, y!!"
   ]
  },
  {
   "cell_type": "code",
   "execution_count": 45,
   "metadata": {},
   "outputs": [],
   "source": [
    "# get X, Xt and y\n",
    "X = df[inputs]\n",
    "#X = df[inputs_all]\n",
    "Xt = OneHotEncoder().fit_transform(X)\n",
    "\n",
    "y = pd.cut(df['duration1'], bins=[-0.01,24*7,20000], labels=[0,1])"
   ]
  },
  {
   "cell_type": "code",
   "execution_count": 9,
   "metadata": {},
   "outputs": [],
   "source": [
    "# get list of top variables by mutual\n",
    "how_many_select = 40\n",
    "\n",
    "mutual_info_df = pd.DataFrame(mutual_info_classif(Xt, y, random_state=42), index=[*list(Xt.columns)])\n",
    "mutual_info_df = mutual_info_df.sort_values(by=[0])\n",
    "sel_var = list(mutual_info_df.index)[-how_many_select:]"
   ]
  },
  {
   "cell_type": "code",
   "execution_count": 66,
   "metadata": {},
   "outputs": [],
   "source": [
    "X_train, X_test, y_train, y_test = train_test_split(Xt, y, test_size=0.2, random_state=42, stratify=y)\n",
    "\n",
    "over = SMOTE(sampling_strategy=0.8)\n",
    "under = RandomUnderSampler(sampling_strategy=0.9)\n",
    "steps = [('o', over), ('u', under)]\n",
    "pipeline = Pipeline(steps=steps)\n",
    "X_train, y_train = pipeline.fit_resample(X_train, y_train)"
   ]
  },
  {
   "cell_type": "code",
   "execution_count": 60,
   "metadata": {},
   "outputs": [
    {
     "name": "stdout",
     "output_type": "stream",
     "text": [
      "y_train class distribution\n",
      "0    0.5\n",
      "1    0.5\n",
      "Name: duration1, dtype: float64\n",
      "y_test class distribution\n",
      "0    0.986807\n",
      "1    0.013193\n",
      "Name: duration1, dtype: float64\n"
     ]
    }
   ],
   "source": [
    "print('y_train class distribution')\n",
    "print(y_train.value_counts(normalize=True))\n",
    "print('y_test class distribution')\n",
    "print(y_test.value_counts(normalize=True))"
   ]
  },
  {
   "cell_type": "code",
   "execution_count": 51,
   "metadata": {},
   "outputs": [],
   "source": [
    "clf = RandomForestClassifier(n_jobs=-1)\n",
    "\n",
    "param_grid = {\n",
    "    'min_samples_split': [3, 5, 10], \n",
    "    'n_estimators' : [100, 300],\n",
    "    'max_depth': [3, 5, 15, 25],\n",
    "    'max_features': [3, 5, 10, 20]\n",
    "}\n",
    "\n",
    "scorers = {\n",
    "    'precision_score': make_scorer(precision_score),\n",
    "    'recall_score': make_scorer(recall_score),\n",
    "    'accuracy_score': make_scorer(accuracy_score)\n",
    "}"
   ]
  },
  {
   "cell_type": "code",
   "execution_count": 26,
   "metadata": {},
   "outputs": [],
   "source": [
    "\n",
    "def grid_search_wrapper(refit_score='precision_score'):\n",
    "    \"\"\"\n",
    "    fits a GridSearchCV classifier using refit_score for optimization\n",
    "    prints classifier performance metrics\n",
    "    \"\"\"\n",
    "    skf = StratifiedKFold(n_splits=10)\n",
    "    grid_search = GridSearchCV(clf, param_grid, scoring=scorers, refit=refit_score,\n",
    "                           cv=skf, return_train_score=True, n_jobs=-1)\n",
    "    grid_search.fit(X_train.values, y_train.values)\n",
    "\n",
    "    # make the predictions\n",
    "    y_pred = grid_search.predict(X_test.values)\n",
    "\n",
    "    print('Best params for {}'.format(refit_score))\n",
    "    print(grid_search.best_params_)\n",
    "\n",
    "    # confusion matrix on the test data.\n",
    "    print('\\nConfusion matrix of Random Forest optimized for {} on the test data:'.format(refit_score))\n",
    "    print(pd.DataFrame(confusion_matrix(y_test, y_pred),\n",
    "                 columns=['pred_neg', 'pred_pos'], index=['neg', 'pos']))\n",
    "    return grid_search"
   ]
  },
  {
   "cell_type": "code",
   "execution_count": 27,
   "metadata": {},
   "outputs": [
    {
     "name": "stdout",
     "output_type": "stream",
     "text": [
      "Best params for precision_score\n",
      "{'max_depth': 25, 'max_features': 3, 'min_samples_split': 3, 'n_estimators': 100}\n",
      "\n",
      "Confusion matrix of Random Forest optimized for precision_score on the test data:\n",
      "     pred_neg  pred_pos\n",
      "neg      1870         0\n",
      "pos        25         0\n"
     ]
    }
   ],
   "source": [
    "grid_search_clf = grid_search_wrapper(refit_score='precision_score')"
   ]
  },
  {
   "cell_type": "markdown",
   "metadata": {},
   "source": [
    "Best params for precision_score\n",
    "{'max_depth': 25, 'max_features': 3, 'min_samples_split': 3, 'n_estimators': 100}"
   ]
  },
  {
   "cell_type": "code",
   "execution_count": 28,
   "metadata": {},
   "outputs": [
    {
     "data": {
      "text/html": [
       "<div>\n",
       "<style scoped>\n",
       "    .dataframe tbody tr th:only-of-type {\n",
       "        vertical-align: middle;\n",
       "    }\n",
       "\n",
       "    .dataframe tbody tr th {\n",
       "        vertical-align: top;\n",
       "    }\n",
       "\n",
       "    .dataframe thead th {\n",
       "        text-align: right;\n",
       "    }\n",
       "</style>\n",
       "<table border=\"1\" class=\"dataframe\">\n",
       "  <thead>\n",
       "    <tr style=\"text-align: right;\">\n",
       "      <th></th>\n",
       "      <th>mean_test_precision_score</th>\n",
       "      <th>mean_test_recall_score</th>\n",
       "      <th>mean_test_accuracy_score</th>\n",
       "      <th>param_max_depth</th>\n",
       "      <th>param_max_features</th>\n",
       "      <th>param_min_samples_split</th>\n",
       "      <th>param_n_estimators</th>\n",
       "    </tr>\n",
       "  </thead>\n",
       "  <tbody>\n",
       "    <tr>\n",
       "      <th>72</th>\n",
       "      <td>1.0</td>\n",
       "      <td>0.996</td>\n",
       "      <td>0.998</td>\n",
       "      <td>25</td>\n",
       "      <td>3</td>\n",
       "      <td>3</td>\n",
       "      <td>100</td>\n",
       "    </tr>\n",
       "    <tr>\n",
       "      <th>73</th>\n",
       "      <td>1.0</td>\n",
       "      <td>0.996</td>\n",
       "      <td>0.998</td>\n",
       "      <td>25</td>\n",
       "      <td>3</td>\n",
       "      <td>3</td>\n",
       "      <td>300</td>\n",
       "    </tr>\n",
       "    <tr>\n",
       "      <th>77</th>\n",
       "      <td>1.0</td>\n",
       "      <td>0.995</td>\n",
       "      <td>0.997</td>\n",
       "      <td>25</td>\n",
       "      <td>3</td>\n",
       "      <td>10</td>\n",
       "      <td>300</td>\n",
       "    </tr>\n",
       "    <tr>\n",
       "      <th>74</th>\n",
       "      <td>1.0</td>\n",
       "      <td>0.995</td>\n",
       "      <td>0.998</td>\n",
       "      <td>25</td>\n",
       "      <td>3</td>\n",
       "      <td>5</td>\n",
       "      <td>100</td>\n",
       "    </tr>\n",
       "    <tr>\n",
       "      <th>75</th>\n",
       "      <td>1.0</td>\n",
       "      <td>0.996</td>\n",
       "      <td>0.998</td>\n",
       "      <td>25</td>\n",
       "      <td>3</td>\n",
       "      <td>5</td>\n",
       "      <td>300</td>\n",
       "    </tr>\n",
       "  </tbody>\n",
       "</table>\n",
       "</div>"
      ],
      "text/plain": [
       "    mean_test_precision_score  mean_test_recall_score  \\\n",
       "72                        1.0                   0.996   \n",
       "73                        1.0                   0.996   \n",
       "77                        1.0                   0.995   \n",
       "74                        1.0                   0.995   \n",
       "75                        1.0                   0.996   \n",
       "\n",
       "    mean_test_accuracy_score param_max_depth param_max_features  \\\n",
       "72                     0.998              25                  3   \n",
       "73                     0.998              25                  3   \n",
       "77                     0.997              25                  3   \n",
       "74                     0.998              25                  3   \n",
       "75                     0.998              25                  3   \n",
       "\n",
       "   param_min_samples_split param_n_estimators  \n",
       "72                       3                100  \n",
       "73                       3                300  \n",
       "77                      10                300  \n",
       "74                       5                100  \n",
       "75                       5                300  "
      ]
     },
     "execution_count": 28,
     "metadata": {},
     "output_type": "execute_result"
    }
   ],
   "source": [
    "results = pd.DataFrame(grid_search_clf.cv_results_)\n",
    "results = results.sort_values(by='mean_test_precision_score', ascending=False)\n",
    "results[['mean_test_precision_score', 'mean_test_recall_score', 'mean_test_accuracy_score', 'param_max_depth', 'param_max_features', 'param_min_samples_split', 'param_n_estimators']].round(3).head()"
   ]
  },
  {
   "cell_type": "markdown",
   "id": "84a701fa",
   "metadata": {},
   "source": [
    "## 2: ML Classifiers"
   ]
  },
  {
   "cell_type": "code",
   "execution_count": 56,
   "metadata": {},
   "outputs": [],
   "source": [
    "# function for computing scores of a given model\n",
    "score = lambda y_test, y_pred: pd.Series([accuracy_score(y_test, y_pred), \n",
    "                                        accuracy_score(y_test[y_test==0], y_pred[y_test==0]),\n",
    "                                        accuracy_score(y_test[y_test==1], y_pred[y_test==1]),\n",
    "                                        precision_score(y_test, y_pred),\n",
    "                                        f1_score(y_test, y_pred)],\n",
    "                                        index=['Overall accuracy', 'Accuracy on 0 / Specificity', 'Accuracy on 1 / Sensitivity / Recall', 'Precision / PPV', 'F1 score'])"
   ]
  },
  {
   "cell_type": "code",
   "execution_count": 67,
   "metadata": {},
   "outputs": [
    {
     "name": "stderr",
     "output_type": "stream",
     "text": [
      "[Parallel(n_jobs=1)]: Using backend SequentialBackend with 1 concurrent workers.\n"
     ]
    },
    {
     "name": "stdout",
     "output_type": "stream",
     "text": [
      "[CV] END .................................................... total time=   1.0s\n"
     ]
    },
    {
     "name": "stderr",
     "output_type": "stream",
     "text": [
      "[Parallel(n_jobs=1)]: Done   1 out of   1 | elapsed:    1.1s remaining:    0.0s\n"
     ]
    },
    {
     "name": "stdout",
     "output_type": "stream",
     "text": [
      "[CV] END .................................................... total time=   1.1s\n",
      "[CV] END .................................................... total time=   0.9s\n",
      "[CV] END .................................................... total time=   1.0s\n",
      "[CV] END .................................................... total time=   0.9s\n"
     ]
    },
    {
     "name": "stderr",
     "output_type": "stream",
     "text": [
      "[Parallel(n_jobs=1)]: Done   5 out of   5 | elapsed:    5.8s finished\n"
     ]
    }
   ],
   "source": [
    "from sklearn.model_selection import train_test_split, cross_validate, RepeatedKFold, GridSearchCV\n",
    "from sklearn.metrics import  roc_auc_score, brier_score_loss, roc_curve, recall_score\n",
    "\n",
    "#%%\n",
    "\n",
    "# type of validation - in this case K Fold validation\n",
    "rkf_search = RepeatedKFold(n_splits=5, n_repeats=1)\n",
    "\n",
    "#%%\n",
    "\n",
    "def recall_thresh(y, y_pred, pos_label):\n",
    "    fpr, tpr, threshold = roc_curve(y, y_pred, drop_intermediate=False)\n",
    "    optimal_idx = np.argmax(np.abs(tpr - fpr))\n",
    "    optimal_idx = np.argmax(np.sqrt(tpr - fpr))\n",
    "    # Maximised youden index -> this finds the optimal cutoff according to ROC curve analysis\n",
    "    optimal_threshold = threshold[optimal_idx]\n",
    "    labellize = lambda x: 1 if x >= optimal_threshold else 0\n",
    "    vfunc = np.vectorize(labellize)\n",
    "    return recall_score(y, vfunc(y_pred), pos_label=pos_label) \n",
    "\n",
    "def thresh(y, y_pred):\n",
    "    fpr, tpr, threshold = roc_curve(y, y_pred, drop_intermediate=False)\n",
    "    optimal_idx = np.argmax(np.abs(tpr - fpr)) # Maximised youden index\n",
    "    return threshold[optimal_idx]\n",
    "\n",
    " \n",
    "\n",
    "metrics = {'auc': make_scorer(roc_auc_score, needs_threshold=True),\n",
    "           'sens': make_scorer(recall_thresh, pos_label=1, needs_threshold=True),\n",
    "           'spec': make_scorer(recall_thresh, pos_label=0, needs_threshold=True),\n",
    "           'thresh': make_scorer(thresh, needs_threshold=True) # not performance but records optimal thresh\n",
    "             } # what performance metrics to measure\n",
    "\n",
    "gb = GradientBoostingClassifier(random_state = 42)\n",
    "output = cross_validate(clf, X_train, y_train, scoring=metrics,cv=rkf_search, verbose=2,\n",
    "                        return_train_score=True)"
   ]
  },
  {
   "cell_type": "code",
   "execution_count": 68,
   "metadata": {},
   "outputs": [
    {
     "data": {
      "text/plain": [
       "{'fit_time': array([1.07067132, 1.08970547, 0.98159838, 0.9763515 , 0.98403096]),\n",
       " 'score_time': array([0.06110573, 0.0638268 , 0.06068349, 0.07490516, 0.05517435]),\n",
       " 'test_auc': array([0.99996506, 0.99999308, 0.99998458, 0.9999884 , 0.99999655]),\n",
       " 'train_auc': array([1., 1., 1., 1., 1.]),\n",
       " 'test_sens': array([0.99914894, 0.99830652, 0.99915683, 0.99919094, 0.99834163]),\n",
       " 'train_sens': array([1., 1., 1., 1., 1.]),\n",
       " 'test_spec': array([0.00147929, 0.        , 0.00149254, 0.00232558, 0.        ]),\n",
       " 'train_spec': array([0., 0., 0., 0., 0.]),\n",
       " 'test_thresh': array([0.42, 0.59, 0.44, 0.39, 0.47]),\n",
       " 'train_thresh': array([0.73, 0.72, 0.72, 0.71, 0.73])}"
      ]
     },
     "execution_count": 68,
     "metadata": {},
     "output_type": "execute_result"
    }
   ],
   "source": [
    "output"
   ]
  },
  {
   "cell_type": "code",
   "execution_count": 14,
   "metadata": {},
   "outputs": [
    {
     "name": "stderr",
     "output_type": "stream",
     "text": [
      "C:\\Users\\marcel\\anaconda3\\envs\\tridentenv\\lib\\site-packages\\sklearn\\metrics\\_classification.py:1248: UndefinedMetricWarning: Precision is ill-defined and being set to 0.0 due to no predicted samples. Use `zero_division` parameter to control this behavior.\n",
      "  _warn_prf(average, modifier, msg_start, len(result))\n"
     ]
    }
   ],
   "source": [
    "# k-nearest neighbors\n",
    "knn = KNeighborsClassifier()\n",
    "knn.fit(X_train, y_train)\n",
    "knn_scores = score(y_test, knn.predict(X_test))\n",
    "\n",
    "# random forest\n",
    "rf = RandomForestClassifier(random_state = 42)\n",
    "rf.fit(X_train, y_train)\n",
    "rf_scores = score(y_test, rf.predict(X_test))\n",
    "\n",
    "# ada boosting\n",
    "ada = AdaBoostClassifier(random_state = 42)\n",
    "ada.fit(X_train, y_train)\n",
    "ada_scores = score(y_test, ada.predict(X_test))\n",
    "\n",
    "# gradient boosting\n",
    "gb = GradientBoostingClassifier(random_state = 42)\n",
    "gb.fit(X_train, y_train)\n",
    "gb_scores = score(y_test, gb.predict(X_test))\n",
    "\n",
    "# support vector machine\n",
    "svm = SVC()\n",
    "svm.fit(X_train, y_train)\n",
    "svm_scores = score(y_test, svm.predict(X_test))\n",
    "\n",
    "# bagging\n",
    "bag = BaggingClassifier()\n",
    "bag.fit(X_train, y_train)\n",
    "bag_scores = score(y_test, bag.predict(X_test))\n",
    "\n",
    "# clf\n",
    "clf = RandomForestClassifier(max_depth=25, max_features=3, min_samples_split=3, n_estimators=100)\n",
    "clf.fit(X_train, y_train)\n",
    "clf_scores = score(y_test, clf.predict(X_test))"
   ]
  },
  {
   "cell_type": "code",
   "execution_count": 15,
   "metadata": {},
   "outputs": [
    {
     "data": {
      "text/html": [
       "<div>\n",
       "<style scoped>\n",
       "    .dataframe tbody tr th:only-of-type {\n",
       "        vertical-align: middle;\n",
       "    }\n",
       "\n",
       "    .dataframe tbody tr th {\n",
       "        vertical-align: top;\n",
       "    }\n",
       "\n",
       "    .dataframe thead th {\n",
       "        text-align: right;\n",
       "    }\n",
       "</style>\n",
       "<table border=\"1\" class=\"dataframe\">\n",
       "  <thead>\n",
       "    <tr style=\"text-align: right;\">\n",
       "      <th></th>\n",
       "      <th>KNN</th>\n",
       "      <th>RF</th>\n",
       "      <th>ADA</th>\n",
       "      <th>GB</th>\n",
       "      <th>SVM</th>\n",
       "      <th>BAG</th>\n",
       "      <th>CLF</th>\n",
       "    </tr>\n",
       "  </thead>\n",
       "  <tbody>\n",
       "    <tr>\n",
       "      <th>Overall accuracy</th>\n",
       "      <td>0.897098</td>\n",
       "      <td>0.986280</td>\n",
       "      <td>0.971504</td>\n",
       "      <td>0.982058</td>\n",
       "      <td>0.856992</td>\n",
       "      <td>0.979947</td>\n",
       "      <td>0.986807</td>\n",
       "    </tr>\n",
       "    <tr>\n",
       "      <th>Accuracy on 0 / Specificity</th>\n",
       "      <td>0.905348</td>\n",
       "      <td>0.999465</td>\n",
       "      <td>0.981283</td>\n",
       "      <td>0.994118</td>\n",
       "      <td>0.861497</td>\n",
       "      <td>0.993048</td>\n",
       "      <td>1.000000</td>\n",
       "    </tr>\n",
       "    <tr>\n",
       "      <th>Accuracy on 1 / Sensitivity / Recall</th>\n",
       "      <td>0.280000</td>\n",
       "      <td>0.000000</td>\n",
       "      <td>0.240000</td>\n",
       "      <td>0.080000</td>\n",
       "      <td>0.520000</td>\n",
       "      <td>0.000000</td>\n",
       "      <td>0.000000</td>\n",
       "    </tr>\n",
       "    <tr>\n",
       "      <th>Precision / PPV</th>\n",
       "      <td>0.038043</td>\n",
       "      <td>0.000000</td>\n",
       "      <td>0.146341</td>\n",
       "      <td>0.153846</td>\n",
       "      <td>0.047794</td>\n",
       "      <td>0.000000</td>\n",
       "      <td>0.000000</td>\n",
       "    </tr>\n",
       "    <tr>\n",
       "      <th>F1 score</th>\n",
       "      <td>0.066986</td>\n",
       "      <td>0.000000</td>\n",
       "      <td>0.181818</td>\n",
       "      <td>0.105263</td>\n",
       "      <td>0.087542</td>\n",
       "      <td>0.000000</td>\n",
       "      <td>0.000000</td>\n",
       "    </tr>\n",
       "  </tbody>\n",
       "</table>\n",
       "</div>"
      ],
      "text/plain": [
       "                                           KNN        RF       ADA        GB  \\\n",
       "Overall accuracy                      0.897098  0.986280  0.971504  0.982058   \n",
       "Accuracy on 0 / Specificity           0.905348  0.999465  0.981283  0.994118   \n",
       "Accuracy on 1 / Sensitivity / Recall  0.280000  0.000000  0.240000  0.080000   \n",
       "Precision / PPV                       0.038043  0.000000  0.146341  0.153846   \n",
       "F1 score                              0.066986  0.000000  0.181818  0.105263   \n",
       "\n",
       "                                           SVM       BAG       CLF  \n",
       "Overall accuracy                      0.856992  0.979947  0.986807  \n",
       "Accuracy on 0 / Specificity           0.861497  0.993048  1.000000  \n",
       "Accuracy on 1 / Sensitivity / Recall  0.520000  0.000000  0.000000  \n",
       "Precision / PPV                       0.047794  0.000000  0.000000  \n",
       "F1 score                              0.087542  0.000000  0.000000  "
      ]
     },
     "execution_count": 15,
     "metadata": {},
     "output_type": "execute_result"
    }
   ],
   "source": [
    "# present scores in a dataframe\n",
    "score_df = pd.DataFrame({'KNN': knn_scores, \n",
    "                         'RF': rf_scores, \n",
    "                         'ADA': ada_scores, \n",
    "                         'GB': gb_scores, \n",
    "                         'SVM': svm_scores,\n",
    "                         'BAG': bag_scores,\n",
    "                         'CLF': clf_scores})\n",
    "score_df = score_df[['KNN', 'RF', 'ADA', 'GB', 'SVM', 'BAG', 'CLF']]\n",
    "score_df"
   ]
  },
  {
   "cell_type": "code",
   "execution_count": 16,
   "metadata": {},
   "outputs": [
    {
     "data": {
      "image/png": "[encoded data removed]",
      "text/plain": [
       "<Figure size 720x432 with 1 Axes>"
      ]
     },
     "metadata": {
      "needs_background": "light"
     },
     "output_type": "display_data"
    }
   ],
   "source": [
    "fpr = dict()\n",
    "tpr = dict()\n",
    "auroc = dict()\n",
    "\n",
    "# k-nearest neighbors\n",
    "knn_probas = knn.predict_proba(X_test)\n",
    "fpr[\"KNN\"], tpr[\"KNN\"], _ = roc_curve(y_test, knn_probas[:, 1])\n",
    "auroc[\"KNN\"] = auc(fpr[\"KNN\"], tpr[\"KNN\"])\n",
    "\n",
    "# random forest\n",
    "rf_probas = rf.predict_proba(X_test)\n",
    "fpr[\"RF\"], tpr[\"RF\"], _ = roc_curve(y_test, rf_probas[:, 1])\n",
    "auroc[\"RF\"] = auc(fpr[\"RF\"], tpr[\"RF\"])\n",
    "\n",
    "# ada boosting\n",
    "ada_probas = ada.decision_function(X_test)\n",
    "fpr[\"ADA\"], tpr[\"ADA\"], _ = roc_curve(y_test, ada_probas)\n",
    "auroc[\"ADA\"] = auc(fpr[\"ADA\"], tpr[\"ADA\"])\n",
    "\n",
    "# gradient boosting\n",
    "gb_probas = gb.decision_function(X_test)\n",
    "fpr[\"GB\"], tpr[\"GB\"], _ = roc_curve(y_test, gb_probas)\n",
    "auroc[\"GB\"] = auc(fpr[\"GB\"], tpr[\"GB\"])\n",
    "\n",
    "# support vector machine\n",
    "svm_probas = svm.decision_function(X_test)\n",
    "fpr[\"SVM\"], tpr[\"SVM\"], _ = roc_curve(y_test, svm_probas)\n",
    "auroc[\"SVM\"] = auc(fpr[\"SVM\"], tpr[\"SVM\"])\n",
    "\n",
    "'''# bagging classifier\n",
    "bag_probas = bag.decision_function(X_test)\n",
    "fpr[\"BAG\"], tpr[\"BAG\"], _ = roc_curve(y_test, bag_probas)\n",
    "auroc[\"BAG\"] = auc(fpr[\"BAG\"], tpr[\"BAG\"])'''\n",
    "\n",
    "# plot\n",
    "plt.figure(figsize=(10,6))\n",
    "plt.plot(fpr[\"KNN\"], tpr[\"KNN\"], color='royalblue', lw=2, label='KNN (AUC = %0.2f)' % auroc[\"KNN\"])\n",
    "plt.plot(fpr[\"RF\"], tpr[\"RF\"], color='darkviolet', lw=2, label='RF (AUC = %0.2f)' % auroc[\"RF\"])\n",
    "plt.plot(fpr[\"ADA\"], tpr[\"ADA\"], color='green', lw=2, label='ADA (AUC = %0.2f)' % auroc[\"ADA\"])\n",
    "plt.plot(fpr[\"GB\"], tpr[\"GB\"], color='red', lw=2, label='GB (AUC = %0.2f)' % auroc[\"GB\"])\n",
    "plt.plot(fpr[\"SVM\"], tpr[\"SVM\"], color='darkorange', lw=2, label='SVM (AUC = %0.2f)' % auroc[\"SVM\"])\n",
    "#plt.plot(fpr[\"BAG\"], tpr[\"BAG\"], color='yellow', lw=2, label='BAG (AUC = %0.2f)' % auroc[\"BAG\"])\n",
    "plt.plot([0, 1], [0, 1], color='navy', lw=2, linestyle='--')\n",
    "plt.xlabel('False Positive Rate')\n",
    "plt.ylabel('True Positive Rate')\n",
    "plt.title('PMV ROC Curves')\n",
    "plt.legend(loc=\"lower right\")\n",
    "plt.show()"
   ]
  },
  {
   "cell_type": "code",
   "execution_count": 50,
   "metadata": {},
   "outputs": [
    {
     "data": {
      "text/plain": [
       "array([-3.01921135, -5.4485225 , -5.95683093, -3.32412612, -1.19401044,\n",
       "       -6.23546724, -4.87175413, -4.97135951, -3.41259072, -4.00278163,\n",
       "       -5.03571604, -5.09846527, -5.15143671, -4.51881676, -5.12153067,\n",
       "       -4.23395002, -4.01898515, -2.97904921, -4.95360073, -5.21619373,\n",
       "       -6.03033602, -2.02318479, -4.47021313, -5.24812095, -3.64223047,\n",
       "       -1.28267946, -1.23126489, -5.26205073, -6.609799  , -5.26183774,\n",
       "       -5.6860246 , -4.68975229, -2.93205972, -3.3008553 , -3.20065727,\n",
       "       -4.29564314, -2.05348502, -3.36677203, -3.69638473, -5.38452877,\n",
       "       -4.73435885, -2.69449938, -4.86122764, -5.44497589, -3.8856366 ,\n",
       "       -5.16928556, -5.1274689 , -4.12270326, -5.24101653, -4.9438616 ])"
      ]
     },
     "execution_count": 50,
     "metadata": {},
     "output_type": "execute_result"
    }
   ],
   "source": [
    "gb_probas[0:50]"
   ]
  },
  {
   "cell_type": "code",
   "execution_count": null,
   "metadata": {},
   "outputs": [],
   "source": []
  },
  {
   "cell_type": "code",
   "execution_count": 19,
   "metadata": {},
   "outputs": [
    {
     "data": {
      "text/plain": [
       "array([[0.84, 0.16],\n",
       "       [0.99, 0.01],\n",
       "       [1.  , 0.  ],\n",
       "       [0.9 , 0.1 ],\n",
       "       [0.86, 0.14],\n",
       "       [1.  , 0.  ],\n",
       "       [0.97, 0.03],\n",
       "       [0.97, 0.03],\n",
       "       [0.9 , 0.1 ],\n",
       "       [0.93, 0.07],\n",
       "       [0.97, 0.03],\n",
       "       [1.  , 0.  ],\n",
       "       [0.99, 0.01],\n",
       "       [0.94, 0.06],\n",
       "       [1.  , 0.  ],\n",
       "       [0.93, 0.07],\n",
       "       [0.97, 0.03],\n",
       "       [0.93, 0.07],\n",
       "       [1.  , 0.  ],\n",
       "       [1.  , 0.  ],\n",
       "       [1.  , 0.  ],\n",
       "       [0.9 , 0.1 ],\n",
       "       [0.96, 0.04],\n",
       "       [0.99, 0.01],\n",
       "       [0.92, 0.08],\n",
       "       [0.88, 0.12],\n",
       "       [0.85, 0.15],\n",
       "       [0.98, 0.02],\n",
       "       [0.98, 0.02],\n",
       "       [0.99, 0.01],\n",
       "       [1.  , 0.  ],\n",
       "       [0.98, 0.02],\n",
       "       [0.92, 0.08],\n",
       "       [1.  , 0.  ],\n",
       "       [0.92, 0.08],\n",
       "       [0.91, 0.09],\n",
       "       [0.87, 0.13],\n",
       "       [0.97, 0.03],\n",
       "       [0.91, 0.09],\n",
       "       [1.  , 0.  ],\n",
       "       [0.98, 0.02],\n",
       "       [0.85, 0.15],\n",
       "       [0.99, 0.01],\n",
       "       [0.99, 0.01],\n",
       "       [0.96, 0.04],\n",
       "       [0.96, 0.04],\n",
       "       [1.  , 0.  ],\n",
       "       [1.  , 0.  ],\n",
       "       [0.97, 0.03],\n",
       "       [0.96, 0.04]])"
      ]
     },
     "execution_count": 19,
     "metadata": {},
     "output_type": "execute_result"
    }
   ],
   "source": [
    "rf_probas[0:50]"
   ]
  },
  {
   "cell_type": "code",
   "execution_count": null,
   "metadata": {},
   "outputs": [
    {
     "data": {
      "text/plain": [
       "'bag_probas = bagc.decision_function(x_test)\\nfpr[\"SVM\"], tpr[\"SVM\"], _ = roc_curve(y_test, bag_probas)\\nauroc[\"SVM\"] = auc(fpr[\"SVM\"], tpr[\"SVM\"])'"
      ]
     },
     "execution_count": 18,
     "metadata": {},
     "output_type": "execute_result"
    }
   ],
   "source": [
    "'''bag_probas = bagc.decision_function(X_test)\n",
    "fpr[\"SVM\"], tpr[\"SVM\"], _ = roc_curve(y_test, bag_probas)\n",
    "auroc[\"SVM\"] = auc(fpr[\"SVM\"], tpr[\"SVM\"])'''"
   ]
  },
  {
   "cell_type": "code",
   "execution_count": null,
   "metadata": {},
   "outputs": [
    {
     "data": {
      "image/png": "[encoded data removed]",
      "text/plain": [
       "<Figure size 720x432 with 1 Axes>"
      ]
     },
     "metadata": {
      "needs_background": "light"
     },
     "output_type": "display_data"
    }
   ],
   "source": [
    "precision = dict()\n",
    "recall = dict()\n",
    "auprc = dict()\n",
    "\n",
    "# k-nearest neighbors\n",
    "precision[\"KNN\"], recall[\"KNN\"], _ = precision_recall_curve(y_test, knn_probas[:, 1])\n",
    "precision[\"KNN\"].sort()\n",
    "auprc[\"KNN\"] = auc(precision[\"KNN\"], recall[\"KNN\"])\n",
    "\n",
    "# random forest\n",
    "precision[\"RF\"], recall[\"RF\"], _ = precision_recall_curve(y_test, rf_probas[:, 1])\n",
    "precision[\"RF\"].sort()\n",
    "auprc[\"RF\"] = auc(precision[\"RF\"], recall[\"RF\"])\n",
    "\n",
    "# ada boosting\n",
    "precision[\"ADA\"], recall[\"ADA\"], _ = precision_recall_curve(y_test, ada_probas)\n",
    "precision[\"ADA\"].sort()\n",
    "auprc[\"ADA\"] = auc(precision[\"ADA\"], recall[\"ADA\"])\n",
    "\n",
    "# gradient boosting\n",
    "precision[\"GB\"], recall[\"GB\"], _ = precision_recall_curve(y_test, gb_probas)\n",
    "precision[\"GB\"].sort()\n",
    "auprc[\"GB\"] = auc(precision[\"GB\"], recall[\"GB\"])\n",
    "\n",
    "# support vector machine\n",
    "precision[\"SVM\"], recall[\"SVM\"], _ = precision_recall_curve(y_test, svm_probas)\n",
    "precision[\"SVM\"].sort()\n",
    "auprc[\"SVM\"] = auc(precision[\"SVM\"], recall[\"SVM\"])\n",
    "\n",
    "# plot\n",
    "plt.figure(figsize=(10,6))\n",
    "plt.plot(recall[\"KNN\"], precision[\"KNN\"], color='royalblue', lw=2, label='KNN (AUC = %0.2f)' % (auprc[\"KNN\"]))\n",
    "plt.plot(recall[\"RF\"], precision[\"RF\"], color='darkviolet', lw=2, label='RF (AUC = %0.2f)' % (auprc[\"RF\"]))\n",
    "plt.plot(recall[\"ADA\"], precision[\"ADA\"], color='green', lw=2, label='ADA (AUC = %0.2f)' % (auprc[\"ADA\"]))\n",
    "plt.plot(recall[\"GB\"], precision[\"GB\"], color='red', lw=2, label='GB (AUC = %0.2f)' % (auprc[\"GB\"]))\n",
    "plt.plot(recall[\"SVM\"], precision[\"SVM\"], color='darkorange', lw=2, label='SVM (AUC = %0.2f)' % (auprc[\"SVM\"]))\n",
    "plt.xlabel('Recall')\n",
    "plt.ylabel('Precision')\n",
    "plt.title('Precision-Recall Curves')\n",
    "plt.legend(loc=\"upper right\")\n",
    "plt.show()"
   ]
  },
  {
   "cell_type": "markdown",
   "id": "d0e98102",
   "metadata": {},
   "source": [
    "### 2.1: Cox models"
   ]
  },
  {
   "cell_type": "markdown",
   "metadata": {},
   "source": [
    "#### 2.1.1: CoxPH"
   ]
  },
  {
   "cell_type": "code",
   "execution_count": null,
   "metadata": {},
   "outputs": [],
   "source": [
    "Xt = OneHotEncoder().fit_transform(X)\n",
    "cph = CoxPHSurvivalAnalysis()\n",
    "cph.fit(Xt, y)\n",
    "\n",
    "# get c-index of trained estimator\n",
    "pred = cph.predict(Xt)\n",
    "result = concordance_index_censored(y['Censor'], y[\"Survival\"], pred)\n",
    "print('C-index of Cox model: '+str(result[0]))"
   ]
  },
  {
   "cell_type": "code",
   "execution_count": null,
   "metadata": {},
   "outputs": [],
   "source": [
    "alphas = 10. ** np.linspace(-4,4,10)\n",
    "coefficients = {}\n",
    "\n",
    "cph = CoxPHSurvivalAnalysis()\n",
    "for alpha in alphas:\n",
    "    cph.set_params(alpha=alpha)\n",
    "    cph.fit(Xt, y)\n",
    "    key = round(alpha, 5)\n",
    "    coefficients[key] = cph.coef_\n",
    "\n",
    "coefficients = (pd.DataFrame\n",
    "    .from_dict(coefficients)\n",
    "    .rename_axis(index=\"feature\", columns=\"alpha\")\n",
    "    .set_index(Xt.columns))"
   ]
  },
  {
   "cell_type": "code",
   "execution_count": null,
   "metadata": {},
   "outputs": [],
   "source": [
    "def plot_coefficients(coefs, n_highlight):\n",
    "    _, ax = plt.subplots(figsize=(9, 6))\n",
    "    n_features = coefs.shape[0]\n",
    "    alphas = coefs.columns\n",
    "    for row in coefs.itertuples():\n",
    "        ax.semilogx(alphas, row[1:], \".-\", label=row.Index)\n",
    "\n",
    "    alpha_min = alphas.min()\n",
    "    top_coefs = coefs.loc[:, alpha_min].map(abs).sort_values().tail(n_highlight)\n",
    "    for name in top_coefs.index:\n",
    "        coef = coefs.loc[name, alpha_min]\n",
    "        plt.text(\n",
    "            alpha_min, coef, name + \"   \",\n",
    "            horizontalalignment=\"right\",\n",
    "            verticalalignment=\"center\"\n",
    "        )\n",
    "\n",
    "    ax.yaxis.set_label_position(\"right\")\n",
    "    ax.yaxis.tick_right()\n",
    "    ax.grid(True)\n",
    "    ax.set_xlabel(\"alpha\")\n",
    "    ax.set_ylabel(\"coefficient\")\n",
    "plot_coefficients(coefficients, n_highlight=10)"
   ]
  },
  {
   "cell_type": "markdown",
   "metadata": {},
   "source": [
    "#### 2.1.2: Cox Elastic Net"
   ]
  },
  {
   "cell_type": "code",
   "execution_count": null,
   "metadata": {},
   "outputs": [],
   "source": [
    "coxnet_pipe = make_pipeline(\n",
    "    StandardScaler(),\n",
    "    CoxnetSurvivalAnalysis(l1_ratio=0.9, alpha_min_ratio=0.001, max_iter=100)\n",
    ")\n",
    "warnings.simplefilter(\"ignore\", ConvergenceWarning)\n",
    "coxnet_pipe.fit(Xt, y)"
   ]
  },
  {
   "cell_type": "code",
   "execution_count": null,
   "metadata": {},
   "outputs": [],
   "source": [
    "estimated_alphas = coxnet_pipe.named_steps[\"coxnetsurvivalanalysis\"].alphas_\n",
    "cv = KFold(n_splits=5, shuffle=True, random_state=0)\n",
    "gcv = GridSearchCV(\n",
    "    make_pipeline(StandardScaler(), CoxnetSurvivalAnalysis(l1_ratio=0.9)),\n",
    "    param_grid={\"coxnetsurvivalanalysis__alphas\": [[v] for v in estimated_alphas]},\n",
    "    cv=cv,\n",
    "    error_score=0.5,\n",
    "    n_jobs=4).fit(Xt, y)\n",
    "\n",
    "cv_results = pd.DataFrame(gcv.cv_results_)"
   ]
  },
  {
   "cell_type": "code",
   "execution_count": null,
   "metadata": {},
   "outputs": [],
   "source": [
    "alphas = cv_results.param_coxnetsurvivalanalysis__alphas.map(lambda x: x[0])\n",
    "mean = cv_results.mean_test_score\n",
    "std = cv_results.std_test_score\n",
    "\n",
    "fig, ax = plt.subplots(figsize=(9, 6))\n",
    "ax.plot(alphas, mean)\n",
    "ax.fill_between(alphas, mean - std, mean + std, alpha=.15)\n",
    "ax.set_xscale(\"log\")\n",
    "ax.set_ylabel(\"concordance index\")\n",
    "ax.set_xlabel(\"alpha\")\n",
    "ax.axvline(gcv.best_params_[\"coxnetsurvivalanalysis__alphas\"][0], c=\"C1\")\n",
    "ax.axhline(0.5, color=\"grey\", linestyle=\"--\")\n",
    "ax.grid(True)"
   ]
  },
  {
   "cell_type": "code",
   "execution_count": null,
   "metadata": {},
   "outputs": [],
   "source": [
    "best_model = gcv.best_estimator_.named_steps[\"coxnetsurvivalanalysis\"]\n",
    "best_coefs = pd.DataFrame(\n",
    "    best_model.coef_,\n",
    "    index=Xt.columns,\n",
    "    columns=[\"coefficient\"]\n",
    ")\n",
    "\n",
    "non_zero = np.sum(best_coefs.iloc[:, 0] != 0)\n",
    "print(\"Number of non-zero coefficients: {}\".format(non_zero))\n",
    "\n",
    "non_zero_coefs = best_coefs.query(\"coefficient != 0\")\n",
    "coef_order = non_zero_coefs.abs().sort_values(\"coefficient\").index\n",
    "\n",
    "_, ax = plt.subplots(figsize=(6, 8))\n",
    "non_zero_coefs.loc[coef_order[-20:]].plot.barh(ax=ax, legend=False)\n",
    "ax.set_xlabel(\"coefficient\")\n",
    "ax.grid(True)"
   ]
  },
  {
   "cell_type": "markdown",
   "metadata": {},
   "source": [
    "### 2.2: Random Survival Forest"
   ]
  },
  {
   "cell_type": "code",
   "execution_count": null,
   "metadata": {},
   "outputs": [],
   "source": [
    "# get X, Xt and y\n",
    "X = df[inputs]\n",
    "#X = df[inputs_all]\n",
    "Xt = OneHotEncoder().fit_transform(X)\n",
    "\n",
    "y = np.zeros(len(df), dtype={'names':('Censor', 'Survival'),\n",
    "                          'formats':('?', '<f8')})\n",
    "\n",
    "y['Censor'] = df['censor']\n",
    "y['Survival'] =df['duration1']\n",
    "y"
   ]
  },
  {
   "cell_type": "code",
   "execution_count": null,
   "metadata": {},
   "outputs": [],
   "source": [
    "random_state = 24\n",
    "\n",
    "X_train, X_test, y_train, y_test = train_test_split(\n",
    "    Xt, y, test_size=0.20, random_state=random_state)"
   ]
  },
  {
   "cell_type": "code",
   "execution_count": null,
   "metadata": {},
   "outputs": [],
   "source": [
    "rsf = RandomSurvivalForest(n_estimators=100,\n",
    "                            min_samples_split=50,\n",
    "                            min_samples_leaf=4,\n",
    "                            max_features=\"sqrt\",\n",
    "                            n_jobs=-1,\n",
    "                            random_state=random_state)\n",
    "rsf.fit(X_train, y_train)\n",
    "rsf.score(X_test, y_test)"
   ]
  },
  {
   "cell_type": "code",
   "execution_count": null,
   "metadata": {},
   "outputs": [],
   "source": [
    "rsf = RandomSurvivalForest()\n",
    "parameters = {'n_estimators': [int(x) for x in np.linspace(start = 100, stop = 200, num = 2)],\n",
    "              'max_features': ['auto', 'sqrt'],\n",
    "              'max_depth': [int(x) for x in np.linspace(10, 100, num = 3)],\n",
    "              'min_samples_split': [2, 5],\n",
    "              'min_samples_leaf': [1, 2, 4],\n",
    "              'bootstrap': [True, False]}\n",
    "rsf_tuned = RandomizedSearchCV(rsf, parameters, n_iter = 10, cv=3, n_jobs=-1, scoring='f1')\n",
    "rsf_tuned.fit(X_train, y_train)\n",
    "print ('Best parameters for RSF: {}'.format(rsf_tuned.best_params_))\n",
    "print ('Cross-validation F1 score: {}'.format(rsf_tuned.best_score_))\n",
    "print ('Test F1 score: {}'.format(f1_score(y_test, rsf_tuned.predict(X_test))))"
   ]
  },
  {
   "cell_type": "code",
   "execution_count": null,
   "metadata": {},
   "outputs": [],
   "source": [
    "rsf = RandomSurvivalForest(n_estimators=200,\n",
    "                            min_samples_split=50,\n",
    "                            min_samples_leaf=3,\n",
    "                            max_features=\"sqrt\",\n",
    "                            n_jobs=-1,\n",
    "                            random_state=random_state)\n",
    "parameters = {'n_estimators': [100, 200],\n",
    "              'max_features': ['auto'],\n",
    "              'max_depth': [50, 100],\n",
    "              'min_samples_split': [5,10],\n",
    "              'min_samples_leaf': [2,10],\n",
    "              'bootstrap': [True, False]}\n",
    "rsf_tuned = GridSearchCV(rsf, parameters, cv=5, n_jobs=-1, scoring='f1')\n",
    "rsf_tuned.fit(X_train, y_train)\n",
    "print ('Best parameters for RF: {}'.format(rf_tuned.best_params_))\n",
    "print ('Cross-validation F1 score: {}'.format(rf_tuned.best_score_))\n",
    "print ('Test F1 score: {}'.format(f1_score(y_test, rf_tuned.predict(X_test))))"
   ]
  },
  {
   "cell_type": "code",
   "execution_count": null,
   "metadata": {},
   "outputs": [],
   "source": [
    "perm = PermutationImportance(rsf, n_iter=3, random_state=random_state)\n",
    "perm.fit(X_test, y_test)\n",
    "eli5.show_weights(perm, feature_names=feature_names)"
   ]
  },
  {
   "cell_type": "markdown",
   "metadata": {},
   "source": [
    "### 2.3: GBM Survival"
   ]
  },
  {
   "cell_type": "code",
   "execution_count": null,
   "metadata": {},
   "outputs": [],
   "source": [
    "# get X, Xt and y\n",
    "X = df[inputs]\n",
    "#X = df[inputs_all]\n",
    "Xt = OneHotEncoder().fit_transform(X)\n",
    "\n",
    "y = np.zeros(len(df), dtype={'names':('Censor', 'Survival'),\n",
    "                          'formats':('?', '<f8')})\n",
    "\n",
    "y['Censor'] = df['censor']\n",
    "y['Survival'] =df['duration1']\n",
    "y\n",
    "\n",
    "# get X_train, X_test, y_train, y_test\n",
    "random_state = 20\n",
    "\n",
    "X_train, X_test, y_train, y_test = train_test_split(\n",
    "    Xt, y, test_size=0.25, random_state=random_state)"
   ]
  },
  {
   "cell_type": "code",
   "execution_count": null,
   "metadata": {},
   "outputs": [],
   "source": [
    "est_cph_tree = GradientBoostingSurvivalAnalysis(\n",
    "    n_estimators=100, learning_rate=1.0, max_depth=1, random_state=0\n",
    ")\n",
    "est_cph_tree.fit(X_train, y_train)\n",
    "cindex = est_cph_tree.score(X_test, y_test)\n",
    "print(round(cindex, 3))"
   ]
  },
  {
   "cell_type": "code",
   "execution_count": null,
   "metadata": {},
   "outputs": [],
   "source": [
    "scores_cph_tree = {}\n",
    "\n",
    "est_cph_tree = GradientBoostingSurvivalAnalysis(\n",
    "    learning_rate=1.0, max_depth=1, random_state=0\n",
    ")\n",
    "for i in range(10, 31,5):\n",
    "    n_estimators = i * 5\n",
    "    est_cph_tree.set_params(n_estimators=n_estimators)\n",
    "    est_cph_tree.fit(X_train, y_train)\n",
    "    scores_cph_tree[n_estimators] = est_cph_tree.score(X_test, y_test)"
   ]
  },
  {
   "cell_type": "code",
   "execution_count": null,
   "metadata": {},
   "outputs": [],
   "source": [
    "x, y = zip(*scores_cph_tree.items())\n",
    "plt.plot(x, y)\n",
    "plt.xlabel(\"n_estimator\")\n",
    "plt.ylabel(\"concordance index\")\n",
    "plt.grid(True)"
   ]
  },
  {
   "cell_type": "code",
   "execution_count": null,
   "metadata": {},
   "outputs": [],
   "source": [
    "scores_cph_ls = {}\n",
    "\n",
    "est_cph_ls = ComponentwiseGradientBoostingSurvivalAnalysis(\n",
    "    learning_rate=1.0, random_state=0\n",
    ")\n",
    "for i in range(1, 31):\n",
    "    n_estimators = i * 10\n",
    "    est_cph_ls.set_params(n_estimators=n_estimators)\n",
    "    est_cph_ls.fit(X_train, y_train)\n",
    "    scores_cph_ls[n_estimators] = est_cph_ls.score(X_test, y_test)"
   ]
  },
  {
   "cell_type": "code",
   "execution_count": null,
   "metadata": {},
   "outputs": [],
   "source": [
    "x, y = zip(*scores_cph_ls.items())\n",
    "plt.plot(x, y)\n",
    "plt.xlabel(\"n_estimator\")\n",
    "plt.ylabel(\"concordance index\")\n",
    "plt.grid(True)"
   ]
  },
  {
   "cell_type": "code",
   "execution_count": null,
   "metadata": {},
   "outputs": [],
   "source": [
    "coef = pd.Series(est_cph_ls.coef_, [\"Intercept\"] + Xt.columns.tolist())\n",
    "\n",
    "print(\"Number of non-zero coefficients:\", (coef != 0).sum())\n",
    "coef_nz = coef[coef != 0]\n",
    "coef_order = coef_nz.abs().sort_values(ascending=False).index\n",
    "coef_nz.loc[coef_order]"
   ]
  },
  {
   "cell_type": "markdown",
   "id": "fd547661",
   "metadata": {},
   "source": [
    "## 3: Exploring language and ventilation duration "
   ]
  },
  {
   "cell_type": "code",
   "execution_count": null,
   "id": "2c083716",
   "metadata": {},
   "outputs": [],
   "source": [
    "from sklearn.linear_model import LogisticRegression\n",
    "from sklearn.linear_model import LinearRegression\n",
    "from sklearn.metrics import roc_curve, auc, roc_auc_score\n",
    "\n",
    "dfImputed_onehot = dfImputed.copy()\n",
    "dfImputed1 = pd.get_dummies(dfImputed_onehot, columns = ['ethnicity', 'language'], prefix = ['eth', 'lang'])\n",
    "onehot_cols = [i for i in list(dfImputed1.columns) if i not in ['ethnicity', 'marital_status', 'language', 'admission_location']]\n",
    "dfImputed1['duration1'] = df['duration1']\n",
    "dfImputed1 = dfImputed1.dropna(axis=0, how='any')"
   ]
  },
  {
   "cell_type": "code",
   "execution_count": null,
   "id": "dd50d2c3",
   "metadata": {},
   "outputs": [],
   "source": [
    "dfImputed1"
   ]
  },
  {
   "cell_type": "code",
   "execution_count": null,
   "id": "060a3f72",
   "metadata": {},
   "outputs": [],
   "source": [
    "from matplotlib import pyplot\n",
    "from scipy.stats import kstest, norm, pearsonr, ttest_ind\n",
    "\n",
    "x = dfImputed1['lang_ENGL']\n",
    "y = df['duration1'].dropna(axis=0,how='any')\n",
    "\n",
    "#testing for normalcy\n",
    "mu, std = norm.fit(x)\n",
    "n = norm(loc=mu, scale=std)\n",
    "normalcy_p = kstest(x, n.cdf)[1]\n",
    "print('p-val: '+ str(normalcy_p))\n",
    "\n",
    "pyplot.scatter(x,y)\n",
    "covariance = np.cov(x,y)\n",
    "print('Covariance matrix: ')\n",
    "print(covariance)\n",
    "\n",
    "#find pearson R\n",
    "corr, _ = pearsonr(x,y)\n",
    "print('Pearsons R: %.3f' %corr)"
   ]
  },
  {
   "cell_type": "code",
   "execution_count": null,
   "id": "5f9eb5df",
   "metadata": {},
   "outputs": [],
   "source": [
    "import statsmodels.api as sm\n",
    "\n",
    "univariable = pd.DataFrame(index = ['eth_white','lang_ENGL'], columns = ['OR (95% CI)','p-value'])\n",
    "\n",
    "p_value = []\n",
    "OR = []\n",
    "time = []\n",
    "for column in ['lang_ENGL']:\n",
    "    for int_timelimit in range(0,48,1):\n",
    "        X = dfImputed1[column].values\n",
    "        X = sm.add_constant(X)\n",
    "        y = pd.cut(df['duration1'].dropna(how='any'),bins=[-0.1,int_timelimit,4000],labels=[0,1])\n",
    "        logit = sm.Logit(y, X)\n",
    "        model = logit.fit(method='bfgs',disp = False)\n",
    "        model_odds = pd.DataFrame(np.exp(model.params), columns=['OR'])\n",
    "        model_odds['p-value'] = model.pvalues\n",
    "        model_odds[['2.5%','97.5%']]= np.exp(model.conf_int())\n",
    "        model_odds.rename(index={'x1': column}, inplace = True)\n",
    "        # insert it into the dataframe 'univariable'\n",
    "        univariable.at[column,'OR (95% CI)'] = '{OR:.3f} ({lower:.3f} to {upper:.3f})'.format(OR = model_odds.at[column, 'OR'], \n",
    "                                                                                            lower = model_odds.at[column, '2.5%'], \n",
    "                                                                                            upper = model_odds.at[column, '97.5%'])\n",
    "        univariable.at[column,'p-value'] = '{0:.3f}'.format(model_odds.at[column, 'p-value'])\n",
    "        p_value.append(model_odds.at[column, 'p-value'])\n",
    "        OR.append(model_odds.at[column, 'OR'])\n",
    "        time.append(int_timelimit)\n",
    "\n",
    "univariable"
   ]
  },
  {
   "cell_type": "code",
   "execution_count": null,
   "id": "3bd2fc0e",
   "metadata": {},
   "outputs": [],
   "source": [
    "import matplotlib.pyplot as plt\n",
    "\n",
    "fig, ax = plt.subplots()\n",
    "ax.plot(time, OR, label='OR',color='blue')\n",
    "ax.set_xlabel(\"ventilation time\")\n",
    "ax.set_ylabel(\"OR\")\n",
    "\n",
    "ax2=ax.twinx()\n",
    "ax2.plot(time, p_value, label='p-val',color='orange')\n",
    "ax2.set_ylabel(\"p-val\")\n"
   ]
  },
  {
   "cell_type": "code",
   "execution_count": null,
   "id": "8052c04a",
   "metadata": {},
   "outputs": [],
   "source": [
    "x1 = dfImputed1['duration1'][dfImputed1['lang_ENGL']==1].dropna(axis=0,how='any')\n",
    "x2 = dfImputed1['duration1'][dfImputed1['lang_ENGL']==0].dropna(axis=0,how='any')\n",
    "plt.hist(x1,bins=[-0.1,2,4,6,10,13,16,20,25,30,40,50,60],range=(0,60))\n",
    "plt.hist(x2,bins=[-0.1,2,4,6,10,13,16,20,25,30,40,50,60],range=(0,60),color='orange')\n",
    "print('mean English: '+str(np.mean(x1)))\n",
    "print('mean non-English: '+str(np.mean(x2)))\n",
    "print('t_test p-val;: '+str(ttest_ind(x1, x2)[1]))"
   ]
  },
  {
   "cell_type": "code",
   "execution_count": null,
   "id": "07cd6b9a",
   "metadata": {},
   "outputs": [],
   "source": []
  }
 ],
 "metadata": {
  "interpreter": {
   "hash": "0652ecffa332becfb8e0a3b24d51fbf4b8e2da78993fa6a399295ab431c37288"
  },
  "kernelspec": {
   "display_name": "Python 3.9.7 64-bit ('tridentenv': conda)",
   "language": "python",
   "name": "python3"
  },
  "language_info": {
   "codemirror_mode": {
    "name": "ipython",
    "version": 3
   },
   "file_extension": ".py",
   "mimetype": "text/x-python",
   "name": "python",
   "nbconvert_exporter": "python",
   "pygments_lexer": "ipython3",
   "version": "3.9.7"
  },
  "orig_nbformat": 4
 },
 "nbformat": 4,
 "nbformat_minor": 2
}
